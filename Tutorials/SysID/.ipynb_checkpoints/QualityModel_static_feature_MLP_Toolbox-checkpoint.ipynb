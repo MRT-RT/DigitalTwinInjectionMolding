{
 "cells": [
  {
   "cell_type": "markdown",
   "id": "6efa50ac",
   "metadata": {},
   "source": [
    "# Setpoint & Feature Qualitätsmodell mit der DIM-Toolbox"
   ]
  },
  {
   "cell_type": "markdown",
   "id": "b6c95f2a",
   "metadata": {},
   "source": [
    "Ziel des Tutorials ist den Workflow zur Identifikation von Feature-Qualitätsmodellen für den Spritzgießprozess mit der DIM-Toolbox zu veranschaulichen.\n",
    "\n",
    "Die für das Modelltraining (Schätzung der Modellparameter) und die Modellvalidierung verwendeten Daten wurden im Rahmen eines umfangreichen Versuchsplanes erhoben. Der Trainingsdatensatz umfasst die Daten von 2105 Produktionszyklen, der Validierungsdatensatz umfasst die Daten von 548 Produktionszyklen."
   ]
  },
  {
   "cell_type": "code",
   "execution_count": 1,
   "id": "9bd41068",
   "metadata": {},
   "outputs": [],
   "source": [
    "import pickle as pkl\n",
    "import seaborn as sns\n",
    "import matplotlib.pyplot as plt\n",
    "\n",
    "import sys\n",
    "sys.path.insert(0, \"/home/alexander/GitHub/DigitalTwinInjectionMolding/\")\n",
    "sys.path.insert(0, 'E:/GitHub/DigitalTwinInjectionMolding/')\n",
    "\n",
    "from DIM.miscellaneous.PreProcessing import LoadFeatureData,LoadSetpointData,MinMaxScale\n",
    "from DIM.models.model_structures import Static_MLP\n",
    "from DIM.optim.param_optim import ModelTraining, static_mode\n",
    "from DIM.optim.common import BestFitRate"
   ]
  },
  {
   "cell_type": "markdown",
   "id": "f12f8025",
   "metadata": {},
   "source": [
    "Spezifiziere Pfad zur Datenbasis und welche Chargen für Modellbildung und -validierung verwendet werden sollen "
   ]
  },
  {
   "cell_type": "code",
   "execution_count": 2,
   "id": "6a77045f",
   "metadata": {},
   "outputs": [],
   "source": [
    "path = 'E:/GitHub/DigitalTwinInjectionMolding/data/Versuchsplan/normalized/'\n",
    "charges = list(range(1,275))\n",
    "split = 'all' "
   ]
  },
  {
   "cell_type": "markdown",
   "id": "df15c87a",
   "metadata": {},
   "source": [
    "Spezifiziere Ein- und Ausgangsgrößen für Prozess- und Qualitätsmodell"
   ]
  },
  {
   "cell_type": "code",
   "execution_count": 3,
   "id": "7a9c7b89",
   "metadata": {},
   "outputs": [],
   "source": [
    "u_label_q = ['Düsentemperatur', 'Werkzeugtemperatur', 'Einspritzgeschwindigkeit',\n",
    " 'Umschaltpunkt', 'Nachdruckhöhe', 'Nachdruckzeit', 'Staudruck', 'Kühlzeit',\n",
    " 'T_wkz_0','p_wkz_max','t_pwkz_max', 't_Twkz_max']\n",
    "\n",
    "y_label_q = ['Durchmesser_innen']"
   ]
  },
  {
   "cell_type": "markdown",
   "id": "9ceefde9",
   "metadata": {},
   "source": [
    "Die Funktion LoadFeatureData() berechnet aus den Prozessgrößen jedes Spritzgießzykluses teilt die abgelegten Daten in Trainings- und Validierungsdaten ein"
   ]
  },
  {
   "cell_type": "code",
   "execution_count": 4,
   "id": "1e295c81",
   "metadata": {},
   "outputs": [],
   "source": [
    "data_train,data_val = LoadFeatureData(path,charges,split)"
   ]
  },
  {
   "cell_type": "markdown",
   "id": "605e79af",
   "metadata": {},
   "source": [
    "Es ist insbesondere bei der Verwendung Neuronaler Netze zweckmäßig, die Daten auf das Intervall [-1,1] zu skalieren, das geschieht mittels der Funktion MinMaxScale()"
   ]
  },
  {
   "cell_type": "code",
   "execution_count": 5,
   "id": "06dba792",
   "metadata": {},
   "outputs": [],
   "source": [
    "data_train,minmax = MinMaxScale(data_train,u_label_q+y_label_q)\n",
    "data_val,_ = MinMaxScale(data_val,u_label_q+y_label_q,minmax)"
   ]
  },
  {
   "cell_type": "markdown",
   "id": "ee20660e",
   "metadata": {},
   "source": [
    "Plotte eine Untermenge der Validierungsdaten zu Visualisierungszwecken"
   ]
  },
  {
   "cell_type": "code",
   "execution_count": 6,
   "id": "daa5541c",
   "metadata": {},
   "outputs": [
    {
     "data": {
      "text/plain": [
       "<AxesSubplot:ylabel='Durchmesser_innen'>"
      ]
     },
     "execution_count": 6,
     "metadata": {},
     "output_type": "execute_result"
    },
    {
     "data": {
      "image/png": "[encoded data removed]",
      "text/plain": [
       "<Figure size 1440x720 with 1 Axes>"
      ]
     },
     "metadata": {
      "needs_background": "light"
     },
     "output_type": "display_data"
    }
   ],
   "source": [
    "fig, ax = plt.subplots(figsize=(20, 10))\n",
    "\n",
    "idx_plot = data_val.index[0:50]\n",
    "\n",
    "sns.stripplot(x=idx_plot,y=data_val.loc[idx_plot,'Durchmesser_innen'],color='grey',alpha=.8,size=15,ax=ax)"
   ]
  },
  {
   "cell_type": "markdown",
   "id": "6391d587",
   "metadata": {},
   "source": [
    "Ein Neuronales Netz, welches Eingangsgrößen statisch auf Ausgangsgrößen abbildet ist Static_MLP. Bei der Erzeugung einer Instanz der Klasse Static_MLP müssen einige Parameter festgelegt werden:"
   ]
  },
  {
   "cell_type": "markdown",
   "id": "9836f63e",
   "metadata": {},
   "source": [
    "| Parameter | Typ | Erläuterung |\n",
    "| --- | --- | :-- |\n",
    "|dim_u : |int |Anzahl an Modelleingängen |\n",
    "|dim_hidden | int | Anzahl der Modellausgänge |\n",
    "|u_label| list of str |Namen der Eingangsgrößen, muss mit den Spaltenüberschriften in data_train, data_val übereinstimmen|\n",
    "|y_label| list of str |Namen der Ausgangsgrößen, muss mit den Spaltenüberschriften in data_train, data_val übereinstimmen|\n",
    "|name | str | Name des Modells, wird verwendet, um Modellparameter eindeutig zu identifizieren und bspw. von den Parametern anderer Instanzen der gleichen Klasse zu unterscheiden|\n",
    "|init_proc | str | Prozedur, die bei der Initialisierung der Modellparameter angewendet werden soll. Implementiert sind 'random', 'xavier' und 'he'|\n"
   ]
  },
  {
   "cell_type": "code",
   "execution_count": 8,
   "id": "ec9a151c",
   "metadata": {},
   "outputs": [],
   "source": [
    "model_q = Static_MLP(dim_u=12, dim_out=1, dim_hidden=10,u_label=u_label_q,\n",
    "                    y_label=y_label_q,name='qual', init_proc='xavier')"
   ]
  },
  {
   "cell_type": "markdown",
   "id": "e8cf44c3",
   "metadata": {},
   "source": [
    "Die Routine ModelTraining() erhält als Argument das zu optimierende Modell, Trainings- und Validierungsdaten, wie oft das Optimierungsproblem neu initialisiert und gelöst werden soll (nichtlineares Optimierungsproblem) sowie den Modus der Modellauswertung:"
   ]
  },
  {
   "cell_type": "markdown",
   "id": "5009f1c6",
   "metadata": {},
   "source": [
    "| Parameter | Typ | Erläuterung |\n",
    "| --- | --- | :-- |\n",
    "|model : | DIM.models | Zu optimierendes Modell |\n",
    "|data_train | pd.DataFrame | Trainingsdaten mit Beobachtungen in den Zeilen und Eingangs- / Ausgangsgrößen in den Spalten |\n",
    "|data_val| pd.DataFrame | Trainingsdaten mit Beobachtungen in den Zeilen und Eingangs- / Ausgangsgrößen in den Spalten |\n",
    "|initializations| int | Anzahl der Multistarts, i.e. wie oft die Parameter zufällig neu initialisiert und das Optimierungsproblem von vorne gelöst werden soll|\n",
    "|p_opts | dict | printing Optionen für CasADi, siehe https://web.casadi.org/docs/ |\n",
    "|s_opts | dict | An IPOPT zu übergebende Parameter, siehe https://coin-or.github.io/Ipopt/OPTIONS.html |\n",
    "|mode | str | Art der Modellauswertung, es wird unterschieden zwischen 'parallel', 'static' und 'series'|"
   ]
  },
  {
   "cell_type": "markdown",
   "id": "d458c5b5",
   "metadata": {},
   "source": [
    "Hier wird aus Zeitgründen ein fertiges Optimierungsergebnis geladen."
   ]
  },
  {
   "cell_type": "code",
   "execution_count": 9,
   "id": "0b74bf4e",
   "metadata": {},
   "outputs": [],
   "source": [
    "# result_q = ModelTraining(model_q,data_train,data_val,initializations=5,\n",
    "#                           p_opts=None,s_opts=None,mode='static')\n",
    "\n",
    "result_q = pkl.load(open('results_q_static_feature_trans.pkl','rb'))"
   ]
  },
  {
   "cell_type": "markdown",
   "id": "52538589",
   "metadata": {},
   "source": [
    "Für gewöhnlich müssen einige Multistarts ausgeführt werden (mindestens 10) für dieses Tutorial wird aus Zeitgründen nur ein einziger Optimierungsdurchlauf durchgeführt"
   ]
  },
  {
   "cell_type": "code",
   "execution_count": 10,
   "id": "1fe8bdbe",
   "metadata": {},
   "outputs": [
    {
     "name": "stdout",
     "output_type": "stream",
     "text": [
      "   loss_train   loss_val model  \\\n",
      "0   13.596980  21.314186  qual   \n",
      "1   13.649194  15.304465  qual   \n",
      "2   13.076875  14.835056  qual   \n",
      "3   13.464678  32.196692  qual   \n",
      "4   14.376430  35.902868  qual   \n",
      "\n",
      "                                        params_train  \\\n",
      "0  {'W_h_qual': [[2.3046604688933727, 1.973780378...   \n",
      "1  {'W_h_qual': [[0.3211097450238659, -22.4024190...   \n",
      "2  {'W_h_qual': [[0.1292968514542793, -0.33247990...   \n",
      "3  {'W_h_qual': [[11.278623600899193, -7.91052813...   \n",
      "4  {'W_h_qual': [[-2282.6073633516535, 1033.63853...   \n",
      "\n",
      "                                          params_val  \n",
      "0  {'W_h_qual': [[0.034210571464573424, 0.0393604...  \n",
      "1  {'W_h_qual': [[0.17184588091399883, -0.1065021...  \n",
      "2  {'W_h_qual': [[0.5050145433626134, 0.402451752...  \n",
      "3  {'W_h_qual': [[-0.01563753813846731, -0.404019...  \n",
      "4  {'W_h_qual': [[-0.2945775318270555, -0.3638834...  \n"
     ]
    }
   ],
   "source": [
    "print(result_q)"
   ]
  },
  {
   "cell_type": "markdown",
   "id": "901f33f0",
   "metadata": {},
   "source": [
    "ModelTraining() gibt einen Pandas DataFrame zurück. Dieser enthält den Wert der Kostenfunktion des Modells jeweils auf den Trainings- und Validierungsdaten sowie die zugehörigen Modellparameter. Die Instanz der Klasse Static_MLP selbst ist unverändert. Die neuen Parameter müssen dem Modell erst noch zugewiesen werden: "
   ]
  },
  {
   "cell_type": "code",
   "execution_count": 11,
   "id": "16185085",
   "metadata": {},
   "outputs": [],
   "source": [
    "model_q.Parameters = result_q.loc[2]['params_val']"
   ]
  },
  {
   "cell_type": "markdown",
   "id": "e21e053b",
   "metadata": {},
   "source": [
    "Das Modell mit den optimierten Parametern kann nun bspw. auf den Validerungsdaten (oder Daten des laufenden Betriebs) ausgewertet werden. Die Funktion static_mode() wertet ein statisches Modell auf einem gegebenen Datensatz aus."
   ]
  },
  {
   "cell_type": "code",
   "execution_count": 12,
   "id": "360c1056",
   "metadata": {},
   "outputs": [],
   "source": [
    "_,prediction_q = static_mode(model_q,data_val)"
   ]
  },
  {
   "cell_type": "markdown",
   "id": "5039d941",
   "metadata": {},
   "source": [
    "Die Bauteilqualität prediction_q wurde nun nur basierend auf den aus den Prozessgrößen ermittelten Features ermittelt.\n",
    "\n",
    "Um die Modellgüte zu beurteilen kann die Best Fit Rate berechnet werden:"
   ]
  },
  {
   "cell_type": "code",
   "execution_count": 13,
   "id": "f704cddd",
   "metadata": {},
   "outputs": [
    {
     "name": "stdout",
     "output_type": "stream",
     "text": [
      "85.05269951395184\n"
     ]
    }
   ],
   "source": [
    "print(BestFitRate(data_val[y_label_q].values, prediction_q[y_label_q].values))"
   ]
  },
  {
   "cell_type": "markdown",
   "id": "281ca138",
   "metadata": {},
   "source": [
    "Durch Gegenüberstellung der bekannten wahren Bauteilqualität mit der prädizierten Bauteilqualität kann das Ergebnis visualisiert werden:"
   ]
  },
  {
   "cell_type": "code",
   "execution_count": null,
   "id": "123fb5c2",
   "metadata": {},
   "outputs": [],
   "source": [
    "fig, ax = plt.subplots(figsize=(20, 10))\n",
    "sns.stripplot(x=idx_plot,y=data_val.loc[idx_plot,'Durchmesser_innen'],color='grey',alpha=.8,size=15,ax=ax)\n",
    "sns.stripplot(x=idx_plot,y=prediction_q.loc[idx_plot,'Durchmesser_innen'],size=15,ax=ax)"
   ]
  },
  {
   "cell_type": "code",
   "execution_count": null,
   "id": "04495947",
   "metadata": {},
   "outputs": [],
   "source": []
  }
 ],
 "metadata": {
  "kernelspec": {
   "display_name": "Python 3 (ipykernel)",
   "language": "python",
   "name": "python3"
  },
  "language_info": {
   "codemirror_mode": {
    "name": "ipython",
    "version": 3
   },
   "file_extension": ".py",
   "mimetype": "text/x-python",
   "name": "python",
   "nbconvert_exporter": "python",
   "pygments_lexer": "ipython3",
   "version": "3.9.7"
  }
 },
 "nbformat": 4,
 "nbformat_minor": 5
}
