{
 "cells": [
  {
   "cell_type": "markdown",
   "id": "6efa50ac",
   "metadata": {},
   "source": [
    "# Prädiktion der Bauteilqualität aus Maschinenparametern"
   ]
  },
  {
   "cell_type": "markdown",
   "id": "b6c95f2a",
   "metadata": {},
   "source": [
    "Ziel ist es ein statisches polynomiales Modell zu bestimmen, welches die eingestellen Maschinenparameter auf die resultierende Bauteilqualität abbildet. \n",
    "\n",
    "Die für das Modelltraining (Schätzung der Modellparameter) und die Modellvalidierung zu verwendenden Daten wurden im Rahmen eines umfangreichen Versuchsplanes erhoben. Der Trainingsdatensatz umfasst die Daten von 2105 Produktionszyklen, der Validierungsdatensatz umfasst die Daten von 548 Produktionszyklen"
   ]
  },
  {
   "cell_type": "code",
   "execution_count": 1,
   "id": "9bd41068",
   "metadata": {},
   "outputs": [],
   "source": [
    "import casadi as cs\n",
    "import pickle as pkl\n",
    "import matplotlib.pyplot as plt\n",
    "import numpy as np\n",
    "import pandas as pd\n",
    "import seaborn as sns"
   ]
  },
  {
   "cell_type": "code",
   "execution_count": 2,
   "id": "6a77045f",
   "metadata": {},
   "outputs": [],
   "source": [
    "data_train = pkl.load(open('setpoint_data_train.pkl','rb'))\n",
    "data_val= pkl.load(open('setpoint_data_val.pkl','rb'))"
   ]
  },
  {
   "cell_type": "markdown",
   "id": "b9b413f1",
   "metadata": {},
   "source": [
    "Plotte Ausgangsgröße (Bauteilqualität) des Trainings- und Validierungsdatensatzes"
   ]
  },
  {
   "cell_type": "code",
   "execution_count": null,
   "id": "1e295c81",
   "metadata": {},
   "outputs": [],
   "source": [
    "fig, ax = plt.subplots(figsize=(20, 10))\n",
    "sns.stripplot(x=data_train['charge'],y=data_train['Durchmesser_innen'],color='grey',alpha=.8,size=15,ax=ax)\n",
    "sns.stripplot(x=data_val['charge'],y=data_val['Durchmesser_innen'],size=15,ax=ax)\n",
    "ax.set_xlim([1,40]) # Zeige nur Teil des Plots da man sonst nicht viel erkennen kann "
   ]
  },
  {
   "cell_type": "markdown",
   "id": "14cbee6c",
   "metadata": {},
   "source": [
    "Definiere zu identifizierendes Modell as CasADi-Funktion"
   ]
  },
  {
   "cell_type": "code",
   "execution_count": 3,
   "id": "44f2ce6d",
   "metadata": {},
   "outputs": [],
   "source": [
    "theta0 = cs.MX.sym('theta',1,1)\n",
    "theta1 = cs.MX.sym('theta',8,1)\n",
    "theta2 = cs.MX.sym('theta',36,1)\n",
    "\n",
    "theta = cs.vcat([theta0,theta1,theta2])\n",
    "\n",
    "u = cs.MX.sym('u',8,1)\n",
    "\n",
    "interact = cs.mtimes(u,u.T)                       # Erhalte quadratische und Interaktionsterme durch u u'\n",
    "interact = [interact[i:,i] for i in range(0,8)]   # Wähle obere Dreiecksmatrix\n",
    "interact = cs.vcat(interact)                      # Forme um in einen Vektor\n",
    "\n",
    "y = theta0 + cs.mtimes(theta1.T,u) + cs.mtimes(theta2.T,interact)\n",
    "\n",
    "f_model = cs.Function('f_model',[u,theta],[y],['u','theta'],['y'])"
   ]
  },
  {
   "cell_type": "markdown",
   "id": "8001542b",
   "metadata": {},
   "source": [
    "Werte Modell auf den Trainingsdaten aus und baue die Kostenfunktion auf"
   ]
  },
  {
   "cell_type": "code",
   "execution_count": 4,
   "id": "e879c860",
   "metadata": {},
   "outputs": [],
   "source": [
    "L = 0\n",
    "\n",
    "u_label=['Düsentemperatur', 'Werkzeugtemperatur', 'Einspritzgeschwindigkeit',\n",
    "       'Umschaltpunkt', 'Nachdruckhöhe', 'Nachdruckzeit', 'Staudruck',\n",
    "       'Kühlzeit']\n",
    "\n",
    "y_label = ['Durchmesser_innen']\n",
    "\n",
    "for k in data_train.index:\n",
    "    u_k = data_train.loc[k][u_label].values.reshape((8,1))\n",
    "    \n",
    "    y_k = data_train.loc[k][y_label]\n",
    "    \n",
    "    y_hat = f_model(u=u_k, theta=theta)['y']\n",
    "    L = L + 0.5*(y_hat - y_k)**2"
   ]
  },
  {
   "cell_type": "code",
   "execution_count": 5,
   "id": "e5fa9bfe",
   "metadata": {},
   "outputs": [
    {
     "data": {
      "text/plain": [
       "numpy.ndarray"
      ]
     },
     "execution_count": 5,
     "metadata": {},
     "output_type": "execute_result"
    }
   ],
   "source": []
  },
  {
   "cell_type": "code",
   "execution_count": null,
   "id": "1425775f",
   "metadata": {},
   "outputs": [],
   "source": []
  },
  {
   "cell_type": "code",
   "execution_count": null,
   "id": "f3fd0b42",
   "metadata": {},
   "outputs": [],
   "source": [
    "qp = {'x':theta, 'f':L}\n",
    "S = cs.qpsol('S', 'qpoases', qp)\n",
    "r=S()\n",
    "\n",
    "theta_opt = r['x']"
   ]
  },
  {
   "cell_type": "code",
   "execution_count": null,
   "id": "39b58f9e",
   "metadata": {},
   "outputs": [],
   "source": [
    "y_hat = []\n",
    "\n",
    "for k in data_train.index:\n",
    "    u_k = data_train.loc[k][u_label].values.reshape((8,1))\n",
    "    \n",
    "    y_k = data_train.loc[k][y_label]\n",
    "    \n",
    "    y_hat.append(float(f_model(u=u_k, theta=theta_opt)['y']))\n",
    "    \n",
    "data_train = data_train.assign(y_hat=y_hat)"
   ]
  },
  {
   "cell_type": "code",
   "execution_count": null,
   "id": "5587ab38",
   "metadata": {},
   "outputs": [],
   "source": [
    "y_hat = []\n",
    "\n",
    "for k in data_val.index:\n",
    "    u_k = data_val.loc[k][u_label].values.reshape((8,1))\n",
    "    \n",
    "    y_k = data_val.loc[k][y_label]\n",
    "    \n",
    "    y_hat.append(float(f_model(u=u_k, theta=theta_opt)['y']))\n",
    "    \n",
    "data_val = data_val.assign(y_hat=y_hat)"
   ]
  },
  {
   "cell_type": "code",
   "execution_count": null,
   "id": "8ae9a111",
   "metadata": {},
   "outputs": [],
   "source": [
    "fig, ax = plt.subplots(figsize=(20, 10))\n",
    "sns.stripplot(x=data_train['charge'],y=data_train['Durchmesser_innen'],color='grey',alpha=.8,size=15,ax=ax)\n",
    "sns.stripplot(x=data_train['charge'],y=data_train['y_hat'],size=15,ax=ax)\n",
    "ax.set_xlim([1,50]) # Zeige nur Teil des Plots da man sonst nicht viel erkennen kann"
   ]
  },
  {
   "cell_type": "code",
   "execution_count": null,
   "id": "a96b04a1",
   "metadata": {},
   "outputs": [],
   "source": [
    "fig, ax = plt.subplots(figsize=(20, 10))\n",
    "sns.stripplot(x=data_val['charge'],y=data_val['Durchmesser_innen'],color='grey',alpha=.8,size=15,ax=ax)\n",
    "sns.stripplot(x=data_val['charge'],y=data_val['y_hat'],size=15,ax=ax)\n",
    "ax.set_xlim([1,50]) # Zeige nur Teil des Plots da man sonst nicht viel erkennen kann"
   ]
  },
  {
   "cell_type": "code",
   "execution_count": null,
   "id": "5078e1eb",
   "metadata": {},
   "outputs": [],
   "source": []
  }
 ],
 "metadata": {
  "kernelspec": {
   "display_name": "Python 3 (ipykernel)",
   "language": "python",
   "name": "python3"
  },
  "language_info": {
   "codemirror_mode": {
    "name": "ipython",
    "version": 3
   },
   "file_extension": ".py",
   "mimetype": "text/x-python",
   "name": "python",
   "nbconvert_exporter": "python",
   "pygments_lexer": "ipython3",
   "version": "3.9.7"
  }
 },
 "nbformat": 4,
 "nbformat_minor": 5
}
