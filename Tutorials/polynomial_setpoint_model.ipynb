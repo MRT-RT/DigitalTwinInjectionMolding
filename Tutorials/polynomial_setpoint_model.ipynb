{
 "cells": [
  {
   "cell_type": "markdown",
   "id": "6efa50ac",
   "metadata": {},
   "source": [
    "# Prädiktion der Bauteilqualität aus Maschinenparametern"
   ]
  },
  {
   "cell_type": "markdown",
   "id": "b6c95f2a",
   "metadata": {},
   "source": [
    "Ziel ist es ein statisches polynomiales Modell zu bestimmen, welches die eingestellen Maschinenparameter auf die resultierende Bauteilqualität abbildet. \n",
    "\n",
    "Die für das Modelltraining (Schätzung der Modellparameter) und die Modellvalidierung zu verwendenden Daten wurden im Rahmen eines umfangreichen Versuchsplanes erhoben. Der Trainingsdatensatz umfasst die Daten von 2105 Produktionszyklen, der Validierungsdatensatz umfasst die Daten von 548 Produktionszyklen"
   ]
  },
  {
   "cell_type": "code",
   "execution_count": 2,
   "id": "9bd41068",
   "metadata": {},
   "outputs": [],
   "source": [
    "import casadi as cs\n",
    "import pickle as pkl\n",
    "import matplotlib.pyplot as plt\n",
    "import numpy as np\n",
    "import pandas as pd\n",
    "import seaborn as sns"
   ]
  },
  {
   "cell_type": "code",
   "execution_count": 3,
   "id": "6a77045f",
   "metadata": {},
   "outputs": [],
   "source": [
    "data_train = pkl.load(open('setpoint_data_train.pkl','rb'))\n",
    "data_val= pkl.load(open('setpoint_data_val.pkl','rb'))"
   ]
  },
  {
   "cell_type": "markdown",
   "id": "b9b413f1",
   "metadata": {},
   "source": [
    "Plotte Ausgangsgröße (Bauteilqualität) des Trainings- und Validierungsdatensatzes"
   ]
  },
  {
   "cell_type": "code",
   "execution_count": null,
   "id": "1e295c81",
   "metadata": {},
   "outputs": [],
   "source": [
    "fig, ax = plt.subplots(figsize=(20, 10))\n",
    "sns.stripplot(x=data_train['charge'],y=data_train['Durchmesser_innen'],color='grey',alpha=.8,size=15,ax=ax)\n",
    "sns.stripplot(x=data_val['charge'],y=data_val['Durchmesser_innen'],size=15,ax=ax)\n",
    "ax.set_xlim([1,40]) # Zeige nur Teil des Plots da man sonst nicht viel erkennen kann "
   ]
  },
  {
   "cell_type": "markdown",
   "id": "14cbee6c",
   "metadata": {},
   "source": [
    "Definiere zu identifizierendes Modell as CasADi-Funktion"
   ]
  },
  {
   "cell_type": "code",
   "execution_count": 4,
   "id": "44f2ce6d",
   "metadata": {},
   "outputs": [],
   "source": [
    "theta0 = cs.MX.sym('theta',1,1)\n",
    "theta1 = cs.MX.sym('theta',8,1)\n",
    "theta2 = cs.MX.sym('theta',36,1)\n",
    "\n",
    "theta = cs.vcat([theta0,theta1,theta2])\n",
    "\n",
    "u = cs.MX.sym('u',8,1)\n",
    "\n",
    "interact = cs.mtimes(u,u.T)                       # Erhalte quadratische und Interaktionsterme durch u u'\n",
    "interact = [interact[i:,i] for i in range(0,8)]   # Wähle obere Dreiecksmatrix\n",
    "interact = cs.vcat(interact)                      # Forme um in einen Vektor\n",
    "\n",
    "y = theta0 + cs.mtimes(theta1.T,u) + cs.mtimes(theta2.T,interact)\n",
    "\n",
    "f_model = cs.Function('f_model',[u,theta],[y],['u','theta'],['y'])"
   ]
  },
  {
   "cell_type": "markdown",
   "id": "8001542b",
   "metadata": {},
   "source": [
    "Werte Modell auf den Trainingsdaten aus und baue die Kostenfunktion auf"
   ]
  },
  {
   "cell_type": "code",
   "execution_count": 5,
   "id": "e879c860",
   "metadata": {},
   "outputs": [],
   "source": [
    "L = 0\n",
    "\n",
    "u_label=['Düsentemperatur', 'Werkzeugtemperatur', 'Einspritzgeschwindigkeit',\n",
    "       'Umschaltpunkt', 'Nachdruckhöhe', 'Nachdruckzeit', 'Staudruck',\n",
    "       'Kühlzeit']\n",
    "\n",
    "y_label = ['Durchmesser_innen']\n",
    "\n",
    "for k in data_train.index:\n",
    "    u_k = data_train.loc[k][u_label].values.reshape((8,1))\n",
    "    \n",
    "    y_k = data_train.loc[k][y_label]\n",
    "    \n",
    "    y_hat = f_model(u=u_k, theta=theta)['y']\n",
    "    L = L + 0.5*(y_hat - y_k)**2"
   ]
  },
  {
   "cell_type": "code",
   "execution_count": null,
   "id": "e5fa9bfe",
   "metadata": {},
   "outputs": [],
   "source": []
  },
  {
   "cell_type": "code",
   "execution_count": null,
   "id": "1425775f",
   "metadata": {},
   "outputs": [],
   "source": []
  },
  {
   "cell_type": "code",
   "execution_count": 6,
   "id": "f3fd0b42",
   "metadata": {},
   "outputs": [
    {
     "name": "stdout",
     "output_type": "stream",
     "text": [
      "WARNING:   Stepsize is 0.000000000000000e+000\n",
      "\n",
      "\n",
      "#################   qpOASES  --  QP NO.   1   ##################\n",
      "\n",
      "    Iter   |    StepLength    |       Info       |   nFX    \n",
      " ----------+------------------+------------------+--------- \n",
      "       0   |   0.000000e+000   |   REM BND    0   |    44   \n",
      "       1   |   5.965321e-020   |   REM BND   35   |    43   \n",
      "       2   |   7.249005e-019   |   REM BND   37   |    42   \n",
      "       3   |   1.693629e-018   |   REM BND   26   |    41   \n",
      "       4   |   1.293076e-017   |   REM BND   13   |    40   \n",
      "       5   |   1.673658e-017   |   REM BND   20   |    39   \n",
      "       6   |   8.080040e-017   |   REM BND   38   |    38   \n",
      "       7   |   3.308844e-016   |   REM BND   15   |    37   \n",
      "       8   |   1.772395e-016   |   REM BND   36   |    36   \n",
      "       9   |   8.310436e-016   |   REM BND   11   |    35   \n",
      "      10   |   5.378711e-016   |   REM BND   28   |    34   \n",
      "      11   |   4.345350e-016   |   REM BND    9   |    33   \n",
      "      12   |   2.197520e-016   |   REM BND   31   |    32   \n",
      "      13   |   4.289327e-015   |   REM BND   42   |    31   \n",
      "      14   |   4.069415e-015   |   REM BND   10   |    30   \n",
      "      15   |   4.038322e-015   |   REM BND   22   |    29   \n",
      "      16   |   1.646139e-014   |   REM BND   43   |    28   \n",
      "      17   |   1.292517e-015   |   REM BND   18   |    27   \n",
      "      18   |   9.053353e-015   |   REM BND   16   |    26   \n",
      "      19   |   3.988153e-014   |   REM BND   24   |    25   \n",
      "      20   |   5.570928e-014   |   REM BND   29   |    24   \n",
      "      21   |   4.193425e-014   |   REM BND   40   |    23   \n",
      "      22   |   7.814073e-014   |   REM BND   14   |    22   \n",
      "      23   |   6.108023e-013   |   REM BND   27   |    21   \n",
      "      24   |   3.395920e-014   |   REM BND   12   |    20   \n",
      "      25   |   1.391277e-013   |   REM BND   23   |    19   \n",
      "      26   |   1.681924e-013   |   REM BND   33   |    18   \n",
      "      27   |   1.795522e-013   |   REM BND   17   |    17   \n",
      "      28   |   1.428828e-012   |   REM BND   25   |    16   \n",
      "      29   |   4.675458e-012   |   REM BND   21   |    15   \n",
      "      30   |   1.054961e-011   |   REM BND   41   |    14   \n",
      "      31   |   7.107816e-012   |   REM BND   19   |    13   \n",
      "      32   |   2.515157e-012   |   REM BND   44   |    12   \n",
      "      33   |   8.688995e-011   |   REM BND   34   |    11   \n",
      "      34   |   5.684038e-010   |   REM BND   32   |    10   \n",
      "      35   |   1.115935e-010   |   ADD BND    0   |    11   \n",
      "      36   |   1.088385e-012   |   REM BND    5   |    10   \n",
      "      37   |   5.595394e-010   |   REM BND    7   |     9   \n",
      "      38   |   2.125414e-009   |   REM BND   30   |     8   \n",
      "      39   |   2.306909e-010   |   REM BND   39   |     7   \n",
      "      40   |   6.193156e-010   |   REM BND    3   |     6   \n",
      "      41   |   5.494704e-009   |   REM BND    1   |     5   \n",
      "      42   |   1.950526e-007   |   REM BND    2   |     4   \n",
      "      43   |   4.306895e-007   |   REM BND    8   |     3   \n",
      "      44   |   1.096231e-006   |   REM BND    6   |     2   \n",
      "      45   |   1.539226e-004   |   REM BND    4   |     1   \n",
      "      46   |   1.330678e-003   |   REM BND    0   |     0   \n",
      "      47   |   1.000000e+000   |    QP SOLVED     |     0   \n"
     ]
    }
   ],
   "source": [
    "qp = {'x':theta, 'f':L}\n",
    "S = cs.qpsol('S', 'qpoases', qp)\n",
    "r=S()\n",
    "\n",
    "theta_opt = r['x']"
   ]
  },
  {
   "cell_type": "code",
   "execution_count": 32,
   "id": "39b58f9e",
   "metadata": {},
   "outputs": [
    {
     "name": "stdout",
     "output_type": "stream",
     "text": [
      "0.7503402141341882\n"
     ]
    }
   ],
   "source": [
    "y_hat = []\n",
    "\n",
    "for k in data_train.index:\n",
    "    u_k = data_train.loc[k][u_label].values.reshape((8,1))\n",
    "    \n",
    "    y_k = data_train.loc[k][y_label]\n",
    "    \n",
    "    y_hat.append(float(f_model(u=u_k, theta=theta_opt)['y']))\n",
    "    \n",
    "data_train = data_train.assign(y_hat=y_hat)\n",
    "\n",
    "R_train = 1 - sum((data_train[y_label[0]]-data_train['y_hat'])**2)/sum((data_train[y_label[0]]-data_train[y_label[0]].mean())**2)\n",
    "\n",
    "print('Bestimmheitsmaß auf den Trainingsdaten: '+str(R_train))"
   ]
  },
  {
   "cell_type": "code",
   "execution_count": 31,
   "id": "5587ab38",
   "metadata": {},
   "outputs": [
    {
     "name": "stdout",
     "output_type": "stream",
     "text": [
      "0.7902480871716883\n"
     ]
    }
   ],
   "source": [
    "y_hat = []\n",
    "\n",
    "for k in data_val.index:\n",
    "    u_k = data_val.loc[k][u_label].values.reshape((8,1))\n",
    "    \n",
    "    y_k = data_val.loc[k][y_label]\n",
    "    \n",
    "    y_hat.append(float(f_model(u=u_k, theta=theta_opt)['y']))\n",
    "    \n",
    "data_val = data_val.assign(y_hat=y_hat)\n",
    "\n",
    "R_val = 1 - sum((data_val[y_label[0]]-data_val['y_hat'])**2)/sum((data_val[y_label[0]]-data_val[y_label[0]].mean())**2)\n",
    "\n",
    "print('Bestimmheitsmaß auf den Validierungsdaten: '+str(R_train))"
   ]
  },
  {
   "cell_type": "code",
   "execution_count": null,
   "id": "8ae9a111",
   "metadata": {},
   "outputs": [],
   "source": [
    "fig, ax = plt.subplots(figsize=(20, 10))\n",
    "sns.stripplot(x=data_train['charge'],y=data_train['Durchmesser_innen'],color='grey',alpha=.8,size=15,ax=ax)\n",
    "sns.stripplot(x=data_train['charge'],y=data_train['y_hat'],size=15,ax=ax)\n",
    "ax.set_xlim([1,50]) # Zeige nur Teil des Plots da man sonst nicht viel erkennen kann\n",
    "\n"
   ]
  },
  {
   "cell_type": "code",
   "execution_count": null,
   "id": "a96b04a1",
   "metadata": {},
   "outputs": [],
   "source": [
    "fig, ax = plt.subplots(figsize=(20, 10))\n",
    "sns.stripplot(x=data_val['charge'],y=data_val['Durchmesser_innen'],color='grey',alpha=.8,size=15,ax=ax)\n",
    "sns.stripplot(x=data_val['charge'],y=data_val['y_hat'],size=15,ax=ax)\n",
    "ax.set_xlim([1,50]) # Zeige nur Teil des Plots da man sonst nicht viel erkennen kann"
   ]
  },
  {
   "cell_type": "code",
   "execution_count": 18,
   "id": "5078e1eb",
   "metadata": {},
   "outputs": [
    {
     "data": {
      "text/plain": [
       "Zyklusnummer\n",
       "11      27.351\n",
       "12      27.309\n",
       "14      27.307\n",
       "15      27.313\n",
       "16      27.279\n",
       "         ...  \n",
       "2777    27.744\n",
       "2778    27.720\n",
       "2780    27.691\n",
       "2781    27.684\n",
       "2782    27.681\n",
       "Name: Durchmesser_innen, Length: 2104, dtype: float64"
      ]
     },
     "execution_count": 18,
     "metadata": {},
     "output_type": "execute_result"
    }
   ],
   "source": [
    "data_train[y_label[0]]"
   ]
  },
  {
   "cell_type": "code",
   "execution_count": 22,
   "id": "fb73475b",
   "metadata": {},
   "outputs": [
    {
     "data": {
      "text/plain": [
       "-69.98178939034045"
      ]
     },
     "execution_count": 22,
     "metadata": {},
     "output_type": "execute_result"
    }
   ],
   "source": [
    "R_train"
   ]
  },
  {
   "cell_type": "code",
   "execution_count": 27,
   "id": "3bdb886a",
   "metadata": {},
   "outputs": [
    {
     "data": {
      "text/plain": [
       "3.185007813044649e-10"
      ]
     },
     "execution_count": 27,
     "metadata": {},
     "output_type": "execute_result"
    }
   ],
   "source": [
    "sum(data_train[y_label[0]]-data_train['y_hat'])"
   ]
  },
  {
   "cell_type": "code",
   "execution_count": 30,
   "id": "fe63405f",
   "metadata": {},
   "outputs": [
    {
     "data": {
      "text/plain": [
       "27.65650095057034"
      ]
     },
     "execution_count": 30,
     "metadata": {},
     "output_type": "execute_result"
    }
   ],
   "source": [
    "data_train[y_label[0]].mean()"
   ]
  },
  {
   "cell_type": "code",
   "execution_count": null,
   "id": "8e32c4b2",
   "metadata": {},
   "outputs": [],
   "source": []
  }
 ],
 "metadata": {
  "kernelspec": {
   "display_name": "Python 3 (ipykernel)",
   "language": "python",
   "name": "python3"
  },
  "language_info": {
   "codemirror_mode": {
    "name": "ipython",
    "version": 3
   },
   "file_extension": ".py",
   "mimetype": "text/x-python",
   "name": "python",
   "nbconvert_exporter": "python",
   "pygments_lexer": "ipython3",
   "version": "3.9.7"
  }
 },
 "nbformat": 4,
 "nbformat_minor": 5
}
