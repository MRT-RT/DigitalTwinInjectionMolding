{
 "cells": [
  {
   "cell_type": "markdown",
   "id": "6efa50ac",
   "metadata": {},
   "source": [
    "# Statisches Qualitätsmodell mit der DIM-Toolbox"
   ]
  },
  {
   "cell_type": "markdown",
   "id": "b6c95f2a",
   "metadata": {},
   "source": [
    "Ziel des Tutorials ist den Workflow zur Identifikation statischer Modelle für den Spritzgießprozess mit der DIM-Toolbox zu veranschaulichen.\n",
    "\n",
    "Die für das Modelltraining (Schätzung der Modellparameter) und die Modellvalidierung verwendeten Daten wurden im Rahmen eines umfangreichen Versuchsplanes erhoben. Der Trainingsdatensatz umfasst die Daten von 2105 Produktionszyklen, der Validierungsdatensatz umfasst die Daten von 548 Produktionszyklen."
   ]
  },
  {
   "cell_type": "code",
   "execution_count": 10,
   "id": "9bd41068",
   "metadata": {},
   "outputs": [],
   "source": [
    "import pickle as pkl\n",
    "import seaborn as sns\n",
    "import matplotlib.pyplot as plt\n",
    "\n",
    "import sys\n",
    "sys.path.insert(0, \"/home/alexander/GitHub/DigitalTwinInjectionMolding/\")\n",
    "sys.path.insert(0, 'E:/GitHub/DigitalTwinInjectionMolding/')\n",
    "\n",
    "from DIM.miscellaneous.PreProcessing import LoadSetpointData,MinMaxScale\n",
    "from DIM.models.model_structures import Static_MLP\n",
    "from DIM.optim.param_optim import ModelTraining, static_mode"
   ]
  },
  {
   "cell_type": "markdown",
   "id": "f12f8025",
   "metadata": {},
   "source": [
    "Spezifiziere Pfad zur Datenbasis und welche Chargen für Modellbildung und -validierung verwendet werden sollen "
   ]
  },
  {
   "cell_type": "code",
   "execution_count": 2,
   "id": "6a77045f",
   "metadata": {},
   "outputs": [],
   "source": [
    "path = 'E:/GitHub/DigitalTwinInjectionMolding/data/Versuchsplan/normalized/'\n",
    "charges = list(range(1,275))\n",
    "split = 'process'\n",
    "\n",
    "\n",
    "u_label = ['Düsentemperatur', 'Werkzeugtemperatur', 'Einspritzgeschwindigkeit',\n",
    " 'Umschaltpunkt', 'Nachdruckhöhe', 'Nachdruckzeit', 'Staudruck', 'Kühlzeit']\n",
    "\n",
    "y_label = ['Durchmesser_innen']"
   ]
  },
  {
   "cell_type": "markdown",
   "id": "9ceefde9",
   "metadata": {},
   "source": [
    "Die Funktion LoadSetpointData() teilt die abgelegten Daten in Trainings- und Validierungsdaten ein"
   ]
  },
  {
   "cell_type": "code",
   "execution_count": 3,
   "id": "1e295c81",
   "metadata": {},
   "outputs": [],
   "source": [
    "data_train,data_val = LoadSetpointData(path,charges,split,y_label)"
   ]
  },
  {
   "cell_type": "markdown",
   "id": "605e79af",
   "metadata": {},
   "source": [
    "Es ist insbesondere bei der Verwendung Neuronaler Netze zweckmäßig, die Daten auf das Intervall [-1,1] zu skalieren, das geschieht mittels der Funktion MinMaxScale()"
   ]
  },
  {
   "cell_type": "code",
   "execution_count": 4,
   "id": "06dba792",
   "metadata": {},
   "outputs": [],
   "source": [
    "data_train,minmax = MinMaxScale(data_train,u_label+y_label)\n",
    "data_val,_ = MinMaxScale(data_val,u_label+y_label,minmax)"
   ]
  },
  {
   "cell_type": "markdown",
   "id": "6391d587",
   "metadata": {},
   "source": [
    "Ein Neuronales Netz, welches Eingangsgrößen statisch auf Ausgangsgrößen abbildet ist Static_MLP. Bei der Erzeugung einer Instanz der Klasse Static_MLP müssen einige Parameter festgelegt werden:"
   ]
  },
  {
   "cell_type": "markdown",
   "id": "9836f63e",
   "metadata": {},
   "source": [
    "| Parameter | Typ | Erläuterung |\n",
    "| --- | --- | :-- |\n",
    "|dim_u : |int |Anzahl an Modelleingängen |\n",
    "|dim_hidden | int | Anzahl der Modellausgänge |\n",
    "|u_label| list of str |Namen der Eingangsgrößen, muss mit den Spaltenüberschriften in data_train, data_val übereinstimmen|\n",
    "|y_label| list of str |Namen der Ausgangsgrößen, muss mit den Spaltenüberschriften in data_train, data_val übereinstimmen|\n",
    "|name | str | Name des Modells, wird verwendet, um Modellparameter eindeutig zu identifizieren und bspw. von den Parametern anderer Instanzen der gleichen Klasse zu unterscheiden|\n",
    "|init_proc | str | Prozedur, die bei der Initialisierung der Modellparameter angewendet werden soll. Implementiert sind 'random', 'xavier' und 'he'|\n"
   ]
  },
  {
   "cell_type": "code",
   "execution_count": 5,
   "id": "ec9a151c",
   "metadata": {},
   "outputs": [],
   "source": [
    "model_q = Static_MLP(dim_u=8, dim_out=1, dim_hidden=4,u_label=u_label_q,\n",
    "                    y_label=y_label_q,name='qual', init_proc='xavier')"
   ]
  },
  {
   "cell_type": "markdown",
   "id": "e8cf44c3",
   "metadata": {},
   "source": [
    "Die Routine ModelTraining() erhält als Argument das zu optimierende Modell, Trainings- und Validierungsdaten, wie oft das Optimierungsproblem neu initialisiert und gelöst werden soll (nichtlineares Optimierungsproblem) sowie den Modus der Modellauswertung:"
   ]
  },
  {
   "cell_type": "markdown",
   "id": "5009f1c6",
   "metadata": {},
   "source": [
    "| Parameter | Typ | Erläuterung |\n",
    "| --- | --- | :-- |\n",
    "|model : | DIM.models | Zu optimierendes Modell |\n",
    "|data_train | pd.DataFrame | Trainingsdaten mit Beobachtungen in den Zeilen und Eingangs- / Ausgangsgrößen in den Spalten |\n",
    "|data_val| pd.DataFrame | Trainingsdaten mit Beobachtungen in den Zeilen und Eingangs- / Ausgangsgrößen in den Spalten |\n",
    "|initializations| int | Anzahl der Multistarts, i.e. wie oft die Parameter zufällig neu initialisiert und das Optimierungsproblem von vorne gelöst werden soll|\n",
    "|p_opts | dict | printing Optionen für CasADi, siehe https://web.casadi.org/docs/ |\n",
    "|s_opts | dict | An IPOPT zu übergebende Parameter, siehe https://coin-or.github.io/Ipopt/OPTIONS.html |\n",
    "|mode | str | Art der Modellauswertung, es wird unterschieden zwischen 'parallel', 'static' und 'series'|"
   ]
  },
  {
   "cell_type": "code",
   "execution_count": 6,
   "id": "0b74bf4e",
   "metadata": {},
   "outputs": [
    {
     "name": "stdout",
     "output_type": "stream",
     "text": [
      "\n",
      "******************************************************************************\n",
      "This program contains Ipopt, a library for large-scale nonlinear optimization.\n",
      " Ipopt is released as open source code under the Eclipse Public License (EPL).\n",
      "         For more information visit http://projects.coin-or.org/Ipopt\n",
      "******************************************************************************\n",
      "\n",
      "Validation loss: 2264.23\n",
      "Validation loss: 531.177\n",
      "Validation loss: 188.667\n",
      "Validation loss: 105.357\n",
      "Validation loss: 62.8812\n",
      "Validation loss: 40.04\n",
      "Validation loss: 38.0657\n",
      "Validation loss: 34.0897\n",
      "Validation loss: 31.2243\n",
      "Validation loss: 31.1227\n",
      "Validation loss: 29.8901\n",
      "Validation loss: 28.5176\n",
      "Validation loss: 28.1076\n",
      "Validation loss: 27.6742\n",
      "Validation loss: 27.5229\n",
      "Validation loss: 26.6852\n",
      "Validation loss: 26.6155\n",
      "Validation loss: 26.3767\n",
      "Validation loss: 25.1965\n",
      "Validation loss: 24.9045\n",
      "Validation loss: 24.7933\n",
      "Validation loss: 24.591\n",
      "Validation loss: 24.4904\n",
      "      solver  :   t_proc      (avg)   t_wall      (avg)    n_eval\n",
      "callback_fun  |   1.04 s (  1.04ms)   1.04 s (  1.04ms)      1001\n",
      "       nlp_f  |   3.73 s (  1.36ms)   3.73 s (  1.36ms)      2750\n",
      "  nlp_grad_f  |   4.26 s (  4.25ms)   4.26 s (  4.25ms)      1002\n",
      "  nlp_hess_l  | 287.93 s (287.93ms) 287.94 s (287.94ms)      1000\n",
      "       total  | 297.64 s (297.64 s) 297.64 s (297.64 s)         1\n"
     ]
    }
   ],
   "source": [
    "result_q = pkl.load(open('results_q_feature_stationary.pkl','rb'))"
   ]
  },
  {
   "cell_type": "markdown",
   "id": "52538589",
   "metadata": {},
   "source": [
    "Für gewöhnlich müssen einige Multistarts ausgeführt werden (mindestens 10) für dieses Tutorial wird aus Zeitgründen nur ein einziger Optimierungsdurchlauf durchgeführt"
   ]
  },
  {
   "cell_type": "markdown",
   "id": "901f33f0",
   "metadata": {},
   "source": [
    "ModelTraining() gibt einen Pandas DataFrame zurück. Dieser enthält den Wert der Kostenfunktion des Modells jeweils auf den Trainings- und Validierungsdaten sowie die zugehörigen Modellparameter. Die Instanz der Klasse Static_MLP selbst ist unverändert. Die neuen Parameter müssen dem Modell erst noch zugewiesen werden: "
   ]
  },
  {
   "cell_type": "code",
   "execution_count": 7,
   "id": "16185085",
   "metadata": {},
   "outputs": [],
   "source": [
    "model_q.Parameters = result_q.loc[0]['params_val']"
   ]
  },
  {
   "cell_type": "markdown",
   "id": "e21e053b",
   "metadata": {},
   "source": [
    "Das Modell mit den optimierten Parametern kann nun bspw. auf den Validerungsdaten (oder Daten des laufenden Betriebs) ausgewertet werden. Die Funktion static_mode() wertet ein statisches Modell auf einem gegebenen Datensatz aus."
   ]
  },
  {
   "cell_type": "code",
   "execution_count": 8,
   "id": "360c1056",
   "metadata": {},
   "outputs": [],
   "source": [
    "_,prediction_q = static_mode(model_q,data_val)"
   ]
  },
  {
   "cell_type": "markdown",
   "id": "5039d941",
   "metadata": {},
   "source": [
    "Visualisiere die Ergebnisse, indem die bekannten wahren Qualitätswerte sowie die vom Modell prädizierten Qualitätswerte geplottet werden"
   ]
  },
  {
   "cell_type": "code",
   "execution_count": 1,
   "id": "123fb5c2",
   "metadata": {},
   "outputs": [
    {
     "ename": "NameError",
     "evalue": "name 'plt' is not defined",
     "output_type": "error",
     "traceback": [
      "\u001b[0;31m---------------------------------------------------------------------------\u001b[0m",
      "\u001b[0;31mNameError\u001b[0m                                 Traceback (most recent call last)",
      "Input \u001b[0;32mIn [1]\u001b[0m, in \u001b[0;36m<cell line: 1>\u001b[0;34m()\u001b[0m\n\u001b[0;32m----> 1\u001b[0m fig, ax \u001b[38;5;241m=\u001b[39m \u001b[43mplt\u001b[49m\u001b[38;5;241m.\u001b[39msubplots(figsize\u001b[38;5;241m=\u001b[39m(\u001b[38;5;241m20\u001b[39m, \u001b[38;5;241m10\u001b[39m))\n\u001b[1;32m      2\u001b[0m sns\u001b[38;5;241m.\u001b[39mstripplot(x\u001b[38;5;241m=\u001b[39mdata_val\u001b[38;5;241m.\u001b[39mindex,y\u001b[38;5;241m=\u001b[39mdata_val[\u001b[38;5;124m'\u001b[39m\u001b[38;5;124mDurchmesser_innen\u001b[39m\u001b[38;5;124m'\u001b[39m],color\u001b[38;5;241m=\u001b[39m\u001b[38;5;124m'\u001b[39m\u001b[38;5;124mgrey\u001b[39m\u001b[38;5;124m'\u001b[39m,alpha\u001b[38;5;241m=\u001b[39m\u001b[38;5;241m.8\u001b[39m,size\u001b[38;5;241m=\u001b[39m\u001b[38;5;241m15\u001b[39m,ax\u001b[38;5;241m=\u001b[39max)\n\u001b[1;32m      3\u001b[0m sns\u001b[38;5;241m.\u001b[39mstripplot(x\u001b[38;5;241m=\u001b[39mprediction\u001b[38;5;241m.\u001b[39mindex,y\u001b[38;5;241m=\u001b[39mprediction[\u001b[38;5;124m'\u001b[39m\u001b[38;5;124mDurchmesser_innen\u001b[39m\u001b[38;5;124m'\u001b[39m],size\u001b[38;5;241m=\u001b[39m\u001b[38;5;241m15\u001b[39m,ax\u001b[38;5;241m=\u001b[39max)\n",
      "\u001b[0;31mNameError\u001b[0m: name 'plt' is not defined"
     ]
    }
   ],
   "source": [
    "print(BestFitRate(data_val[y_label_q].values, prediction_q[y_label_q].values))\n",
    "\n",
    "fig, ax = plt.subplots(figsize=(20, 10))\n",
    "sns.stripplot(x=data_val.index,y=data_val['Durchmesser_innen'],color='grey',alpha=.8,size=15,ax=ax)\n",
    "sns.stripplot(x=prediction.index,y=prediction['Durchmesser_innen'],size=15,ax=ax)\n",
    "ax.set_xlim([1,50]) "
   ]
  },
  {
   "cell_type": "code",
   "execution_count": null,
   "id": "04495947",
   "metadata": {},
   "outputs": [],
   "source": []
  }
 ],
 "metadata": {
  "kernelspec": {
   "display_name": "Python 3 (ipykernel)",
   "language": "python",
   "name": "python3"
  },
  "language_info": {
   "codemirror_mode": {
    "name": "ipython",
    "version": 3
   },
   "file_extension": ".py",
   "mimetype": "text/x-python",
   "name": "python",
   "nbconvert_exporter": "python",
   "pygments_lexer": "ipython3",
   "version": "3.8.8"
  }
 },
 "nbformat": 4,
 "nbformat_minor": 5
}
