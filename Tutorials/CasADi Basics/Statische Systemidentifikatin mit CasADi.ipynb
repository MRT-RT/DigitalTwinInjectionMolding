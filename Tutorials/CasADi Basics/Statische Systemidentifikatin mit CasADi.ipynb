{
 "cells": [
  {
   "cell_type": "markdown",
   "id": "99b5edbb",
   "metadata": {},
   "source": [
    "# Statische Systemidentifikation mit CasADi"
   ]
  },
  {
   "cell_type": "code",
   "execution_count": 4,
   "id": "1a34db79",
   "metadata": {},
   "outputs": [],
   "source": [
    "import casadi as cs\n",
    "import pickle as pkl\n",
    "import matplotlib.pyplot as plt\n",
    "import numpy as np"
   ]
  },
  {
   "cell_type": "markdown",
   "id": "254c35ec",
   "metadata": {},
   "source": [
    "Gegeben seien Messdaten eines technischen Prozesses mit zwei Eingangssignalen $u_{1}$,$u_{2}$ und einem Ausgangssignal $y_{1}$"
   ]
  },
  {
   "cell_type": "code",
   "execution_count": 5,
   "id": "f7bb023e",
   "metadata": {},
   "outputs": [],
   "source": [
    "data = pkl.load(open('./data/static_data.pkl','rb'))"
   ]
  },
  {
   "cell_type": "code",
   "execution_count": 6,
   "id": "76d6a2b8",
   "metadata": {},
   "outputs": [
    {
     "data": {
      "text/plain": [
       "Text(0.5, 0, 'y')"
      ]
     },
     "execution_count": 6,
     "metadata": {},
     "output_type": "execute_result"
    },
    {
     "data": {
      "image/png": "[encoded data removed]",
      "text/plain": [
       "<Figure size 432x288 with 1 Axes>"
      ]
     },
     "metadata": {
      "needs_background": "light"
     },
     "output_type": "display_data"
    }
   ],
   "source": [
    "fig = plt.figure()\n",
    "ax = fig.add_subplot(projection='3d')\n",
    "ax.elev = 10 # Höhe der Betrachung\n",
    "ax.azim = 235 # Neigungswinkel der Betrachtung\n",
    "ax.scatter(data['u1'],data['u2'],data['y'])\n",
    "\n",
    "ax.set_xlabel('u_1')\n",
    "ax.set_ylabel('u_2')\n",
    "ax.set_zlabel('y')"
   ]
  },
  {
   "cell_type": "markdown",
   "id": "74554b28",
   "metadata": {},
   "source": [
    "Als Modellierungsansatz wird ein statisches polynomiales Modell gewählt:\n",
    "$y_{k}=\\theta_{1} u_{1,k}^3 + \\theta_{2} u_{1,k}^2 + \\theta_{3} u_{1,k} + \\theta_{4} u_{2,k}^3 + \\theta_{5} u_{2,k}^2 + \\theta_{6} u_{2,k}$"
   ]
  },
  {
   "cell_type": "code",
   "execution_count": 7,
   "id": "83a92f1a",
   "metadata": {},
   "outputs": [],
   "source": [
    "theta = cs.MX.sym('theta',6,1)\n",
    "\n",
    "u = cs.MX.sym('u',2,1)\n",
    "y = theta[0]*u[0]**3 + theta[1]*u[0]**2 + theta[2]*u[0] + theta[3]*u[1]**3 + theta[4]*u[1]**2 + theta[5]*u[1]"
   ]
  },
  {
   "cell_type": "markdown",
   "id": "145cc29c",
   "metadata": {},
   "source": [
    "Die Modellgleichung kann bereits als CasADi-Funktion definiert werden:"
   ]
  },
  {
   "cell_type": "code",
   "execution_count": 8,
   "id": "6e12a297",
   "metadata": {},
   "outputs": [],
   "source": [
    "f_model = cs.Function('f_model',[u,theta],[y],['u','theta'],['y'])"
   ]
  },
  {
   "cell_type": "markdown",
   "id": "47caec87",
   "metadata": {},
   "source": [
    "Anschließend muss die zu optimierende Funktion als CasADi-Funktion definiert werden. Ziel der Optimierung ist $\\boldsymbol{\\theta}$ so zu wählen, dass die Summe der Abweichungsquadrate $L = \\frac{1}{2}\\sum\\limits_{k}^{N} (\\hat{y}_{k}-y_{k})^2$ minimiert wird:"
   ]
  },
  {
   "cell_type": "code",
   "execution_count": 9,
   "id": "1643e7c2",
   "metadata": {},
   "outputs": [],
   "source": [
    "L = 0\n",
    "for k in range(0,1000):\n",
    "    u_k = data.loc[k][['u1','u2']].values.reshape((2,1))\n",
    "    y_k = data.loc[k]['y']\n",
    "    \n",
    "    y_hat = f_model(u=u_k, theta=theta)['y']\n",
    "    L = L + 0.5*(y_hat - y_k)**2\n",
    "    "
   ]
  },
  {
   "cell_type": "markdown",
   "id": "0c4342ad",
   "metadata": {},
   "source": [
    "$L$ is nun ein CasADi-Ausdruck, der die Summe des quadratischen Prädiktionsfehlers in Abhängigkeit der Modellparameter $\\boldsymbol{\\theta}$ beinhaltet. Eine Abhängigkeit von den Eingangs- oder Ausgangssignalen $u_{1}$, $u_{2}$ und $y$ besteht nicht mehr, da diese bereits \"eingesetzt\" wurden. "
   ]
  },
  {
   "cell_type": "markdown",
   "id": "66463244",
   "metadata": {},
   "source": [
    "Anschließend können nun Jacobi-Matrix und Hesse-Matrix gebildet werden"
   ]
  },
  {
   "cell_type": "code",
   "execution_count": 10,
   "id": "f8bb2a8f",
   "metadata": {},
   "outputs": [],
   "source": [
    "L_jac = cs.jacobian(L,theta)\n",
    "L_hess = cs.hessian(L,theta)[0]"
   ]
  },
  {
   "cell_type": "markdown",
   "id": "2d3a3384",
   "metadata": {},
   "source": [
    "und das gesamte Optimierungsproblem in eine CasADi-Funktion gekapselt werden:"
   ]
  },
  {
   "cell_type": "code",
   "execution_count": 11,
   "id": "154d57ad",
   "metadata": {},
   "outputs": [],
   "source": [
    "opt = cs.Function('opt',[theta],[L,L_jac,L_hess],['theta'],['L','L_jac','L_hess'])"
   ]
  },
  {
   "cell_type": "markdown",
   "id": "9fb1aadf",
   "metadata": {},
   "source": [
    "Die Kostenfunktion ist quadratisch, da der Modellansatz linear in den Parametern $\\boldsymbol{\\theta}$ ist ($\\hat{y}=\\sum\\limits_{i}^{n}\\theta_{i}u_{i}$): \n",
    "\n",
    "$\\underset{\\boldsymbol{\\theta}}{\\mathrm{minimize}} \\qquad \\frac{1}{2}\\boldsymbol{\\theta}^{T}\\boldsymbol{H}\\boldsymbol{\\theta} + \\boldsymbol{g}^{T}\\boldsymbol{\\theta}$\n",
    "\n",
    "\n",
    "Das bedeutet die Lösung des Optimierungsproblems ist eindeutig (globales Optimum) und kann in einem einzigen Schritt ermittelt werden."
   ]
  },
  {
   "cell_type": "markdown",
   "id": "0f40b1c7",
   "metadata": {},
   "source": [
    "Casadi stellt ein Interface für quadratische Solver bereit: \"conic\" "
   ]
  },
  {
   "cell_type": "code",
   "execution_count": 12,
   "id": "ab87bdc9",
   "metadata": {},
   "outputs": [],
   "source": [
    "qp_struct = {}\n",
    "qp_struct['h'] = L_hess.sparsity()\n",
    "\n",
    "solver = cs.conic('solver','qpoases',qp_struct)"
   ]
  },
  {
   "cell_type": "markdown",
   "id": "7798bdb6",
   "metadata": {},
   "source": [
    "Der Solver wird aufgerufen, indem ein Startwert für die gesuchten Parameter übergeben wird:"
   ]
  },
  {
   "cell_type": "code",
   "execution_count": 13,
   "id": "f8cb3d8a",
   "metadata": {},
   "outputs": [
    {
     "name": "stdout",
     "output_type": "stream",
     "text": [
      "WARNING:   Stepsize is 0.000000000000000e+000\n",
      "\n",
      "\n",
      "#################   qpOASES  --  QP NO.   1   ##################\n",
      "\n",
      "    Iter   |    StepLength    |       Info       |   nFX    \n",
      " ----------+------------------+------------------+--------- \n",
      "       0   |   0.000000e+000   |   REM BND    0   |     5   \n",
      "       1   |   8.087058e-012   |   REM BND    1   |     4   \n",
      "       2   |   1.423265e-011   |   REM BND    3   |     3   \n",
      "       3   |   1.311948e-010   |   REM BND    4   |     2   \n",
      "       4   |   1.292619e-010   |   REM BND    2   |     1   \n",
      "       5   |   7.495392e-010   |   REM BND    5   |     0   \n",
      "       6   |   1.000000e+000   |    QP SOLVED     |     0   \n"
     ]
    }
   ],
   "source": [
    "theta_init = np.array([[2],[2],[2],[2],[2],[2]])\n",
    "L_val,L_jac,L_hess = opt(theta_init)\n",
    "\n",
    "result = solver(h=L_hess, g=L_jac)\n",
    "\n",
    "d_theta = result['x']"
   ]
  },
  {
   "cell_type": "markdown",
   "id": "a5e2dee5",
   "metadata": {},
   "source": [
    "Die optimalen Parameter sind dann"
   ]
  },
  {
   "cell_type": "code",
   "execution_count": 14,
   "id": "5e0ee3d4",
   "metadata": {},
   "outputs": [
    {
     "name": "stdout",
     "output_type": "stream",
     "text": [
      "[0.1, -2.22045e-015, 1, -8.88178e-016, -1.8, -0.1]\n"
     ]
    }
   ],
   "source": [
    "theta_opt = theta_init + d_theta\n",
    "print(theta_opt)"
   ]
  },
  {
   "cell_type": "markdown",
   "id": "55beec68",
   "metadata": {},
   "source": [
    "Auswertung des Modells mit den optimierten Parametern auf den Trainingsdaten:"
   ]
  },
  {
   "cell_type": "code",
   "execution_count": 15,
   "id": "410cd94f",
   "metadata": {},
   "outputs": [],
   "source": [
    "y_hat = []\n",
    "for k in range(0,1000):\n",
    "    u_k = data.loc[k][['u1','u2']].values.reshape((2,1))\n",
    "    y_k = data.loc[k]['y']\n",
    "    \n",
    "    y_hat.append(float(f_model(u=u_k, theta=theta_opt)['y']))\n",
    "\n",
    "data = data.assign(y_hat=y_hat)"
   ]
  },
  {
   "cell_type": "markdown",
   "id": "34e889e2",
   "metadata": {},
   "source": [
    "Auswertung des Modells mit den optimalen Parametern auf den Messdaten"
   ]
  },
  {
   "cell_type": "code",
   "execution_count": 16,
   "id": "941c5ad6",
   "metadata": {},
   "outputs": [
    {
     "data": {
      "text/plain": [
       "Text(0.5, 0, 'y')"
      ]
     },
     "execution_count": 16,
     "metadata": {},
     "output_type": "execute_result"
    },
    {
     "data": {
      "image/png": "[encoded data removed]",
      "text/plain": [
       "<Figure size 432x288 with 1 Axes>"
      ]
     },
     "metadata": {
      "needs_background": "light"
     },
     "output_type": "display_data"
    }
   ],
   "source": [
    "ax.scatter(data['u1'],data['u2'],data['y_hat'])\n",
    "fig = plt.figure()\n",
    "ax = fig.add_subplot(projection='3d')\n",
    "ax.elev = 10 # Höhe der Betrachung\n",
    "ax.azim = 235 # Neigungswinkel der Betrachtung\n",
    "ax.scatter(data['u1'],data['u2'],data['y'])\n",
    "ax.scatter(data['u1'],data['u2'],data['y_hat'])\n",
    "\n",
    "ax.set_xlabel('u_1')\n",
    "ax.set_ylabel('u_2')\n",
    "ax.set_zlabel('y')"
   ]
  },
  {
   "cell_type": "markdown",
   "id": "ee8d9f84",
   "metadata": {},
   "source": [
    "Alternative High-Level Interface:"
   ]
  },
  {
   "cell_type": "code",
   "execution_count": 17,
   "id": "ba712760",
   "metadata": {},
   "outputs": [
    {
     "name": "stdout",
     "output_type": "stream",
     "text": [
      "WARNING:   Stepsize is 0.000000000000000e+000\n",
      "\n",
      "\n",
      "#################   qpOASES  --  QP NO.   1   ##################\n",
      "\n",
      "    Iter   |    StepLength    |       Info       |   nFX    \n",
      " ----------+------------------+------------------+--------- \n",
      "       0   |   0.000000e+000   |   REM BND    0   |     5   \n",
      "       1   |   8.087048e-012   |   REM BND    1   |     4   \n",
      "       2   |   1.423264e-011   |   REM BND    3   |     3   \n",
      "       3   |   1.311946e-010   |   REM BND    4   |     2   \n",
      "       4   |   1.292618e-010   |   REM BND    2   |     1   \n",
      "       5   |   7.495385e-010   |   REM BND    5   |     0   \n",
      "       6   |   1.000000e+000   |    QP SOLVED     |     0   \n"
     ]
    },
    {
     "data": {
      "text/plain": [
       "DM([0.1, -4.68375e-016, 1, -7.41052e-017, -1.8, -0.1])"
      ]
     },
     "execution_count": 17,
     "metadata": {},
     "output_type": "execute_result"
    }
   ],
   "source": [
    "qp = {'x':theta, 'f':L}\n",
    "S = cs.qpsol('S', 'qpoases', qp)\n",
    "r=S()\n",
    "\n",
    "r['x']"
   ]
  }
 ],
 "metadata": {
  "kernelspec": {
   "display_name": "Python 3 (ipykernel)",
   "language": "python",
   "name": "python3"
  },
  "language_info": {
   "codemirror_mode": {
    "name": "ipython",
    "version": 3
   },
   "file_extension": ".py",
   "mimetype": "text/x-python",
   "name": "python",
   "nbconvert_exporter": "python",
   "pygments_lexer": "ipython3",
   "version": "3.9.7"
  }
 },
 "nbformat": 4,
 "nbformat_minor": 5
}
