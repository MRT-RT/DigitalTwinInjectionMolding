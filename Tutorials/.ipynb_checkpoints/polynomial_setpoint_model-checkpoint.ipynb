{
 "cells": [
  {
   "cell_type": "markdown",
   "id": "6efa50ac",
   "metadata": {},
   "source": [
    "# Prädiktion der Bauteilqualität aus Maschinenparametern"
   ]
  },
  {
   "cell_type": "markdown",
   "id": "b6c95f2a",
   "metadata": {},
   "source": [
    "Ziel ist es ein statisches polynomiales Modell zu bestimmen, welches die eingestellen Maschinenparameter auf die resultierende Bauteilqualität abbildet. \n",
    "\n",
    "Die für das Modelltraining (Schätzung der Modellparameter) und die Modellvalidierung zu verwendenden Daten wurden im Rahmen eines umfangreichen Versuchsplanes erhoben. Der Trainingsdatensatz umfasst die Daten von 2105 Produktionszyklen, der Validierungsdatensatz umfasst die Daten von 548 Produktionszyklen"
   ]
  },
  {
   "cell_type": "code",
   "execution_count": 27,
   "id": "9bd41068",
   "metadata": {},
   "outputs": [],
   "source": [
    "import casadi as cs\n",
    "import pickle as pkl\n",
    "import matplotlib.pyplot as plt\n",
    "import numpy as np\n",
    "import pandas as pd\n",
    "import seaborn as sns"
   ]
  },
  {
   "cell_type": "code",
   "execution_count": 28,
   "id": "6a77045f",
   "metadata": {},
   "outputs": [],
   "source": [
    "data_train = pkl.load(open('setpoint_data_train.pkl','rb'))\n",
    "data_val= pkl.load(open('setpoint_data_val.pkl','rb'))"
   ]
  },
  {
   "cell_type": "markdown",
   "id": "c69a274f",
   "metadata": {},
   "source": [
    "Plotte Ausgangsgröße (Bauteilqualität) des Trainings- und Validierungsdatensatzes"
   ]
  },
  {
   "cell_type": "code",
   "execution_count": null,
   "id": "1e295c81",
   "metadata": {},
   "outputs": [],
   "source": [
    "fig, ax = plt.subplots(figsize=(20, 10))\n",
    "sns.stripplot(x=data_train['charge'],y=data_train['Durchmesser_innen'],color='grey',alpha=.8,size=20,ax=ax)\n",
    "sns.stripplot(x=data_val['charge'],y=data_val['Durchmesser_innen'],size=30,ax=ax)\n",
    "ax.set_xlim([1,40]) # Zeige nur Teil des Plots da man sonst nicht viel erkennen kann "
   ]
  },
  {
   "cell_type": "code",
   "execution_count": 43,
   "id": "06dba792",
   "metadata": {},
   "outputs": [
    {
     "data": {
      "text/plain": [
       "(1.0, 40.0)"
      ]
     },
     "execution_count": 43,
     "metadata": {},
     "output_type": "execute_result"
    }
   ],
   "source": []
  },
  {
   "cell_type": "code",
   "execution_count": null,
   "id": "e9b1f9bf",
   "metadata": {},
   "outputs": [],
   "source": []
  }
 ],
 "metadata": {
  "kernelspec": {
   "display_name": "Python 3 (ipykernel)",
   "language": "python",
   "name": "python3"
  },
  "language_info": {
   "codemirror_mode": {
    "name": "ipython",
    "version": 3
   },
   "file_extension": ".py",
   "mimetype": "text/x-python",
   "name": "python",
   "nbconvert_exporter": "python",
   "pygments_lexer": "ipython3",
   "version": "3.9.7"
  }
 },
 "nbformat": 4,
 "nbformat_minor": 5
}
