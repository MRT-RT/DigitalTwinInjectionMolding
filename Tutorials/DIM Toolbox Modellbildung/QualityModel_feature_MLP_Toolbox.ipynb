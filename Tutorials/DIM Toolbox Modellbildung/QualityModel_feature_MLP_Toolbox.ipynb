{
 "cells": [
  {
   "cell_type": "markdown",
   "id": "6efa50ac",
   "metadata": {},
   "source": [
    "# Feature Qualitätsmodell mit der DIM-Toolbox"
   ]
  },
  {
   "cell_type": "markdown",
   "id": "b6c95f2a",
   "metadata": {},
   "source": [
    "Ziel des Tutorials ist den Workflow zur Identifikation von Feature-Qualitätsmodellen für den Spritzgießprozess mit der DIM-Toolbox zu veranschaulichen.\n",
    "\n",
    "Die für das Modelltraining (Schätzung der Modellparameter) und die Modellvalidierung verwendeten Daten wurden im Rahmen eines umfangreichen Versuchsplanes erhoben. Der Trainingsdatensatz umfasst die Daten von 2105 Produktionszyklen, der Validierungsdatensatz umfasst die Daten von 548 Produktionszyklen."
   ]
  },
  {
   "cell_type": "code",
   "execution_count": 20,
   "id": "9bd41068",
   "metadata": {},
   "outputs": [],
   "source": [
    "import pickle as pkl\n",
    "import seaborn as sns\n",
    "import matplotlib.pyplot as plt\n",
    "\n",
    "from pathlib import Path\n",
    "\n",
    "import sys\n",
    "path_dim = Path.cwd().parents[1]\n",
    "\n",
    "sys.path.insert(0, path_dim.as_posix())\n",
    "\n",
    "from DIM.miscellaneous.PreProcessing import LoadFeatureData,LoadSetpointData,MinMaxScale\n",
    "from DIM.models.model_structures import Static_MLP\n",
    "from DIM.optim.param_optim import ModelTraining, static_mode\n",
    "from DIM.optim.common import BestFitRate"
   ]
  },
  {
   "cell_type": "markdown",
   "id": "f12f8025",
   "metadata": {},
   "source": [
    "Spezifiziere Pfad zur Datenbasis und welche Chargen für Modellbildung und -validierung verwendet werden sollen "
   ]
  },
  {
   "cell_type": "code",
   "execution_count": 21,
   "id": "6a77045f",
   "metadata": {},
   "outputs": [],
   "source": [
    "path = path_dim / 'data/Versuchsplan/normalized/'\n",
    "charges = list(range(1,275))\n",
    "split = 'all' "
   ]
  },
  {
   "cell_type": "markdown",
   "id": "df15c87a",
   "metadata": {},
   "source": [
    "Spezifiziere Ein- und Ausgangsgrößen für das Qualitätsmodell"
   ]
  },
  {
   "cell_type": "code",
   "execution_count": 22,
   "id": "7a9c7b89",
   "metadata": {},
   "outputs": [],
   "source": [
    "u_label_q = ['T_wkz_0', 'T_wkz_max', 't_Twkz_max', 'T_wkz_int', 'p_wkz_max',\n",
    "'p_wkz_int', 'p_wkz_res', 't_pwkz_max']\n",
    "\n",
    "y_label_q = ['Durchmesser_innen']"
   ]
  },
  {
   "cell_type": "markdown",
   "id": "9ceefde9",
   "metadata": {},
   "source": [
    "Die Funktion LoadFeatureData() berechnet aus den Prozessgrößen jedes Spritzgießzykluses einige Features und teilt die Daten in Trainings- und Validierungsdaten ein"
   ]
  },
  {
   "cell_type": "code",
   "execution_count": 23,
   "id": "1e295c81",
   "metadata": {},
   "outputs": [],
   "source": [
    "data_train,data_val = LoadFeatureData(path.as_posix(),charges,split,True)"
   ]
  },
  {
   "cell_type": "code",
   "execution_count": 24,
   "id": "2e3091cf",
   "metadata": {},
   "outputs": [
    {
     "name": "stdout",
     "output_type": "stream",
     "text": [
      "      Charge  Düsentemperatur  Werkzeugtemperatur  Einspritzgeschwindigkeit  \\\n",
      "11         1              250                  40                        16   \n",
      "12         1              250                  40                        16   \n",
      "14         1              250                  40                        16   \n",
      "15         1              250                  40                        16   \n",
      "16         1              250                  40                        16   \n",
      "...      ...              ...                 ...                       ...   \n",
      "2777     274              260                  50                        48   \n",
      "2778     274              260                  50                        48   \n",
      "2780     274              260                  50                        48   \n",
      "2781     274              260                  50                        48   \n",
      "2782     274              260                  50                        48   \n",
      "\n",
      "      Umschaltpunkt  Nachdruckhöhe  Nachdruckzeit  Staudruck  Kühlzeit  \\\n",
      "11             14.0            600              3         25      15.0   \n",
      "12             14.0            600              3         25      15.0   \n",
      "14             14.0            600              3         25      15.0   \n",
      "15             14.0            600              3         25      15.0   \n",
      "16             14.0            600              3         25      15.0   \n",
      "...             ...            ...            ...        ...       ...   \n",
      "2777           14.0            500              5         75      20.0   \n",
      "2778           14.0            500              5         75      20.0   \n",
      "2780           14.0            500              5         75      20.0   \n",
      "2781           14.0            500              5         75      20.0   \n",
      "2782           14.0            500              5         75      20.0   \n",
      "\n",
      "      Gewicht  ... t_pwkz_max  p_inj_int  p_inj_max  t_inj     x_inj  \\\n",
      "11      7.991  ...       1.04   0.487992        1.0   0.76   0.99716   \n",
      "12      7.980  ...       1.12   0.487723   0.966408   0.76  0.998107   \n",
      "14      7.979  ...       1.12   0.487669   0.975256   0.76  0.998344   \n",
      "15      7.981  ...       1.12   0.487858   0.976431   0.76   0.99716   \n",
      "16      7.978  ...       1.12   0.487797   0.981912   0.76   0.99787   \n",
      "...       ...  ...        ...        ...        ...    ...       ...   \n",
      "2777    8.012  ...       0.34   0.477701   1.092084   0.28  1.026503   \n",
      "2778    8.015  ...       0.32    0.47757   1.087464   0.28  1.025793   \n",
      "2780    8.013  ...       0.32   0.477561    1.09177   0.28  1.024846   \n",
      "2781    8.013  ...       0.32   0.477679   1.095216   0.28  1.026029   \n",
      "2782    8.011  ...       0.32   0.477574   1.081121   0.28  1.025556   \n",
      "\n",
      "          x_um    v_mean p_wkz_0   p_inj_0       x_0  \n",
      "11    0.000473  0.833672     0.0  0.035863  0.997634  \n",
      "12   -0.001183  0.835123     0.0  0.024978  0.996924  \n",
      "14   -0.001656   0.83522     0.0  0.020828  0.996687  \n",
      "15    0.000237  0.834736     0.0  0.016365  0.997397  \n",
      "16    -0.00142  0.833382     0.0  0.024117  0.996451  \n",
      "...        ...       ...     ...       ...       ...  \n",
      "2777 -0.024136  1.512453     0.0  0.025918  1.002366  \n",
      "2778 -0.024136  1.512453     0.0  0.023491  1.001656  \n",
      "2780  -0.02319  1.509686     0.0  0.028502  1.001656  \n",
      "2781 -0.024136  1.510943     0.0   0.03046  1.001893  \n",
      "2782 -0.023426  1.509686     0.0  0.029598   1.00213  \n",
      "\n",
      "[2094 rows x 36 columns]\n"
     ]
    }
   ],
   "source": [
    "print(data_train)"
   ]
  },
  {
   "cell_type": "markdown",
   "id": "605e79af",
   "metadata": {},
   "source": [
    "Es ist insbesondere bei der Verwendung Neuronaler Netze zweckmäßig, die Daten auf das Intervall [-1,1] zu skalieren, das geschieht mittels der Funktion MinMaxScale()"
   ]
  },
  {
   "cell_type": "code",
   "execution_count": 25,
   "id": "06dba792",
   "metadata": {},
   "outputs": [],
   "source": [
    "data_train,minmax = MinMaxScale(data_train,u_label_q+y_label_q)\n",
    "data_val,_ = MinMaxScale(data_val,u_label_q+y_label_q,minmax=minmax)"
   ]
  },
  {
   "cell_type": "markdown",
   "id": "e6d09c3e",
   "metadata": {},
   "source": [
    "Plotte eine Untermenge der Validierungsdaten zu Visualisierungszwecken"
   ]
  },
  {
   "cell_type": "code",
   "execution_count": 26,
   "id": "b9511bbd",
   "metadata": {},
   "outputs": [
    {
     "data": {
      "text/plain": [
       "<AxesSubplot:ylabel='Durchmesser_innen'>"
      ]
     },
     "execution_count": 26,
     "metadata": {},
     "output_type": "execute_result"
    },
    {
     "data": {
      "image/png": "[encoded data removed]",
      "text/plain": [
       "<Figure size 1440x720 with 1 Axes>"
      ]
     },
     "metadata": {
      "needs_background": "light"
     },
     "output_type": "display_data"
    }
   ],
   "source": [
    "fig, ax = plt.subplots(figsize=(20, 10))\n",
    "\n",
    "idx_plot = data_val.index[0:50]\n",
    "\n",
    "sns.stripplot(x=idx_plot,y=data_val.loc[idx_plot,'Durchmesser_innen'],color='grey',alpha=.8,size=15,ax=ax)"
   ]
  },
  {
   "cell_type": "markdown",
   "id": "6391d587",
   "metadata": {},
   "source": [
    "Ein Neuronales Netz, welches Eingangsgrößen statisch auf Ausgangsgrößen abbildet ist Static_MLP. Bei der Erzeugung einer Instanz der Klasse Static_MLP müssen einige Parameter festgelegt werden:"
   ]
  },
  {
   "cell_type": "markdown",
   "id": "9836f63e",
   "metadata": {},
   "source": [
    "| Parameter | Typ | Erläuterung |\n",
    "| --- | --- | :-- |\n",
    "|dim_u : |int |Anzahl an Modelleingängen |\n",
    "|dim_hidden | int | Anzahl der Modellausgänge |\n",
    "|u_label| list of str |Namen der Eingangsgrößen, muss mit den Spaltenüberschriften in data_train, data_val übereinstimmen|\n",
    "|y_label| list of str |Namen der Ausgangsgrößen, muss mit den Spaltenüberschriften in data_train, data_val übereinstimmen|\n",
    "|name | str | Name des Modells, wird verwendet, um Modellparameter eindeutig zu identifizieren und bspw. von den Parametern anderer Instanzen der gleichen Klasse zu unterscheiden|\n",
    "|init_proc | str | Prozedur, die bei der Initialisierung der Modellparameter angewendet werden soll. Implementiert sind 'random', 'xavier' und 'he'|\n"
   ]
  },
  {
   "cell_type": "code",
   "execution_count": 27,
   "id": "ec9a151c",
   "metadata": {},
   "outputs": [],
   "source": [
    "model_q = Static_MLP(dim_u=8, dim_out=1, dim_hidden=10,u_label=u_label_q,\n",
    "                    y_label=y_label_q,name='qual', init_proc='xavier')"
   ]
  },
  {
   "cell_type": "markdown",
   "id": "e8cf44c3",
   "metadata": {},
   "source": [
    "Die Routine ModelTraining() erhält als Argument das zu optimierende Modell, Trainings- und Validierungsdaten, wie oft das Optimierungsproblem neu initialisiert und gelöst werden soll (nichtlineares Optimierungsproblem) sowie den Modus der Modellauswertung:"
   ]
  },
  {
   "cell_type": "markdown",
   "id": "5009f1c6",
   "metadata": {},
   "source": [
    "| Parameter | Typ | Erläuterung |\n",
    "| --- | --- | :-- |\n",
    "|model : | DIM.models | Zu optimierendes Modell |\n",
    "|data_train | pd.DataFrame | Trainingsdaten mit Beobachtungen in den Zeilen und Eingangs- / Ausgangsgrößen in den Spalten |\n",
    "|data_val| pd.DataFrame | Trainingsdaten mit Beobachtungen in den Zeilen und Eingangs- / Ausgangsgrößen in den Spalten |\n",
    "|initializations| int | Anzahl der Multistarts, i.e. wie oft die Parameter zufällig neu initialisiert und das Optimierungsproblem von vorne gelöst werden soll|\n",
    "|p_opts | dict | printing Optionen für CasADi, siehe https://web.casadi.org/docs/ |\n",
    "|s_opts | dict | An IPOPT zu übergebende Parameter, siehe https://coin-or.github.io/Ipopt/OPTIONS.html |\n",
    "|mode | str | Art der Modellauswertung, es wird unterschieden zwischen 'parallel', 'static' und 'series'|"
   ]
  },
  {
   "cell_type": "markdown",
   "id": "d458c5b5",
   "metadata": {},
   "source": [
    "Hier wird aus Zeitgründen ein fertiges Optimierungsergebnis geladen."
   ]
  },
  {
   "cell_type": "code",
   "execution_count": 28,
   "id": "0b74bf4e",
   "metadata": {},
   "outputs": [],
   "source": [
    "# result_q = ModelTraining(model_q,data_train,data_val,initializations=5,\n",
    "#                           p_opts=None,s_opts=None,mode='static')"
   ]
  },
  {
   "cell_type": "markdown",
   "id": "52538589",
   "metadata": {},
   "source": [
    "Für gewöhnlich müssen einige Multistarts ausgeführt werden (mindestens 10). Für dieses Tutorial werden aus Zeitgründen die Ergebnisse von bereits durchgeführten Optimierungsdurchläufen geladen."
   ]
  },
  {
   "cell_type": "code",
   "execution_count": 29,
   "id": "39a00211",
   "metadata": {},
   "outputs": [],
   "source": [
    "result_q = pkl.load(open('./results/results_q_feature_trans.pkl','rb'))"
   ]
  },
  {
   "cell_type": "markdown",
   "id": "f2d86169",
   "metadata": {},
   "source": [
    "ModelTraining() gibt einen Pandas DataFrame zurück. Dieser enthält den Wert der Kostenfunktion des Modells jeweils auf den Trainings- und Validierungsdaten sowie die zugehörigen Modellparameter."
   ]
  },
  {
   "cell_type": "code",
   "execution_count": 30,
   "id": "17e22681",
   "metadata": {},
   "outputs": [
    {
     "name": "stdout",
     "output_type": "stream",
     "text": [
      "   loss_train   loss_val model  \\\n",
      "0   15.533008  27.940358  qual   \n",
      "1   16.522846  14.735462  qual   \n",
      "2   17.651585  16.858856  qual   \n",
      "3   16.206974  12.603256  qual   \n",
      "4   15.604416  15.889386  qual   \n",
      "\n",
      "                                        params_train  \\\n",
      "0  {'W_h_qual': [[-0.0623534279552617, -0.4516689...   \n",
      "1  {'W_h_qual': [[-3.536570900098499, -4.24067231...   \n",
      "2  {'W_h_qual': [[-2.3916613223614704, -1.6313037...   \n",
      "3  {'W_h_qual': [[-1.5467647375217033, -0.8705878...   \n",
      "4  {'W_h_qual': [[-0.5945517835862739, 1.70263017...   \n",
      "\n",
      "                                          params_val  \n",
      "0  {'W_h_qual': [[0.308236820428597, 0.0348791842...  \n",
      "1  {'W_h_qual': [[-0.22427449835984242, -0.420730...  \n",
      "2  {'W_h_qual': [[-0.00396853615560577, -0.120513...  \n",
      "3  {'W_h_qual': [[-0.060892038101362414, -0.47846...  \n",
      "4  {'W_h_qual': [[-0.4678765442673473, 0.00486470...  \n"
     ]
    }
   ],
   "source": [
    "print(result_q)"
   ]
  },
  {
   "cell_type": "markdown",
   "id": "901f33f0",
   "metadata": {},
   "source": [
    " Die Instanz der Klasse Static_MLP selbst ist unverändert. Die neuen Parameter müssen dem Modell erst noch zugewiesen werden: "
   ]
  },
  {
   "cell_type": "code",
   "execution_count": 31,
   "id": "16185085",
   "metadata": {},
   "outputs": [],
   "source": [
    "model_q.Parameters = result_q.loc[3]['params_val']"
   ]
  },
  {
   "cell_type": "markdown",
   "id": "e21e053b",
   "metadata": {},
   "source": [
    "Das Modell mit den optimierten Parametern kann nun bspw. auf den Validerungsdaten (oder Daten des laufenden Betriebs) ausgewertet werden. Die Funktion static_mode() wertet ein statisches Modell auf einem gegebenen Datensatz aus."
   ]
  },
  {
   "cell_type": "code",
   "execution_count": 32,
   "id": "360c1056",
   "metadata": {},
   "outputs": [],
   "source": [
    "_,prediction_q = static_mode(model_q,data_val)"
   ]
  },
  {
   "cell_type": "markdown",
   "id": "5039d941",
   "metadata": {},
   "source": [
    "Die Bauteilqualität prediction_q wurde nun nur basierend auf den aus den Prozessgrößen ermittelten Features ermittelt.\n",
    "\n",
    "Um die Modellgüte zu beurteilen kann die Best Fit Rate berechnet werden:"
   ]
  },
  {
   "cell_type": "code",
   "execution_count": 33,
   "id": "f704cddd",
   "metadata": {},
   "outputs": [
    {
     "name": "stdout",
     "output_type": "stream",
     "text": [
      "82.5675236582592\n"
     ]
    }
   ],
   "source": [
    "print(BestFitRate(data_val[y_label_q].values, prediction_q[y_label_q].values))"
   ]
  },
  {
   "cell_type": "markdown",
   "id": "281ca138",
   "metadata": {},
   "source": [
    "Durch Gegenüberstellung der bekannten wahren Bauteilqualität mit der prädizierten Bauteilqualität kann das Ergebnis visualisiert werden:"
   ]
  },
  {
   "cell_type": "code",
   "execution_count": 34,
   "id": "123fb5c2",
   "metadata": {},
   "outputs": [
    {
     "data": {
      "text/plain": [
       "<AxesSubplot:ylabel='Durchmesser_innen'>"
      ]
     },
     "execution_count": 34,
     "metadata": {},
     "output_type": "execute_result"
    },
    {
     "data": {
      "image/png": "[encoded data removed]",
      "text/plain": [
       "<Figure size 1440x720 with 1 Axes>"
      ]
     },
     "metadata": {
      "needs_background": "light"
     },
     "output_type": "display_data"
    }
   ],
   "source": [
    "fig, ax = plt.subplots(figsize=(20, 10))\n",
    "sns.stripplot(x=idx_plot,y=data_val.loc[idx_plot,'Durchmesser_innen'],color='grey',alpha=.8,size=15,ax=ax)\n",
    "sns.stripplot(x=idx_plot,y=prediction_q.loc[idx_plot,'Durchmesser_innen'],size=15,ax=ax)"
   ]
  },
  {
   "cell_type": "code",
   "execution_count": null,
   "id": "04495947",
   "metadata": {},
   "outputs": [],
   "source": []
  }
 ],
 "metadata": {
  "kernelspec": {
   "display_name": "Python 3 (ipykernel)",
   "language": "python",
   "name": "python3"
  },
  "language_info": {
   "codemirror_mode": {
    "name": "ipython",
    "version": 3
   },
   "file_extension": ".py",
   "mimetype": "text/x-python",
   "name": "python",
   "nbconvert_exporter": "python",
   "pygments_lexer": "ipython3",
   "version": "3.9.7"
  }
 },
 "nbformat": 4,
 "nbformat_minor": 5
}
