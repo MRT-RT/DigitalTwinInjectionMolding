{
 "cells": [
  {
   "cell_type": "markdown",
   "id": "6efa50ac",
   "metadata": {},
   "source": [
    "# Komplettes Feature-Modell mit der DIM-Toolbox"
   ]
  },
  {
   "cell_type": "markdown",
   "id": "b6c95f2a",
   "metadata": {},
   "source": [
    "Ziel des Tutorials ist den Workflow zur Identifikation von Feature-Modellen für den Spritzgießprozess mit der DIM-Toolbox zu veranschaulichen.\n",
    "\n",
    "Die für das Modelltraining (Schätzung der Modellparameter) und die Modellvalidierung verwendeten Daten wurden im Rahmen eines umfangreichen Versuchsplanes erhoben. Der Trainingsdatensatz umfasst die Daten von 2105 Produktionszyklen, der Validierungsdatensatz umfasst die Daten von 548 Produktionszyklen."
   ]
  },
  {
   "cell_type": "code",
   "execution_count": 1,
   "id": "9bd41068",
   "metadata": {},
   "outputs": [],
   "source": [
    "import pickle as pkl\n",
    "import seaborn as sns\n",
    "import matplotlib.pyplot as plt\n",
    "\n",
    "from pathlib import Path\n",
    "\n",
    "import sys\n",
    "path_dim = Path.cwd().parents[1]\n",
    "\n",
    "sys.path.insert(0, path_dim.as_posix())\n",
    "\n",
    "from DIM.miscellaneous.PreProcessing import LoadFeatureData,LoadSetpointData,MinMaxScale\n",
    "from DIM.models.model_structures import Static_MLP\n",
    "from DIM.optim.param_optim import ModelTraining, static_mode\n",
    "from DIM.optim.common import BestFitRate"
   ]
  },
  {
   "cell_type": "markdown",
   "id": "f12f8025",
   "metadata": {},
   "source": [
    "Spezifiziere Pfad zur Datenbasis und welche Chargen für Modellbildung und -validierung verwendet werden sollen "
   ]
  },
  {
   "cell_type": "code",
   "execution_count": 2,
   "id": "6a77045f",
   "metadata": {},
   "outputs": [],
   "source": [
    "path = path_dim / 'data/Versuchsplan/normalized/'\n",
    "charges = list(range(1,275))\n",
    "split = 'all' "
   ]
  },
  {
   "cell_type": "markdown",
   "id": "df15c87a",
   "metadata": {},
   "source": [
    "Spezifiziere Ein- und Ausgangsgrößen für Prozess- und Qualitätsmodell"
   ]
  },
  {
   "cell_type": "code",
   "execution_count": 3,
   "id": "7a9c7b89",
   "metadata": {},
   "outputs": [],
   "source": [
    "u_label_p = ['Düsentemperatur', 'Werkzeugtemperatur', 'Einspritzgeschwindigkeit',\n",
    "  'Umschaltpunkt', 'Nachdruckhöhe', 'Nachdruckzeit', 'Staudruck', 'Kühlzeit']\n",
    "\n",
    "u_label_q = ['T_wkz_0', 'T_wkz_max', 't_Twkz_max', 'T_wkz_int', 'p_wkz_max',\n",
    "'p_wkz_int', 'p_wkz_res', 't_pwkz_max']                                         # = y_label_p\n",
    "\n",
    "y_label_q = ['Durchmesser_innen']"
   ]
  },
  {
   "cell_type": "markdown",
   "id": "9ceefde9",
   "metadata": {},
   "source": [
    "Die Funktion LoadFeatureData() berechnet aus den Prozessgrößen jedes Spritzgießzykluses teilt die abgelegten Daten in Trainings- und Validierungsdaten ein"
   ]
  },
  {
   "cell_type": "code",
   "execution_count": 4,
   "id": "1e295c81",
   "metadata": {},
   "outputs": [],
   "source": [
    "data_train,data_val = LoadFeatureData(path.as_posix(),charges,split,True)"
   ]
  },
  {
   "cell_type": "markdown",
   "id": "605e79af",
   "metadata": {},
   "source": [
    "Es ist insbesondere bei der Verwendung Neuronaler Netze zweckmäßig, die Daten auf das Intervall [-1,1] zu skalieren, das geschieht mittels der Funktion MinMaxScale()"
   ]
  },
  {
   "cell_type": "code",
   "execution_count": 5,
   "id": "06dba792",
   "metadata": {},
   "outputs": [],
   "source": [
    "data_train,minmax = MinMaxScale(data_train,u_label_q+u_label_p+y_label_q)\n",
    "data_val,_ = MinMaxScale(data_val,u_label_q+u_label_p+y_label_q,minmax=minmax)"
   ]
  },
  {
   "cell_type": "markdown",
   "id": "6391d587",
   "metadata": {},
   "source": [
    "Ein Neuronales Netz, welches Eingangsgrößen statisch auf Ausgangsgrößen abbildet ist Static_MLP. Bei der Erzeugung einer Instanz der Klasse Static_MLP müssen einige Parameter festgelegt werden:"
   ]
  },
  {
   "cell_type": "markdown",
   "id": "9836f63e",
   "metadata": {},
   "source": [
    "| Parameter | Typ | Erläuterung |\n",
    "| --- | --- | :-- |\n",
    "|dim_u : |int |Anzahl an Modelleingängen |\n",
    "|dim_hidden | int | Anzahl der Modellausgänge |\n",
    "|u_label| list of str |Namen der Eingangsgrößen, muss mit den Spaltenüberschriften in data_train, data_val übereinstimmen|\n",
    "|y_label| list of str |Namen der Ausgangsgrößen, muss mit den Spaltenüberschriften in data_train, data_val übereinstimmen|\n",
    "|name | str | Name des Modells, wird verwendet, um Modellparameter eindeutig zu identifizieren und bspw. von den Parametern anderer Instanzen der gleichen Klasse zu unterscheiden|\n",
    "|init_proc | str | Prozedur, die bei der Initialisierung der Modellparameter angewendet werden soll. Implementiert sind 'random', 'xavier' und 'he'|\n"
   ]
  },
  {
   "cell_type": "code",
   "execution_count": 6,
   "id": "ec9a151c",
   "metadata": {},
   "outputs": [],
   "source": [
    "model_p = Static_MLP(dim_u=8, dim_out=8, dim_hidden=40,u_label=u_label_p,\n",
    "                    y_label=u_label_q,name='proc', init_proc='xavier')\n",
    "\n",
    "model_q = Static_MLP(dim_u=8, dim_out=1, dim_hidden=10,u_label=u_label_q,\n",
    "                    y_label=y_label_q,name='qual', init_proc='xavier')"
   ]
  },
  {
   "cell_type": "markdown",
   "id": "e8cf44c3",
   "metadata": {},
   "source": [
    "Anschließend werden die bereits vorhandenen Optimierungsergebnisse geladen"
   ]
  },
  {
   "cell_type": "code",
   "execution_count": 7,
   "id": "0b74bf4e",
   "metadata": {},
   "outputs": [],
   "source": [
    "result_p = pkl.load(open('./results/results_p_process_stationary_40dim.pkl','rb'))\n",
    "result_q =  pkl.load(open('./results/results_q_feature_trans.pkl','rb'))"
   ]
  },
  {
   "cell_type": "markdown",
   "id": "901f33f0",
   "metadata": {},
   "source": [
    "Und die Parameter, welche das beste Ergebnis auf den Validierungsdaten ergeben haben, dem Prozess- und Qualitätsmodell zugewiesen"
   ]
  },
  {
   "cell_type": "code",
   "execution_count": 8,
   "id": "16185085",
   "metadata": {},
   "outputs": [],
   "source": [
    "model_p.Parameters = result_p.loc[4,'params_val']\n",
    "model_q.Parameters = result_q.loc[3,'params_val']"
   ]
  },
  {
   "cell_type": "markdown",
   "id": "e21e053b",
   "metadata": {},
   "source": [
    "Der Spritzgießprozess wird nun durch ein Prozessmodell model_p und ein Qualitätsmodell model_q beschrieben. Um die Bauteilqualität im laufenden Betrieb zu prädizieren, muss zuerst das Prozessmodell ausgewertet werden, und dessen Prädiktion als Eingang für das Qualitätsmodell genutzt werden. Dies wird im folgenden anhand der Validierungsdaten veranschaulicht:"
   ]
  },
  {
   "cell_type": "code",
   "execution_count": 9,
   "id": "360c1056",
   "metadata": {},
   "outputs": [],
   "source": [
    "_,prediction_p = static_mode(model_p,data_val)\n",
    "_,prediction_q = static_mode(model_q,prediction_p)"
   ]
  },
  {
   "cell_type": "markdown",
   "id": "5039d941",
   "metadata": {},
   "source": [
    "Die Bauteilqualität prediction_q wurde nun nur basierend auf den eingestellten Maschinenparametern ermittelt, ohne Verwendung der gemessenen Prozessgrößen(-features).\n",
    "\n",
    "Um die Modellgüte zu beurteilen kann die Best Fit Rate berechnet werden:"
   ]
  },
  {
   "cell_type": "code",
   "execution_count": 10,
   "id": "c64f3726",
   "metadata": {},
   "outputs": [
    {
     "name": "stdout",
     "output_type": "stream",
     "text": [
      "77.652337869929\n"
     ]
    }
   ],
   "source": [
    "print(BestFitRate(data_val[y_label_q].values, prediction_q[y_label_q].values))"
   ]
  },
  {
   "cell_type": "markdown",
   "id": "b6776fa2",
   "metadata": {},
   "source": [
    "Durch Gegenüberstellung der bekannten wahren Bauteilqualität mit der prädizierten Bauteilqualität kann das Ergebnis visualisiert werden:"
   ]
  },
  {
   "cell_type": "code",
   "execution_count": 11,
   "id": "123fb5c2",
   "metadata": {},
   "outputs": [
    {
     "data": {
      "text/plain": [
       "<AxesSubplot:ylabel='Durchmesser_innen'>"
      ]
     },
     "execution_count": 11,
     "metadata": {},
     "output_type": "execute_result"
    },
    {
     "data": {
      "image/png": "[encoded data removed]",
      "text/plain": [
       "<Figure size 1440x720 with 1 Axes>"
      ]
     },
     "metadata": {
      "needs_background": "light"
     },
     "output_type": "display_data"
    }
   ],
   "source": [
    "fig, ax = plt.subplots(figsize=(20, 10))\n",
    "idx_plot = data_val.index[0:50]\n",
    "sns.stripplot(x=idx_plot,y=data_val.loc[idx_plot,'Durchmesser_innen'],color='grey',alpha=.8,size=15,ax=ax)\n",
    "sns.stripplot(x=idx_plot,y=prediction_q.loc[idx_plot,'Durchmesser_innen'],size=15,ax=ax)"
   ]
  },
  {
   "cell_type": "code",
   "execution_count": null,
   "id": "6d90159f",
   "metadata": {},
   "outputs": [],
   "source": []
  }
 ],
 "metadata": {
  "kernelspec": {
   "display_name": "Python 3 (ipykernel)",
   "language": "python",
   "name": "python3"
  },
  "language_info": {
   "codemirror_mode": {
    "name": "ipython",
    "version": 3
   },
   "file_extension": ".py",
   "mimetype": "text/x-python",
   "name": "python",
   "nbconvert_exporter": "python",
   "pygments_lexer": "ipython3",
   "version": "3.9.7"
  }
 },
 "nbformat": 4,
 "nbformat_minor": 5
}
