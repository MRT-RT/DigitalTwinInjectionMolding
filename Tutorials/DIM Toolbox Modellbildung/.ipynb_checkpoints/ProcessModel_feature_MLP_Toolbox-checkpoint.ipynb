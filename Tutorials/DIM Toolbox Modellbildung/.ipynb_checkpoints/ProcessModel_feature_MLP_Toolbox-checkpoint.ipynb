{
 "cells": [
  {
   "cell_type": "markdown",
   "id": "6efa50ac",
   "metadata": {},
   "source": [
    "# Feature Prozessmodell mit der DIM-Toolbox"
   ]
  },
  {
   "cell_type": "markdown",
   "id": "b6c95f2a",
   "metadata": {},
   "source": [
    "Ziel des Tutorials ist den Workflow zur Identifikation eines statischen Prozessmodells für den Spritzgießprozess mit der DIM-Toolbox zu veranschaulichen.\n",
    "\n",
    "Die für das Modelltraining (Schätzung der Modellparameter) und die Modellvalidierung verwendeten Daten wurden im Rahmen eines umfangreichen Versuchsplanes erhoben. Der Trainingsdatensatz umfasst die Daten von 2105 Produktionszyklen, der Validierungsdatensatz umfasst die Daten von 548 Produktionszyklen."
   ]
  },
  {
   "cell_type": "code",
   "execution_count": 26,
   "id": "9bd41068",
   "metadata": {},
   "outputs": [],
   "source": [
    "import pickle as pkl\n",
    "import seaborn as sns\n",
    "import matplotlib.pyplot as plt\n",
    "import pandas as pd\n",
    "import numpy as np\n",
    "\n",
    "from pathlib import Path\n",
    "\n",
    "import sys\n",
    "path_dim = Path.cwd().parents[1]\n",
    "\n",
    "sys.path.insert(0, path_dim.as_posix())\n",
    "\n",
    "from DIM.models.model_structures import Static_MLP\n",
    "from DIM.optim.param_optim import ModelTraining, static_mode\n",
    "from DIM.miscellaneous.PreProcessing import LoadFeatureData, MinMaxScale\n",
    "from DIM.optim.common import BestFitRate"
   ]
  },
  {
   "cell_type": "markdown",
   "id": "f12f8025",
   "metadata": {},
   "source": [
    "Spezifiziere Pfad zur Datenbasis und welche Chargen für Modellbildung und -validierung verwendet werden sollen "
   ]
  },
  {
   "cell_type": "code",
   "execution_count": 27,
   "id": "6a77045f",
   "metadata": {},
   "outputs": [],
   "source": [
    "path = path_dim / 'data/Versuchsplan/normalized/'\n",
    "charges = list(range(1,275))\n",
    "split = 'all' \n"
   ]
  },
  {
   "cell_type": "markdown",
   "id": "df15c87a",
   "metadata": {},
   "source": [
    "Spezifiziere Ein- und Ausgangsgrößen"
   ]
  },
  {
   "cell_type": "code",
   "execution_count": 28,
   "id": "7a9c7b89",
   "metadata": {},
   "outputs": [],
   "source": [
    "u_label_p = ['Düsentemperatur', 'Werkzeugtemperatur', 'Einspritzgeschwindigkeit',\n",
    "  'Umschaltpunkt', 'Nachdruckhöhe', 'Nachdruckzeit', 'Staudruck', 'Kühlzeit']\n",
    "\n",
    "y_label_p = ['T_wkz_0', 'T_wkz_max', 't_Twkz_max', 'T_wkz_int', 'p_wkz_max',\n",
    "'p_wkz_int', 'p_wkz_res', 't_pwkz_max']"
   ]
  },
  {
   "cell_type": "markdown",
   "id": "9ceefde9",
   "metadata": {},
   "source": [
    "Die Funktion LoadDynamicData() geht die zyklenweise abgelegten Dateien durch und liest alle Prozessdaten aus sowie die korrespondierenden Qualitätsdaten und teilt die Daten anschließend in Trainings- und Validierungsdaten ein"
   ]
  },
  {
   "cell_type": "code",
   "execution_count": 29,
   "id": "1e295c81",
   "metadata": {},
   "outputs": [],
   "source": [
    "data_train,data_val = LoadFeatureData(path.as_posix(),charges,split,True)"
   ]
  },
  {
   "cell_type": "code",
   "execution_count": 30,
   "id": "eb3cb671",
   "metadata": {},
   "outputs": [
    {
     "name": "stdout",
     "output_type": "stream",
     "text": [
      "      Charge  Düsentemperatur  Werkzeugtemperatur  Einspritzgeschwindigkeit  \\\n",
      "11         1              250                  40                        16   \n",
      "12         1              250                  40                        16   \n",
      "14         1              250                  40                        16   \n",
      "15         1              250                  40                        16   \n",
      "16         1              250                  40                        16   \n",
      "...      ...              ...                 ...                       ...   \n",
      "2777     274              260                  50                        48   \n",
      "2778     274              260                  50                        48   \n",
      "2780     274              260                  50                        48   \n",
      "2781     274              260                  50                        48   \n",
      "2782     274              260                  50                        48   \n",
      "\n",
      "      Umschaltpunkt  Nachdruckhöhe  Nachdruckzeit  Staudruck  Kühlzeit  \\\n",
      "11             14.0            600              3         25      15.0   \n",
      "12             14.0            600              3         25      15.0   \n",
      "14             14.0            600              3         25      15.0   \n",
      "15             14.0            600              3         25      15.0   \n",
      "16             14.0            600              3         25      15.0   \n",
      "...             ...            ...            ...        ...       ...   \n",
      "2777           14.0            500              5         75      20.0   \n",
      "2778           14.0            500              5         75      20.0   \n",
      "2780           14.0            500              5         75      20.0   \n",
      "2781           14.0            500              5         75      20.0   \n",
      "2782           14.0            500              5         75      20.0   \n",
      "\n",
      "      Gewicht  ... t_pwkz_max  p_inj_int  p_inj_max  t_inj     x_inj  \\\n",
      "11      7.991  ...       1.04   0.487992        1.0   0.76   0.99716   \n",
      "12      7.980  ...       1.12   0.487723   0.966408   0.76  0.998107   \n",
      "14      7.979  ...       1.12   0.487669   0.975256   0.76  0.998344   \n",
      "15      7.981  ...       1.12   0.487858   0.976431   0.76   0.99716   \n",
      "16      7.978  ...       1.12   0.487797   0.981912   0.76   0.99787   \n",
      "...       ...  ...        ...        ...        ...    ...       ...   \n",
      "2777    8.012  ...       0.34   0.477701   1.092084   0.28  1.026503   \n",
      "2778    8.015  ...       0.32    0.47757   1.087464   0.28  1.025793   \n",
      "2780    8.013  ...       0.32   0.477561    1.09177   0.28  1.024846   \n",
      "2781    8.013  ...       0.32   0.477679   1.095216   0.28  1.026029   \n",
      "2782    8.011  ...       0.32   0.477574   1.081121   0.28  1.025556   \n",
      "\n",
      "          x_um    v_mean p_wkz_0   p_inj_0       x_0  \n",
      "11    0.000473  0.833672     0.0  0.035863  0.997634  \n",
      "12   -0.001183  0.835123     0.0  0.024978  0.996924  \n",
      "14   -0.001656   0.83522     0.0  0.020828  0.996687  \n",
      "15    0.000237  0.834736     0.0  0.016365  0.997397  \n",
      "16    -0.00142  0.833382     0.0  0.024117  0.996451  \n",
      "...        ...       ...     ...       ...       ...  \n",
      "2777 -0.024136  1.512453     0.0  0.025918  1.002366  \n",
      "2778 -0.024136  1.512453     0.0  0.023491  1.001656  \n",
      "2780  -0.02319  1.509686     0.0  0.028502  1.001656  \n",
      "2781 -0.024136  1.510943     0.0   0.03046  1.001893  \n",
      "2782 -0.023426  1.509686     0.0  0.029598   1.00213  \n",
      "\n",
      "[2094 rows x 36 columns]\n"
     ]
    }
   ],
   "source": [
    "print(data_train)"
   ]
  },
  {
   "cell_type": "markdown",
   "id": "605e79af",
   "metadata": {},
   "source": [
    "Skaliere Daten"
   ]
  },
  {
   "cell_type": "code",
   "execution_count": 31,
   "id": "43728a31",
   "metadata": {},
   "outputs": [],
   "source": [
    "data_train,minmax = MinMaxScale(data_train,u_label_p+y_label_p)\n",
    "data_val,_ = MinMaxScale(data_val,u_label_p+y_label_p,minmax=minmax)"
   ]
  },
  {
   "cell_type": "code",
   "execution_count": 32,
   "id": "06dba792",
   "metadata": {},
   "outputs": [
    {
     "data": {
      "text/plain": [
       "<AxesSubplot:ylabel='p_wkz_max'>"
      ]
     },
     "execution_count": 32,
     "metadata": {},
     "output_type": "execute_result"
    },
    {
     "data": {
      "image/png": "[encoded data removed]",
      "text/plain": [
       "<Figure size 1440x720 with 1 Axes>"
      ]
     },
     "metadata": {
      "needs_background": "light"
     },
     "output_type": "display_data"
    }
   ],
   "source": [
    "fig, ax = plt.subplots(figsize=(20, 10))\n",
    "\n",
    "idx_plot = data_val.index[0:50]\n",
    "\n",
    "sns.stripplot(x=idx_plot,y=data_val.loc[idx_plot,'p_wkz_max'],color='grey',alpha=.8,size=15,ax=ax)"
   ]
  },
  {
   "cell_type": "markdown",
   "id": "6391d587",
   "metadata": {},
   "source": [
    "Implementierte rekurrente Modellstrukturen sind LSTM und GRU. Das GRU hat in Experimenten bessere Ergebnisse geliefert und besitzt zudem weniger Modellparameter. Bei der Erzeugung einer Instanz der Klasse GRU müssen einige Parameter festgelegt werden:"
   ]
  },
  {
   "cell_type": "markdown",
   "id": "9836f63e",
   "metadata": {},
   "source": [
    "| Parameter | Typ | Erläuterung |\n",
    "| --- | --- | :-- |\n",
    "|dim_u : |int |Anzahl an Modelleingängen |\n",
    "|dim_c : |int |Anzahl an internen Modellzuständen |\n",
    "|dim_hidden | int | Anzahl an Neuronen in der verdeckten Schicht des MLPs welches die Ausgabegleichung approximiert |\n",
    "|dim_out | int | Anzahl der Modellausgänge |\n",
    "|u_label| list of str |Namen der Eingangsgrößen, muss mit den Spaltenüberschriften in data_train, data_val übereinstimmen|\n",
    "|y_label| list of str |Namen der Ausgangsgrößen, muss mit den Spaltenüberschriften in data_train, data_val übereinstimmen|\n",
    "|name | str | Name des Modells, wird verwendet, um Modellparameter eindeutig zu identifizieren und bspw. von den Parametern anderer Instanzen der gleichen Klasse zu unterscheiden|"
   ]
  },
  {
   "cell_type": "markdown",
   "id": "60ea1d87",
   "metadata": {},
   "source": [
    "Ein Neuronales Netz, welches Eingangsgrößen statisch auf Ausgangsgrößen abbildet ist Static_MLP. Bei der Erzeugung einer Instanz der Klasse Static_MLP müssen einige Parameter festgelegt werden:"
   ]
  },
  {
   "cell_type": "markdown",
   "id": "027d683c",
   "metadata": {},
   "source": [
    "| Parameter | Typ | Erläuterung |\n",
    "| --- | --- | :-- |\n",
    "|dim_u : |int |Anzahl an Modelleingängen |\n",
    "|dim_hidden | int | Anzahl der Modellausgänge |\n",
    "|u_label| list of str |Namen der Eingangsgrößen, muss mit den Spaltenüberschriften in data_train, data_val übereinstimmen|\n",
    "|y_label| list of str |Namen der Ausgangsgrößen, muss mit den Spaltenüberschriften in data_train, data_val übereinstimmen|\n",
    "|name | str | Name des Modells, wird verwendet, um Modellparameter eindeutig zu identifizieren und bspw. von den Parametern anderer Instanzen der gleichen Klasse zu unterscheiden|\n",
    "|init_proc | str | Prozedur, die bei der Initialisierung der Modellparameter angewendet werden soll. Implementiert sind 'random', 'xavier' und 'he'|\n"
   ]
  },
  {
   "cell_type": "code",
   "execution_count": 33,
   "id": "ec9a151c",
   "metadata": {},
   "outputs": [],
   "source": [
    "model_p = Static_MLP(dim_u=8, dim_out=8, dim_hidden=40,u_label=u_label_p,\n",
    "                    y_label=y_label_p,name='proc', init_proc='xavier')"
   ]
  },
  {
   "cell_type": "markdown",
   "id": "e8cf44c3",
   "metadata": {},
   "source": [
    "Die Routine ModelTraining() erhält als Argument das zu optimierende Modell, Trainings- und Validierungsdaten, wie oft das Optimierungsproblem neu initialisiert und gelöst werden soll (nichtlineares Optimierungsproblem) sowie den Modus der Modellauswertung:"
   ]
  },
  {
   "cell_type": "markdown",
   "id": "5009f1c6",
   "metadata": {},
   "source": [
    "| Parameter | Typ | Erläuterung |\n",
    "| --- | --- | :-- |\n",
    "|model : | DIM.models | Zu optimierendes Modell |\n",
    "|data_train | pd.DataFrame | Trainingsdaten mit Beobachtungen in den Zeilen und Eingangs- / Ausgangsgrößen in den Spalten |\n",
    "|data_val| pd.DataFrame | Trainingsdaten mit Beobachtungen in den Zeilen und Eingangs- / Ausgangsgrößen in den Spalten |\n",
    "|initializations| int | Anzahl der Multistarts, i.e. wie oft die Parameter zufällig neu initialisiert und das Optimierungsproblem von vorne gelöst werden soll|\n",
    "|p_opts | dict | printing Optionen für CasADi, siehe https://web.casadi.org/docs/ |\n",
    "|s_opts | dict | An IPOPT zu übergebende Parameter, siehe https://coin-or.github.io/Ipopt/OPTIONS.html |\n",
    "|mode | str | Art der Modellauswertung, es wird unterschieden zwischen 'parallel', 'static' und 'series'|"
   ]
  },
  {
   "cell_type": "code",
   "execution_count": 34,
   "id": "0b74bf4e",
   "metadata": {},
   "outputs": [],
   "source": [
    "# results_p = ModelTraining(model_p,data_train,data_val,initializations=10,\n",
    "#                           p_opts=None,s_opts=None,mode='static')"
   ]
  },
  {
   "cell_type": "markdown",
   "id": "52538589",
   "metadata": {},
   "source": [
    "Für gewöhnlich müssen einige Multistarts ausgeführt werden (mindestens 10). Für dieses Tutorial werden aus Zeitgründen die Ergebnisse von bereits durchgeführten Optimierungsdurchläufen geladen."
   ]
  },
  {
   "cell_type": "code",
   "execution_count": 35,
   "id": "512679d4",
   "metadata": {},
   "outputs": [],
   "source": [
    "result_p = pkl.load(open('./results/results_p_process_stationary_40dim.pkl','rb'))"
   ]
  },
  {
   "cell_type": "markdown",
   "id": "15fe399c",
   "metadata": {},
   "source": [
    "ModelTraining() gibt einen Pandas DataFrame zurück. Dieser enthält den Wert der Kostenfunktion des Modells jeweils auf den Trainings- und Validierungsdaten sowie die zugehörigen Modellparameter."
   ]
  },
  {
   "cell_type": "code",
   "execution_count": 36,
   "id": "c4cb34b5",
   "metadata": {},
   "outputs": [
    {
     "name": "stdout",
     "output_type": "stream",
     "text": [
      "   loss_train   loss_val model  \\\n",
      "0   14.983675  15.522973  proc   \n",
      "1   14.617441  15.507123  proc   \n",
      "2   14.331449  15.336987  proc   \n",
      "3   14.713611  15.569204  proc   \n",
      "4   14.120519  15.036203  proc   \n",
      "\n",
      "                                        params_train  \\\n",
      "0  {'W_h_proc': [[0.26803534852235694, -0.4684915...   \n",
      "1  {'W_h_proc': [[2.265083386960603, -2.618739551...   \n",
      "2  {'W_h_proc': [[2.890492749022511, -6.360951971...   \n",
      "3  {'W_h_proc': [[0.0706878363833416, 0.848381004...   \n",
      "4  {'W_h_proc': [[-0.5714949246518092, 0.27736438...   \n",
      "\n",
      "                                          params_val  \n",
      "0  {'W_h_proc': [[0.2741118434044945, -0.57682930...  \n",
      "1  {'W_h_proc': [[1.5665127535966474, -2.23235467...  \n",
      "2  {'W_h_proc': [[2.814667603852826, -6.160421530...  \n",
      "3  {'W_h_proc': [[0.07067846554823758, 0.84838226...  \n",
      "4  {'W_h_proc': [[-0.5696230496936999, 0.27229093...  \n"
     ]
    }
   ],
   "source": [
    "print(result_p)"
   ]
  },
  {
   "cell_type": "code",
   "execution_count": null,
   "id": "689c609f",
   "metadata": {},
   "outputs": [],
   "source": []
  },
  {
   "cell_type": "markdown",
   "id": "901f33f0",
   "metadata": {},
   "source": [
    "Die Instanz der Klasse Static_MLP selbst ist unverändert. Die neuen Parameter müssen dem Modell erst noch zugewiesen werden: "
   ]
  },
  {
   "cell_type": "code",
   "execution_count": 37,
   "id": "16185085",
   "metadata": {},
   "outputs": [],
   "source": [
    "model_p.Parameters = result_p.loc[4]['params_val']"
   ]
  },
  {
   "cell_type": "markdown",
   "id": "e21e053b",
   "metadata": {},
   "source": [
    "Das statische Prozessmodell model_p beschreibt nun die Abbildung der an der Maschine eingestellten Prozessparameter auf die resultierenden Features. Das Modell mit den optimierten Parametern kann nun bspw. auf den Validerungsdaten (oder Daten des laufenden Betriebs) ausgewertet werden. Die Funktion static_mode() wertet ein statisches Modell auf einem gegebenen Datensatz aus."
   ]
  },
  {
   "cell_type": "code",
   "execution_count": 38,
   "id": "360c1056",
   "metadata": {},
   "outputs": [],
   "source": [
    "_,prediction_p = static_mode(model_p,data_val)"
   ]
  },
  {
   "cell_type": "markdown",
   "id": "5039d941",
   "metadata": {},
   "source": [
    "Die Bauteilqualität prediction_q wurde nun nur basierend auf den eingestellten Maschinenparametern ermittelt, ohne Verwendung der gemessenen Prozessgrößen(-features).\n",
    "\n",
    "Um die Modellgüte zu beurteilen kann die Best Fit Rate berechnet werden:"
   ]
  },
  {
   "cell_type": "code",
   "execution_count": 39,
   "id": "c64f3726",
   "metadata": {},
   "outputs": [
    {
     "name": "stdout",
     "output_type": "stream",
     "text": [
      "45.773196897059286\n"
     ]
    }
   ],
   "source": [
    "print(BestFitRate(data_val[y_label_p].values, prediction_p[y_label_p].values))"
   ]
  },
  {
   "cell_type": "markdown",
   "id": "b6776fa2",
   "metadata": {},
   "source": [
    "Durch Gegenüberstellung der bekannten wahren Bauteilqualität mit der prädizierten Bauteilqualität kann das Ergebnis visualisiert werden:"
   ]
  },
  {
   "cell_type": "code",
   "execution_count": 40,
   "id": "123fb5c2",
   "metadata": {},
   "outputs": [
    {
     "data": {
      "text/plain": [
       "<AxesSubplot:ylabel='p_wkz_max'>"
      ]
     },
     "execution_count": 40,
     "metadata": {},
     "output_type": "execute_result"
    },
    {
     "data": {
      "image/png": "[encoded data removed]",
      "text/plain": [
       "<Figure size 1440x720 with 1 Axes>"
      ]
     },
     "metadata": {
      "needs_background": "light"
     },
     "output_type": "display_data"
    }
   ],
   "source": [
    "fig, ax = plt.subplots(figsize=(20, 10))\n",
    "sns.stripplot(x=idx_plot,y=data_val.loc[idx_plot,'p_wkz_max'],color='grey',alpha=.8,\n",
    "              size=15,ax=ax)\n",
    "sns.stripplot(x=idx_plot,y=prediction_p.loc[idx_plot,'p_wkz_max'],size=15,ax=ax)\n"
   ]
  },
  {
   "cell_type": "code",
   "execution_count": null,
   "id": "04495947",
   "metadata": {},
   "outputs": [],
   "source": []
  }
 ],
 "metadata": {
  "kernelspec": {
   "display_name": "Python 3 (ipykernel)",
   "language": "python",
   "name": "python3"
  },
  "language_info": {
   "codemirror_mode": {
    "name": "ipython",
    "version": 3
   },
   "file_extension": ".py",
   "mimetype": "text/x-python",
   "name": "python",
   "nbconvert_exporter": "python",
   "pygments_lexer": "ipython3",
   "version": "3.9.7"
  }
 },
 "nbformat": 4,
 "nbformat_minor": 5
}
