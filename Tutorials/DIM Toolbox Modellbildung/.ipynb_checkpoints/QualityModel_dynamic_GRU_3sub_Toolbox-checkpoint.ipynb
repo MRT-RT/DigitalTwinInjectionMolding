{
 "cells": [
  {
   "cell_type": "markdown",
   "id": "6efa50ac",
   "metadata": {},
   "source": [
    "# Dynamisches Prozessmodell mit der DIM-Toolbox"
   ]
  },
  {
   "cell_type": "markdown",
   "id": "b6c95f2a",
   "metadata": {},
   "source": [
    "Ziel des Tutorials ist den Workflow zur Identifikation eines statischen Prozessmodells für den Spritzgießprozess mit der DIM-Toolbox zu veranschaulichen.\n",
    "\n",
    "Die für das Modelltraining (Schätzung der Modellparameter) und die Modellvalidierung verwendeten Daten wurden im Rahmen eines umfangreichen Versuchsplanes erhoben. Der Trainingsdatensatz umfasst die Daten von 2105 Produktionszyklen, der Validierungsdatensatz umfasst die Daten von 548 Produktionszyklen."
   ]
  },
  {
   "cell_type": "code",
   "execution_count": 1,
   "id": "9bd41068",
   "metadata": {},
   "outputs": [],
   "source": [
    "import pickle as pkl\n",
    "import seaborn as sns\n",
    "import matplotlib.pyplot as plt\n",
    "import pandas as pd\n",
    "import numpy as np\n",
    "\n",
    "from pathlib import Path\n",
    "\n",
    "import sys\n",
    "path_dim = Path.cwd().parents[1]\n",
    "\n",
    "sys.path.insert(0, path_dim.as_posix())\n",
    "\n",
    "from DIM.models.model_structures import GRU\n",
    "from DIM.models.injection_molding import QualityModel\n",
    "from DIM.optim.param_optim import ModelTraining, parallel_mode\n",
    "from DIM.miscellaneous.PreProcessing import LoadDynamicData\n",
    "from DIM.optim.common import BestFitRate"
   ]
  },
  {
   "cell_type": "markdown",
   "id": "f12f8025",
   "metadata": {},
   "source": [
    "Spezifiziere Pfad zur Datenbasis und welche Chargen für Modellbildung und -validierung verwendet werden sollen "
   ]
  },
  {
   "cell_type": "code",
   "execution_count": 2,
   "id": "6a77045f",
   "metadata": {},
   "outputs": [],
   "source": [
    "path = path_dim / 'data/Versuchsplan/normalized/'\n",
    "charges = list(range(1,275))\n",
    "split = 'all' \n",
    "mode='quality'  # 'process'"
   ]
  },
  {
   "cell_type": "markdown",
   "id": "df15c87a",
   "metadata": {},
   "source": [
    "Spezifiziere Ein- und Ausgangsgrößen für die Submodelle des Qualitätsmodells sowie die Dimenion der internen Modellzustände. Alle Submodelle müssen dieselbe Anzahl an internen Modellzuständen haben."
   ]
  },
  {
   "cell_type": "code",
   "execution_count": 3,
   "id": "7a9c7b89",
   "metadata": {},
   "outputs": [],
   "source": [
    "u_inj= ['p_wkz_ist','T_wkz_ist']\n",
    "u_press= ['p_wkz_ist','T_wkz_ist']\n",
    "u_cool= ['p_wkz_ist','T_wkz_ist']\n",
    "\n",
    "u_lab = [u_inj,u_press,u_cool]\n",
    "\n",
    "y_lab = ['Durchmesser_innen']\n",
    "\n",
    "dim_c = 9"
   ]
  },
  {
   "cell_type": "markdown",
   "id": "9ceefde9",
   "metadata": {},
   "source": [
    "Die Funktion LoadDynamicData() geht die zyklenweise abgelegten Dateien durch und liest alle Prozessdaten aus sowie die korrespondierenden Qualitätsdaten und teilt die Daten anschließend in Trainings- und Validierungsdaten ein"
   ]
  },
  {
   "cell_type": "code",
   "execution_count": 4,
   "id": "1e295c81",
   "metadata": {},
   "outputs": [],
   "source": [
    "data_train,data_val = LoadDynamicData(path.as_posix(),charges,split,y_lab,u_lab,mode,True)"
   ]
  },
  {
   "cell_type": "code",
   "execution_count": 5,
   "id": "eb3cb671",
   "metadata": {},
   "outputs": [
    {
     "name": "stdout",
     "output_type": "stream",
     "text": [
      "dict_keys(['data', 'init_state', 'switch', 'charge_num', 'cycle_num'])\n"
     ]
    }
   ],
   "source": [
    "print(data_train.keys())"
   ]
  },
  {
   "cell_type": "markdown",
   "id": "7a8114e1",
   "metadata": {},
   "source": [
    "Für Modelle mit interner Dynamik muss der initiale Zustand vom Nutzer festgelegt werden. Dieser wird standardmäßig auf Null gesetzt, was im Kontext dieser Anwendung ebenfalls sinnvoll ist:"
   ]
  },
  {
   "cell_type": "code",
   "execution_count": 6,
   "id": "66d56500",
   "metadata": {},
   "outputs": [],
   "source": [
    "c0_train = [np.zeros((dim_c,1)) for i in range(0,len(data_train['data']))]\n",
    "c0_val = [np.zeros((dim_c,1)) for i in range(0,len(data_val['data']))] \n",
    "\n",
    "data_train['init_state'] = c0_train\n",
    "data_val['init_state'] = c0_val"
   ]
  },
  {
   "cell_type": "markdown",
   "id": "605e79af",
   "metadata": {},
   "source": [
    "Die Daten werden von LoadDynamicData() automatisch skaliert. Plotte eine Untermenge der Validerungsdaten zu Visualisierungszwecken"
   ]
  },
  {
   "cell_type": "code",
   "execution_count": 7,
   "id": "06dba792",
   "metadata": {},
   "outputs": [
    {
     "data": {
      "text/plain": [
       "<AxesSubplot:ylabel='Durchmesser_innen'>"
      ]
     },
     "execution_count": 7,
     "metadata": {},
     "output_type": "execute_result"
    },
    {
     "data": {
      "image/png": "[encoded data removed]",
      "text/plain": [
       "<Figure size 1440x720 with 1 Axes>"
      ]
     },
     "metadata": {
      "needs_background": "light"
     },
     "output_type": "display_data"
    }
   ],
   "source": [
    "fig, ax = plt.subplots(figsize=(20, 10))\n",
    "\n",
    "data_val_plot = pd.DataFrame(data=[c.loc[0,'Durchmesser_innen'] for c in data_val['data']],\n",
    "                            index = data_val['cycle_num'],\n",
    "                            columns=['Durchmesser_innen'])\n",
    "\n",
    "idx_plot = data_val_plot.index[0:50]\n",
    "\n",
    "sns.stripplot(x=idx_plot,y=data_val_plot.loc[idx_plot,'Durchmesser_innen'],color='grey',alpha=.8,size=15,ax=ax)"
   ]
  },
  {
   "cell_type": "markdown",
   "id": "6391d587",
   "metadata": {},
   "source": [
    "Implementierte rekurrente Modellstrukturen sind LSTM und GRU. Das GRU hat in Experimenten bessere Ergebnisse geliefert und besitzt zudem weniger Modellparameter. Bei der Erzeugung einer Instanz der Klasse GRU müssen einige Parameter festgelegt werden:"
   ]
  },
  {
   "cell_type": "markdown",
   "id": "9836f63e",
   "metadata": {},
   "source": [
    "| Parameter | Typ | Erläuterung |\n",
    "| --- | --- | :-- |\n",
    "|dim_u : |int |Anzahl an Modelleingängen |\n",
    "|dim_c : |int |Anzahl an internen Modellzuständen |\n",
    "|dim_hidden | int | Anzahl an Neuronen in der verdeckten Schicht des MLPs welches die Ausgabegleichung approximiert |\n",
    "|dim_out | int | Anzahl der Modellausgänge |\n",
    "|u_label| list of str |Namen der Eingangsgrößen, muss mit den Spaltenüberschriften in data_train, data_val übereinstimmen|\n",
    "|y_label| list of str |Namen der Ausgangsgrößen, muss mit den Spaltenüberschriften in data_train, data_val übereinstimmen|\n",
    "|name | str | Name des Modells, wird verwendet, um Modellparameter eindeutig zu identifizieren und bspw. von den Parametern anderer Instanzen der gleichen Klasse zu unterscheiden|"
   ]
  },
  {
   "cell_type": "markdown",
   "id": "60ea1d87",
   "metadata": {},
   "source": [
    "Für jedes Submodell muss eine eigene Instanz der Klasse GRU() erzeugt werden, nur dann sind die Modellparameter der Submodelle wirklich verschieden voneinander."
   ]
  },
  {
   "cell_type": "code",
   "execution_count": 8,
   "id": "ec9a151c",
   "metadata": {},
   "outputs": [],
   "source": [
    "inj_model = GRU(dim_u=2,dim_c=dim_c,dim_hidden=1,\n",
    "                u_label=u_inj,y_label=y_lab,dim_out=1,name='inj')\n",
    "\n",
    "press_model = GRU(dim_u=2,dim_c=dim_c,dim_hidden=1,\n",
    "                  u_label=u_press,y_label=y_lab,dim_out=1,name='press')\n",
    "\n",
    "cool_model = GRU(dim_u=2,dim_c=dim_c,dim_hidden=10,\n",
    "                  u_label=u_cool,y_label=y_lab,dim_out=1,name='cool')"
   ]
  },
  {
   "cell_type": "markdown",
   "id": "5ca210ab",
   "metadata": {},
   "source": [
    "Bei rekurrenten Modellen ist die Initialisierung der Modellparameter besonders wichtig, um ein gutes Optimierungsergebnis zu erzielen. Im Falle der Modellarchitektur GRU ist es vorteilhaft, den Bias des Update-Gates mit betragsmäßig großen negativen Werten zu initialisieren:"
   ]
  },
  {
   "cell_type": "code",
   "execution_count": 9,
   "id": "841d006f",
   "metadata": {},
   "outputs": [],
   "source": [
    "press_model.InitialParameters ={'b_z_press':np.random.uniform(-10,-4,(dim_c,1))}\n",
    "cool_model.InitialParameters = {'b_z_cool':np.random.uniform(-10,-4,(dim_c,1))}"
   ]
  },
  {
   "cell_type": "markdown",
   "id": "324bb950",
   "metadata": {},
   "source": [
    "Die Submodelle werden nun in einer Instanz der Klasse QualityModel() gesammelt. Diese Klasse stellt Methoden zur Verfügung, die ermöglichen, dass zwischen den Submodellen zum richtigen Zeitpunkt umgeschaltet wird, der interne Zustand übergeben wird, usw. "
   ]
  },
  {
   "cell_type": "code",
   "execution_count": 10,
   "id": "8b01a161",
   "metadata": {},
   "outputs": [],
   "source": [
    "model_q = QualityModel(subsystems=[inj_model,press_model,cool_model],\n",
    "                              name='q_model')"
   ]
  },
  {
   "cell_type": "markdown",
   "id": "332de6e0",
   "metadata": {},
   "source": [
    "Das Modell model_q kann nun wie gewohnt an die Methode ModelTraining() übergeben werden, um die Parameter zu schätzen."
   ]
  },
  {
   "cell_type": "markdown",
   "id": "e8cf44c3",
   "metadata": {},
   "source": [
    "Die Routine ModelTraining() erhält als Argument das zu optimierende Modell, Trainings- und Validierungsdaten, wie oft das Optimierungsproblem neu initialisiert und gelöst werden soll (nichtlineares Optimierungsproblem) sowie den Modus der Modellauswertung:"
   ]
  },
  {
   "cell_type": "markdown",
   "id": "5009f1c6",
   "metadata": {},
   "source": [
    "| Parameter | Typ | Erläuterung |\n",
    "| --- | --- | :-- |\n",
    "|model : | DIM.models | Zu optimierendes Modell |\n",
    "|data_train | pd.DataFrame | Trainingsdaten mit Beobachtungen in den Zeilen und Eingangs- / Ausgangsgrößen in den Spalten |\n",
    "|data_val| pd.DataFrame | Trainingsdaten mit Beobachtungen in den Zeilen und Eingangs- / Ausgangsgrößen in den Spalten |\n",
    "|initializations| int | Anzahl der Multistarts, i.e. wie oft die Parameter zufällig neu initialisiert und das Optimierungsproblem von vorne gelöst werden soll|\n",
    "|p_opts | dict | printing Optionen für CasADi, siehe https://web.casadi.org/docs/ |\n",
    "|s_opts | dict | An IPOPT zu übergebende Parameter, siehe https://coin-or.github.io/Ipopt/OPTIONS.html |\n",
    "|mode | str | Art der Modellauswertung, es wird unterschieden zwischen 'parallel', 'static' und 'series'|"
   ]
  },
  {
   "cell_type": "code",
   "execution_count": 11,
   "id": "0b74bf4e",
   "metadata": {},
   "outputs": [],
   "source": [
    "# results_q = ModelTraining(model_q,data_train,data_val,initializations=10,\n",
    "#                           p_opts=None,s_opts=None,mode='static')"
   ]
  },
  {
   "cell_type": "markdown",
   "id": "52538589",
   "metadata": {},
   "source": [
    "Für gewöhnlich müssen einige Multistarts ausgeführt werden (mindestens 10). Für dieses Tutorial werden aus Zeitgründen die Ergebnisse von bereits durchgeführten Optimierungsdurchläufen geladen."
   ]
  },
  {
   "cell_type": "code",
   "execution_count": 12,
   "id": "512679d4",
   "metadata": {},
   "outputs": [],
   "source": [
    "result_q = pkl.load(open('./results/GRU_c9_3sub_all.pkl','rb'))"
   ]
  },
  {
   "cell_type": "markdown",
   "id": "15fe399c",
   "metadata": {},
   "source": [
    "ModelTraining() gibt einen Pandas DataFrame zurück. Dieser enthält den Wert der Kostenfunktion des Modells jeweils auf den Trainings- und Validierungsdaten sowie die zugehörigen Modellparameter."
   ]
  },
  {
   "cell_type": "code",
   "execution_count": 13,
   "id": "012a646d",
   "metadata": {},
   "outputs": [
    {
     "name": "stdout",
     "output_type": "stream",
     "text": [
      "       loss_train  loss_val    model  \\\n",
      "0    3.286233e+00    0.9849  q_model   \n",
      "1   2.222281e+307  1.224618  q_model   \n",
      "2    3.400153e+98  1.217712  q_model   \n",
      "3   1.058231e+123  1.290329  q_model   \n",
      "4   1.500945e+201  1.024891  q_model   \n",
      "5    4.615113e+04  2.347293  q_model   \n",
      "6    3.140620e+00  0.771558  q_model   \n",
      "7    4.299764e+00  1.121796  q_model   \n",
      "8    7.824558e+00  1.756377  q_model   \n",
      "9   1.098146e+104  2.741785  q_model   \n",
      "10   3.146446e+00  0.749514  q_model   \n",
      "11   1.198504e+63  2.098423  q_model   \n",
      "12   3.816781e+00  1.071435  q_model   \n",
      "13   5.849058e+46  1.562786  q_model   \n",
      "14   1.686442e+01  1.290315  q_model   \n",
      "15   2.394431e+01   1.12851  q_model   \n",
      "16   5.945596e+00  1.258171  q_model   \n",
      "17  5.556427e+187  1.507651  q_model   \n",
      "18   4.519485e+55  1.787059  q_model   \n",
      "19   7.884649e+00  1.657222  q_model   \n",
      "\n",
      "                                         params_train  \\\n",
      "0   {'W_r_inj': [[0.15272906322459542, -0.11465043...   \n",
      "1   {'W_r_inj': [[4.647696244939242e+149, 9.447133...   \n",
      "2   {'W_r_inj': [[1.8436730029421667e+44, 5.327247...   \n",
      "3   {'W_r_inj': [[-1.472523831367947e+58, -3.05991...   \n",
      "4   {'W_r_inj': [[-1.31284833841582e+96, 9.3369524...   \n",
      "5   {'W_r_inj': [[0.16982930352083828, 0.237249952...   \n",
      "6   {'W_r_inj': [[0.01035679806495468, -0.17110589...   \n",
      "7   {'W_r_inj': [[-0.01052307030987778, 0.03739312...   \n",
      "8   {'W_r_inj': [[-0.023725548304492937, -0.126727...   \n",
      "9   {'W_r_inj': [[3.784880776385522e+47, 1.2284939...   \n",
      "10  {'W_r_inj': [[0.2936685305204579, -0.018795610...   \n",
      "11  {'W_r_inj': [[-1.999028494561647e+28, 2.675505...   \n",
      "12  {'W_r_inj': [[-0.018671411275914134, 0.0599764...   \n",
      "13  {'W_r_inj': [[2.5472900986194076e+19, 3.356744...   \n",
      "14  {'W_r_inj': [[0.017078920006387017, 0.04037672...   \n",
      "15  {'W_r_inj': [[-0.0707382021985682, 0.021311867...   \n",
      "16  {'W_r_inj': [[-0.04703104030074302, -0.0466710...   \n",
      "17  {'W_r_inj': [[1.016298386894249e+91, 9.3385596...   \n",
      "18  {'W_r_inj': [[1.5322306815348045e+24, 8.083562...   \n",
      "19  {'W_r_inj': [[-0.1107028983136787, -0.08036928...   \n",
      "\n",
      "                                           params_val  \n",
      "0   {'W_r_inj': [[0.1528655126163355, -0.114538958...  \n",
      "1   {'W_r_inj': [[0.22780277201235744, -0.09917030...  \n",
      "2   {'W_r_inj': [[-0.11364397824464303, -0.1760384...  \n",
      "3   {'W_r_inj': [[0.054123538556818895, 0.06875642...  \n",
      "4   {'W_r_inj': [[-0.06122949087490403, 0.03390453...  \n",
      "5   {'W_r_inj': [[0.16814424557710067, 0.100555868...  \n",
      "6   {'W_r_inj': [[0.004204765027730591, -0.1725014...  \n",
      "7   {'W_r_inj': [[-0.012848055197661187, 0.0359292...  \n",
      "8   {'W_r_inj': [[-0.028240705034496414, -0.127275...  \n",
      "9   {'W_r_inj': [[-0.17395885635453795, -0.0384165...  \n",
      "10  {'W_r_inj': [[0.2941710230489841, -0.017562812...  \n",
      "11  {'W_r_inj': [[-0.02859629431999885, -0.0121029...  \n",
      "12  {'W_r_inj': [[-0.0165421540819121, 0.055793829...  \n",
      "13  {'W_r_inj': [[0.12148945560779681, 0.087519151...  \n",
      "14  {'W_r_inj': [[0.010382886658184522, 0.03274113...  \n",
      "15  {'W_r_inj': [[-0.004936509759597743, 0.0194425...  \n",
      "16  {'W_r_inj': [[-0.04771738466359143, -0.0409549...  \n",
      "17  {'W_r_inj': [[0.09856583274055207, 0.040039054...  \n",
      "18  {'W_r_inj': [[0.14840801499538173, -0.03382816...  \n",
      "19  {'W_r_inj': [[-0.11308701845832332, -0.0819931...  \n"
     ]
    }
   ],
   "source": [
    "print(result_q)"
   ]
  },
  {
   "cell_type": "markdown",
   "id": "901f33f0",
   "metadata": {},
   "source": [
    "Die Instanzen der Klasse GRU selbst sind noch unverändert. Die neuen Parameter müssen dem Modell erst noch zugewiesen werden. Die Klasse QualityModel() stellt dafür die Methode SetParameters() bereit"
   ]
  },
  {
   "cell_type": "code",
   "execution_count": 14,
   "id": "16185085",
   "metadata": {},
   "outputs": [],
   "source": [
    "params = result_q.loc[10]['params_val']\n",
    "\n",
    "model_q.SetParameters(params)"
   ]
  },
  {
   "cell_type": "markdown",
   "id": "e21e053b",
   "metadata": {},
   "source": [
    "Das statische Prozessmodell model_p beschreibt nun die Abbildung der an der Maschine eingestellten Prozessparameter auf die resultierenden Features. Das Modell mit den optimierten Parametern kann nun bspw. auf den Validerungsdaten (oder Daten des laufenden Betriebs) ausgewertet werden. Die Funktion static_mode() wertet ein statisches Modell auf einem gegebenen Datensatz aus."
   ]
  },
  {
   "cell_type": "code",
   "execution_count": 15,
   "id": "360c1056",
   "metadata": {},
   "outputs": [],
   "source": [
    "_,prediction_q = parallel_mode(model_q,data_val)"
   ]
  },
  {
   "cell_type": "markdown",
   "id": "5039d941",
   "metadata": {},
   "source": [
    "Um die Modellgüte zu beurteilen kann die Best Fit Rate berechnet werden:"
   ]
  },
  {
   "cell_type": "code",
   "execution_count": 16,
   "id": "c64f3726",
   "metadata": {},
   "outputs": [
    {
     "name": "stdout",
     "output_type": "stream",
     "text": [
      "91.36528964425487\n"
     ]
    }
   ],
   "source": [
    "prediction_q_plot = pd.DataFrame(data=[c['Durchmesser_innen'].values for c in prediction_q],\n",
    "                                index = data_val['cycle_num'],\n",
    "                                columns=['Durchmesser_innen'])\n",
    "\n",
    "\n",
    "print(BestFitRate(data_val_plot[y_lab].values, prediction_q_plot[y_lab].values))"
   ]
  },
  {
   "cell_type": "markdown",
   "id": "b6776fa2",
   "metadata": {},
   "source": [
    "Durch Gegenüberstellung der bekannten wahren Bauteilqualität mit der prädizierten Bauteilqualität kann das Ergebnis visualisiert werden:"
   ]
  },
  {
   "cell_type": "code",
   "execution_count": 17,
   "id": "123fb5c2",
   "metadata": {},
   "outputs": [
    {
     "data": {
      "text/plain": [
       "<AxesSubplot:ylabel='Durchmesser_innen'>"
      ]
     },
     "execution_count": 17,
     "metadata": {},
     "output_type": "execute_result"
    },
    {
     "data": {
      "image/png": "[encoded data removed]",
      "text/plain": [
       "<Figure size 1440x720 with 1 Axes>"
      ]
     },
     "metadata": {
      "needs_background": "light"
     },
     "output_type": "display_data"
    }
   ],
   "source": [
    "fig, ax = plt.subplots(figsize=(20, 10))\n",
    "sns.stripplot(x=idx_plot,y=data_val_plot.loc[idx_plot,'Durchmesser_innen'],color='grey',alpha=.8,\n",
    "              size=15,ax=ax)\n",
    "sns.stripplot(x=idx_plot,y=prediction_q_plot.loc[idx_plot,'Durchmesser_innen'],size=15,ax=ax)"
   ]
  },
  {
   "cell_type": "code",
   "execution_count": null,
   "id": "04495947",
   "metadata": {},
   "outputs": [],
   "source": []
  },
  {
   "cell_type": "code",
   "execution_count": null,
   "id": "51529317",
   "metadata": {},
   "outputs": [],
   "source": []
  }
 ],
 "metadata": {
  "kernelspec": {
   "display_name": "Python 3 (ipykernel)",
   "language": "python",
   "name": "python3"
  },
  "language_info": {
   "codemirror_mode": {
    "name": "ipython",
    "version": 3
   },
   "file_extension": ".py",
   "mimetype": "text/x-python",
   "name": "python",
   "nbconvert_exporter": "python",
   "pygments_lexer": "ipython3",
   "version": "3.9.7"
  }
 },
 "nbformat": 4,
 "nbformat_minor": 5
}
