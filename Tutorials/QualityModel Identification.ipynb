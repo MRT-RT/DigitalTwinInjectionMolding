{
 "cells": [
  {
   "cell_type": "markdown",
   "id": "1dc513b2",
   "metadata": {},
   "source": [
    "# Identification of Quality Models from data"
   ]
  },
  {
   "cell_type": "code",
   "execution_count": null,
   "id": "3fb6df32",
   "metadata": {},
   "outputs": [],
   "source": [
    "import pickle as pkl\n",
    "import numpy as np\n",
    "import matplotlib.pyplot as plt\n",
    "\n",
    "import sys\n",
    "\n",
    "sys.path.append('C:/Users/LocalAdmin/Documents/GitHub/DigitalTwinInjectionMolding/')\n",
    "sys.path.append('E:/GitHub/DigitalTwinInjectionMolding/')\n",
    "sys.path.append('/home/alexander/GitHub/DigitalTwinInjectionMolding/')\n",
    "\n",
    "from DIM.miscellaneous.PreProcessing import arrange_data_for_ident\n",
    "\n",
    "from DIM.models.model_structures import GRU\n",
    "from DIM.models.injection_molding import QualityModel\n",
    "from DIM.optim.param_optim import ModelTraining"
   ]
  },
  {
   "cell_type": "markdown",
   "id": "ae496167",
   "metadata": {},
   "source": [
    "Load experimental data, use 5 cycles for parameter estimation (model training) and 3 cycles for model validation "
   ]
  },
  {
   "cell_type": "code",
   "execution_count": null,
   "id": "dca071d0",
   "metadata": {},
   "outputs": [],
   "source": [
    "cycles = []\n",
    "\n",
    "for i in range(1,11):\n",
    "    cycles.append(pkl.load(open('../data/Versuchsplan/cycle'+str(i)+'.pkl','rb')))\n",
    "\n",
    "cycles_train = cycles[2:7]\n",
    "cycles_val = cycles[7:10]"
   ]
  },
  {
   "cell_type": "code",
   "execution_count": null,
   "id": "f873092f",
   "metadata": {},
   "outputs": [],
   "source": [
    "print(cycles[0])"
   ]
  },
  {
   "cell_type": "markdown",
   "id": "bbab0060",
   "metadata": {},
   "source": [
    "Select process variables and product quality measurements for modeling"
   ]
  },
  {
   "cell_type": "code",
   "execution_count": null,
   "id": "0ee6970b",
   "metadata": {},
   "outputs": [],
   "source": [
    "q_lab = ['Durchmesser_innen']\n",
    "x_lab= [['p_wkz_ist','T_wkz_ist','p_inj_ist','Q_Vol_ist','V_Screw_ist']]"
   ]
  },
  {
   "cell_type": "code",
   "execution_count": null,
   "id": "b76012c3",
   "metadata": {},
   "outputs": [],
   "source": [
    "data_train,init_train,switch_train = arrange_data_for_ident(cycles_train,q_lab,x_lab,'quality')\n",
    "data_val,init_val,switch_val = arrange_data_for_ident(cycles_val,q_lab,x_lab,'quality')"
   ]
  },
  {
   "cell_type": "markdown",
   "id": "5e4e8f1e",
   "metadata": {},
   "source": [
    "Plot training data"
   ]
  },
  {
   "cell_type": "code",
   "execution_count": null,
   "id": "a4a287af",
   "metadata": {},
   "outputs": [],
   "source": [
    "fig, axs = plt.subplots(2,3)\n",
    "fig.set_size_inches((40/2.54,20/2.54))\n",
    "plt.subplot(2,3,1,title='cycle2',xlabel='k');plt.plot(data_train[0][x_lab[0]])\n",
    "plt.subplot(2,3,2,title='cycle3',xlabel='k');plt.plot(data_train[1][x_lab[0]])\n",
    "plt.subplot(2,3,3,title='cycle4',xlabel='k');plt.plot(data_train[2][x_lab[0]])\n",
    "plt.subplot(2,3,4,title='cycle5',xlabel='k');plt.plot(data_train[3][x_lab[0]])\n",
    "plt.subplot(2,3,5,title='cycle6',xlabel='k');plt.plot(data_train[4][x_lab[0]])\n",
    "\n",
    "plt.subplot(2,3,6,title='D innen',xlabel='cycle')\n",
    "plt.plot([2,3,4,5,6],[data_train[i][q_lab].iloc[0].values for i in range(len(data_train))],'d',markersize=12,label='train true')\n",
    "plt.plot([7,8,9],[data_val[i][q_lab].iloc[0].values for i in range(len(data_val))],'d',markersize=12,label='val true')\n",
    "plt.legend()\n",
    "plt.subplots_adjust(hspace=0.3)\n",
    "plt.show()"
   ]
  },
  {
   "cell_type": "markdown",
   "id": "651d30b4",
   "metadata": {},
   "source": [
    "Initialize Quality Model, comprising one model for the injection, pressure and cooling phase, respectively"
   ]
  },
  {
   "cell_type": "code",
   "execution_count": null,
   "id": "de63de9e",
   "metadata": {},
   "outputs": [],
   "source": [
    "dim_c = 2\n",
    "\n",
    "injection_model = GRU(dim_u=5,dim_c=dim_c,dim_hidden=10,dim_out=1,name='inject')\n",
    "press_model = GRU(dim_u=5,dim_c=dim_c,dim_hidden=10,dim_out=1,name='press')\n",
    "cool_model = GRU(dim_u=5,dim_c=dim_c,dim_hidden=10,dim_out=1,name='cool')\n",
    "\n",
    "quality_model = QualityModel(subsystems=[injection_model,press_model,cool_model],\n",
    "                              name='q_model')"
   ]
  },
  {
   "cell_type": "code",
   "execution_count": null,
   "id": "892895aa",
   "metadata": {},
   "outputs": [],
   "source": [
    "c0_train = [np.zeros((dim_c,1)) for i in range(0,len(x_train))]\n",
    "c0_val = [np.zeros((dim_c,1)) for i in range(0,len(x_val))]\n",
    "\n",
    "data = {'u_train': x_train,\n",
    "        'y_train': q_train,\n",
    "        'switch_train': switch_train,\n",
    "        'init_state_train': c0_train,\n",
    "        'u_val': x_val,\n",
    "        'y_val': q_val,\n",
    "        'switch_val': switch_val,\n",
    "        'init_state_val': c0_val}"
   ]
  },
  {
   "cell_type": "markdown",
   "id": "1c3f6e3e",
   "metadata": {},
   "source": [
    "Usually the model and the data is given to the ModelTraining() procedure, to estimate the optimal parameters, this has been done in advance so the results are merely loaded by calling pkl.load()"
   ]
  },
  {
   "cell_type": "code",
   "execution_count": null,
   "id": "9ef6c5f5",
   "metadata": {},
   "outputs": [],
   "source": [
    "results = ModelTraining(quality_model,data)\n",
    "results = pkl.load(open('../QualityModel_GRU_1c_5in_1out.pkl','rb'))\n",
    "print(results)"
   ]
  },
  {
   "cell_type": "markdown",
   "id": "6a9ddd40",
   "metadata": {},
   "source": [
    "The parameters the led to the best results on the validation dataset (row index 3) are assigned to the quality model"
   ]
  },
  {
   "cell_type": "code",
   "execution_count": null,
   "id": "a630211f",
   "metadata": {},
   "outputs": [],
   "source": [
    "quality_model.AssignParameters(results.loc[3,'params'])"
   ]
  },
  {
   "cell_type": "markdown",
   "id": "44aea631",
   "metadata": {},
   "source": [
    "Evaluate the trained model on the training data and the validation data, to see how well the model predicts product quality from process measurements"
   ]
  },
  {
   "cell_type": "code",
   "execution_count": null,
   "id": "ec30f6df",
   "metadata": {},
   "outputs": [],
   "source": [
    "y_train = []\n",
    "y_val = []\n",
    "\n",
    "#Estimation on training data cycles\n",
    "for i in range(0,5): \n",
    "    _,y = quality_model.Simulation(data['init_state_train'][i], data['u_train'][i],None,data['switch_train'][i])\n",
    "    y = np.array(y[-1])[0,0]\n",
    "    y_train.append(y)\n",
    "\n",
    "#Estimation on validation data cycles    \n",
    "for i in range(0,3): \n",
    "    _,y = quality_model.Simulation(data['init_state_val'][i], data['u_val'][i],None,data['switch_val'][i])\n",
    "    y = np.array(y[-1])[0,0]\n",
    "    y_val.append(y)"
   ]
  },
  {
   "cell_type": "markdown",
   "id": "35ac7551",
   "metadata": {},
   "source": [
    "Plot input validation data as well as predicted and true output data"
   ]
  },
  {
   "cell_type": "code",
   "execution_count": null,
   "id": "5cb66928",
   "metadata": {},
   "outputs": [],
   "source": [
    "fig, axs = plt.subplots(2,2)\n",
    "fig.set_size_inches((40/2.54,20/2.54))\n",
    "plt.subplot(2,2,1,title='cycle 7',xlabel='k');plt.plot(x_val[0])\n",
    "plt.subplot(2,2,3,title='cycle 8',xlabel='k');plt.plot(x_val[1])\n",
    "plt.subplot(1,2,2,title='D innen',xlabel='cycle')\n",
    "\n",
    "plt.plot([2,3,4,5,6],q_train,'d',markersize=12,label='train true')\n",
    "plt.plot([7,8,9],q_val,'d',markersize=12,label='val true')\n",
    "plt.plot([2,3,4,5,6],y_train,'d',markersize=12,label='train est')\n",
    "plt.plot([7,8,9],y_val,'d',markersize=12,label='val est')\n",
    "plt.subplots_adjust(hspace=0.3 )\n",
    "plt.legend()\n",
    "plt.show()"
   ]
  },
  {
   "cell_type": "markdown",
   "id": "c034f595",
   "metadata": {},
   "source": [
    "I.e. the model overestimates the true quality measurement \"D innen\" "
   ]
  }
 ],
 "metadata": {
  "kernelspec": {
   "display_name": "Python 3 (ipykernel)",
   "language": "python",
   "name": "python3"
  },
  "language_info": {
   "codemirror_mode": {
    "name": "ipython",
    "version": 3
   },
   "file_extension": ".py",
   "mimetype": "text/x-python",
   "name": "python",
   "nbconvert_exporter": "python",
   "pygments_lexer": "ipython3",
   "version": "3.9.7"
  }
 },
 "nbformat": 4,
 "nbformat_minor": 5
}
