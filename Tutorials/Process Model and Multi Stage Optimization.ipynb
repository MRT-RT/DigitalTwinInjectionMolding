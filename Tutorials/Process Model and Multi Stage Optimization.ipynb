{
 "cells": [
  {
   "cell_type": "markdown",
   "id": "gross-annual",
   "metadata": {},
   "source": [
    "# The Process Model Class and Multi Stage Optimization"
   ]
  },
  {
   "cell_type": "markdown",
   "id": "coral-brunei",
   "metadata": {},
   "source": [
    "After having successfuly identified dynamical models of the different phases of the injection moulding process, the goal is to use these models for optimal control during machine operation. For this purpose this Toolbox provides a class and a function, which allows the user to do so without having to formulate the optimization problem themselves."
   ]
  },
  {
   "cell_type": "markdown",
   "id": "floral-movement",
   "metadata": {},
   "source": [
    "## The ProcessModel() Class"
   ]
  },
  {
   "cell_type": "markdown",
   "id": "exceptional-monster",
   "metadata": {},
   "source": [
    "The ProcessModel Class is a container which allows the user to\n",
    "- store the identified models for the different phases (injection, packing, cooling) of the injection molding process as subsystem-models\n",
    "- and parameterize the reference signals according to the needs of the user.\n",
    "\n",
    "An instance of the ProcessModel Class can be passed to different functions in order to\n",
    "- optimize the parameters of the reference signals in order to achieve a certain target trajectory or\n",
    "- update the parameters of the subsystem-models given new measurement data.\n",
    "\n",
    "In this tutorial, an instance of the ProcessModel Class will be used for the first purpose, i.e. Multi Stage Optimization."
   ]
  },
  {
   "cell_type": "markdown",
   "id": "medium-launch",
   "metadata": {},
   "source": [
    "### Subsystems"
   ]
  },
  {
   "cell_type": "markdown",
   "id": "furnished-delta",
   "metadata": {},
   "source": [
    "It is assumed, that models for the different phases of the injection molding process have already been identified and validated. Any class from the model-structures module can be used as a subsystem in the ProcessModel Class. Even user-specified classes are possible, as long as the model equations are formulated as a casadi.Function() and it possesses a OneStepPrediction and Simulation method. For the purpose of this tutorial, instead of identifying models from data, they will be manually specified: "
   ]
  },
  {
   "cell_type": "code",
   "execution_count": 3,
   "id": "retained-colleague",
   "metadata": {},
   "outputs": [],
   "source": [
    "import casadi as cs\n",
    "import matplotlib.pyplot as plt\n",
    "import numpy as np\n",
    "import pickle as pkl\n",
    "\n",
    "import sys\n",
    "\n",
    "#sys.path.append('C:/Users/LocalAdmin/Documents/GitHub/DigitalTwinInjectionMolding/')\n",
    "sys.path.append('E:/GitHub/DigitalTwinInjectionMolding/')\n",
    "\n",
    "from DIM.models import injection_molding, model_structures\n",
    "from DIM.optim.control_optim import ProcessMultiStageOptimization"
   ]
  },
  {
   "cell_type": "code",
   "execution_count": 4,
   "id": "pacific-physiology",
   "metadata": {},
   "outputs": [],
   "source": [
    "dt = 1\n",
    "\n",
    "injection_model = model_structures.SecondOrderSystem(dt,'injection_model')\n",
    "injection_model.Parameters={'A':np.array([[0,1],[-1,-1]]),'b':np.array([[0],[1]]),'c':np.array([[1,0]])}\n",
    "\n",
    "packing_model = model_structures.FirstOrderSystem(dt,'packing_model')\n",
    "packing_model.Parameters={'a':-0.1,'b':0.5}\n",
    "\n",
    "cooling_model = model_structures.FirstOrderSystem(dt,'cooling_model')\n",
    "cooling_model.Parameters={'a':-0.6,'b':0}"
   ]
  },
  {
   "cell_type": "markdown",
   "id": "israeli-database",
   "metadata": {},
   "source": [
    "The First and Second-Order Systems were implemented as continuous-time equations which are integrated using a Runge-Kutta method, which is why a sampling time needs to be specified in this case. Notice also, that the parameter $b$ of the cooling model is equal to zero. Now, these models need to be passed to an instance of the ProcessModel Class. This is simply done, by passing them as a list to the subsystems attribute:"
   ]
  },
  {
   "cell_type": "code",
   "execution_count": 5,
   "id": "turkish-minority",
   "metadata": {},
   "outputs": [],
   "source": [
    "ProcessModel = injection_molding.ProcessModel()\n",
    "ProcessModel.subsystems = [injection_model,packing_model,cooling_model]"
   ]
  },
  {
   "cell_type": "markdown",
   "id": "covered-theorem",
   "metadata": {},
   "source": [
    "### Reference Trajectories"
   ]
  },
  {
   "cell_type": "markdown",
   "id": "burning-checkout",
   "metadata": {},
   "source": [
    "In the following step, the reference signals need to be parameterized. This is necessary, because injection molding machines do not permit the specification of arbitrary reference signals. Usually these are designated to be step signals with two or three levels. The ProcessModel class expects the parameterized reference signals to be lambda functions with two arguments, the first beeing a dictionary containing the parameters, the second being the discrete time $k$. Furthermore, using truly discrete reference signals would result in an optimization problems with discrete variables. In order to circumvent this problem, the step signals are approximated via logistic functions with soft rather than hard transitions.\n",
    "\n",
    "If, for example the reference signal in the filling phase is a step signal with three levels and the reference signal in the holding phase is a step signal with two levels appropriate functions could be   "
   ]
  },
  {
   "cell_type": "code",
   "execution_count": 6,
   "id": "monetary-underground",
   "metadata": {},
   "outputs": [],
   "source": [
    "W1 = lambda p,k: p['h1']+(p['h2']-p['h1'])/(1+np.exp(-2*(k-p['T1']))) + p['h2']+(p['h3']-p['h2'])/(1+np.exp(-2*(k-p['T2'])))\n",
    "W2 = lambda p,k: p['h4']+(p['h5']-p['h4'])/(1+np.exp(-2*(k-p['T3'])))"
   ]
  },
  {
   "cell_type": "markdown",
   "id": "terminal-custom",
   "metadata": {},
   "source": [
    "To visualize these signals one has to provide a dictionary with parameters and a discrete time vector "
   ]
  },
  {
   "cell_type": "code",
   "execution_count": 7,
   "id": "grave-beauty",
   "metadata": {},
   "outputs": [],
   "source": [
    "params = {'h1':np.array([[0]]),\n",
    "          'h2':np.array([[5]]),\n",
    "          'h3':np.array([[3]]),\n",
    "          'T1':np.array([[10]]),\n",
    "          'T2':np.array([[40]]),\n",
    "          'h4':np.array([[6]]),\n",
    "          'h5':np.array([[1]]),\n",
    "          'T3':np.array([[80]])}\n",
    "\n",
    "discrete_time = np.arange(0,150,1)"
   ]
  },
  {
   "cell_type": "markdown",
   "id": "secret-stress",
   "metadata": {},
   "source": [
    "It is important, that the keys of the parameter dictionary exactly match the keys used in the lambda functions, otherwise the optimizer won't be able to find them."
   ]
  },
  {
   "cell_type": "markdown",
   "id": "aquatic-scenario",
   "metadata": {},
   "source": [
    "The lambda functions can then be evaluated by passing the parameter dictionary and the discrete time vector."
   ]
  },
  {
   "cell_type": "code",
   "execution_count": 8,
   "id": "balanced-forty",
   "metadata": {},
   "outputs": [
    {
     "data": {
      "text/plain": [
       "<matplotlib.legend.Legend at 0x212fe3c6fa0>"
      ]
     },
     "execution_count": 8,
     "metadata": {},
     "output_type": "execute_result"
    },
    {
     "data": {
      "image/png": "[encoded data removed]",
      "text/plain": [
       "<Figure size 432x288 with 1 Axes>"
      ]
     },
     "metadata": {
      "needs_background": "light"
     },
     "output_type": "display_data"
    }
   ],
   "source": [
    "plt.plot(W1(params,discrete_time).T,label='W1')\n",
    "plt.plot(W2(params,discrete_time).T,label='W2')\n",
    "plt.legend()"
   ]
  },
  {
   "cell_type": "markdown",
   "id": "opposed-mystery",
   "metadata": {},
   "source": [
    "The lambda functions need to be passed to the reference-attribute of the ProcessModel instance as a list in order for the optimization procedures to recognize them as the optimization target. The order must match the order of the subsystems."
   ]
  },
  {
   "cell_type": "code",
   "execution_count": 9,
   "id": "rotary-baseball",
   "metadata": {},
   "outputs": [],
   "source": [
    "ProcessModel.reference = [[W1],[W2],[]]"
   ]
  },
  {
   "cell_type": "markdown",
   "id": "sweet-screening",
   "metadata": {},
   "source": [
    "The dictionary which contains initial estimates for the parameters of the reference trajectories must also be passed to the ProcessModel via the attribute ref_params"
   ]
  },
  {
   "cell_type": "code",
   "execution_count": 10,
   "id": "endless-current",
   "metadata": {},
   "outputs": [],
   "source": [
    "ProcessModel.ref_params = params"
   ]
  },
  {
   "cell_type": "markdown",
   "id": "incomplete-westminster",
   "metadata": {},
   "source": [
    "Finally, the switching instances, i.e. when the transition from one subsystem to the next, must be provided as a list of integers. Usually, these switching instances are not known and are also part of the optimization problem. This will be covered in another tutorial. For the sake of this tutorial, it is assumed, that the switching instances are known and fixed:  "
   ]
  },
  {
   "cell_type": "code",
   "execution_count": 11,
   "id": "sought-broadcast",
   "metadata": {},
   "outputs": [],
   "source": [
    "ProcessModel.switching_instances = [80,120]"
   ]
  },
  {
   "cell_type": "markdown",
   "id": "hundred-husband",
   "metadata": {},
   "source": [
    "## The MultiStageOptimization() function"
   ]
  },
  {
   "cell_type": "markdown",
   "id": "psychological-hebrew",
   "metadata": {},
   "source": [
    "Given an instance of the ProcessModel() Class and a target trajectory, the MultiStageOptimization() procedure optimizes the parameters of the reference trajectories, such that the mean squared error between the output predicted by the instance of ProcessModel() and the target trajectory is minimized."
   ]
  },
  {
   "cell_type": "markdown",
   "id": "taken-peter",
   "metadata": {},
   "source": [
    "Usually, the target trajectory is the result of expertise (e.g. the trajectory of the cavity pressure in an injection molding process can be derived from the pvT diagram) or itself the result of an optimization problem. In this tutorial the reference trajectory will just be an arbitrary signal:"
   ]
  },
  {
   "cell_type": "code",
   "execution_count": 15,
   "id": "supposed-alcohol",
   "metadata": {},
   "outputs": [
    {
     "data": {
      "text/plain": [
       "[<matplotlib.lines.Line2D at 0x212fe7dff10>]"
      ]
     },
     "execution_count": 15,
     "metadata": {},
     "output_type": "execute_result"
    },
    {
     "data": {
      "image/png": "[encoded data removed]",
      "text/plain": [
       "<Figure size 432x288 with 1 Axes>"
      ]
     },
     "metadata": {
      "needs_background": "light"
     },
     "output_type": "display_data"
    }
   ],
   "source": [
    "N=150\n",
    "\n",
    "target = np.zeros((N,1))\n",
    "target[0:20]=2\n",
    "target[20:40]=6\n",
    "target[40:80]=4\n",
    "target[80:100]=4\n",
    "target[100:120]=2\n",
    "target[120:150]=0\n",
    "\n",
    "plt.plot(target,label='target')"
   ]
  },
  {
   "cell_type": "code",
   "execution_count": 17,
   "id": "junior-diploma",
   "metadata": {},
   "outputs": [
    {
     "ename": "RuntimeError",
     "evalue": ".../casadi/core/mx.cpp:402: Assertion \"in_range(kk.nonzeros(), -sz+ind1, sz+ind1)\" failed:\nOut of bounds error. Got elements in range [150,150], which is outside the range [-150,150).",
     "output_type": "error",
     "traceback": [
      "\u001b[1;31m---------------------------------------------------------------------------\u001b[0m",
      "\u001b[1;31mRuntimeError\u001b[0m                              Traceback (most recent call last)",
      "\u001b[1;32m<ipython-input-17-fe21a38b5775>\u001b[0m in \u001b[0;36m<module>\u001b[1;34m\u001b[0m\n\u001b[1;32m----> 1\u001b[1;33m \u001b[0mresult\u001b[0m \u001b[1;33m=\u001b[0m \u001b[0mProcessMultiStageOptimization\u001b[0m\u001b[1;33m(\u001b[0m\u001b[0mProcessModel\u001b[0m\u001b[1;33m,\u001b[0m\u001b[0mtarget\u001b[0m\u001b[1;33m)\u001b[0m\u001b[1;33m\u001b[0m\u001b[1;33m\u001b[0m\u001b[0m\n\u001b[0m",
      "\u001b[1;32mE:/GitHub/DigitalTwinInjectionMolding\\DIM\\optim\\control_optim.py\u001b[0m in \u001b[0;36mProcessMultiStageOptimization\u001b[1;34m(process_model, target)\u001b[0m\n\u001b[0;32m    164\u001b[0m             \u001b[0mpred\u001b[0m \u001b[1;33m=\u001b[0m \u001b[0mpred\u001b[0m\u001b[1;33m[\u001b[0m\u001b[1;36m1\u001b[0m\u001b[1;33m]\u001b[0m\u001b[1;33m\u001b[0m\u001b[1;33m\u001b[0m\u001b[0m\n\u001b[0;32m    165\u001b[0m \u001b[1;33m\u001b[0m\u001b[0m\n\u001b[1;32m--> 166\u001b[1;33m         \u001b[0mopti\u001b[0m\u001b[1;33m.\u001b[0m\u001b[0msubject_to\u001b[0m\u001b[1;33m(\u001b[0m\u001b[0mpred\u001b[0m\u001b[1;33m==\u001b[0m\u001b[0mX\u001b[0m\u001b[1;33m[\u001b[0m\u001b[0mk\u001b[0m\u001b[1;33m+\u001b[0m\u001b[1;36m1\u001b[0m\u001b[1;33m]\u001b[0m\u001b[1;33m)\u001b[0m\u001b[1;33m\u001b[0m\u001b[1;33m\u001b[0m\u001b[0m\n\u001b[0m\u001b[0;32m    167\u001b[0m \u001b[1;33m\u001b[0m\u001b[0m\n\u001b[0;32m    168\u001b[0m     ''' Further Path Constraints (to avoid values that might damage the \n",
      "\u001b[1;32mE:\\anaconda\\envs\\Python38\\lib\\site-packages\\casadi\\casadi.py\u001b[0m in \u001b[0;36m__getitem__\u001b[1;34m(self, s)\u001b[0m\n\u001b[0;32m  10834\u001b[0m             \u001b[1;32mif\u001b[0m \u001b[0ms\u001b[0m\u001b[1;33m[\u001b[0m\u001b[1;36m1\u001b[0m\u001b[1;33m]\u001b[0m \u001b[1;32mis\u001b[0m \u001b[1;32mNone\u001b[0m\u001b[1;33m:\u001b[0m \u001b[1;32mraise\u001b[0m \u001b[0mTypeError\u001b[0m\u001b[1;33m(\u001b[0m\u001b[1;34m\"Cannot slice with None\"\u001b[0m\u001b[1;33m)\u001b[0m\u001b[1;33m\u001b[0m\u001b[1;33m\u001b[0m\u001b[0m\n\u001b[0;32m  10835\u001b[0m             \u001b[1;32mreturn\u001b[0m \u001b[0mself\u001b[0m\u001b[1;33m.\u001b[0m\u001b[0mget\u001b[0m\u001b[1;33m(\u001b[0m\u001b[1;32mFalse\u001b[0m\u001b[1;33m,\u001b[0m \u001b[0ms\u001b[0m\u001b[1;33m[\u001b[0m\u001b[1;36m0\u001b[0m\u001b[1;33m]\u001b[0m\u001b[1;33m,\u001b[0m \u001b[0ms\u001b[0m\u001b[1;33m[\u001b[0m\u001b[1;36m1\u001b[0m\u001b[1;33m]\u001b[0m\u001b[1;33m)\u001b[0m\u001b[1;33m\u001b[0m\u001b[1;33m\u001b[0m\u001b[0m\n\u001b[1;32m> 10836\u001b[1;33m           \u001b[1;32mreturn\u001b[0m \u001b[0mself\u001b[0m\u001b[1;33m.\u001b[0m\u001b[0mget\u001b[0m\u001b[1;33m(\u001b[0m\u001b[1;32mFalse\u001b[0m\u001b[1;33m,\u001b[0m \u001b[0ms\u001b[0m\u001b[1;33m)\u001b[0m\u001b[1;33m\u001b[0m\u001b[1;33m\u001b[0m\u001b[0m\n\u001b[0m\u001b[0;32m  10837\u001b[0m \u001b[1;33m\u001b[0m\u001b[0m\n\u001b[0;32m  10838\u001b[0m     \u001b[1;32mdef\u001b[0m \u001b[0m__iter__\u001b[0m\u001b[1;33m(\u001b[0m\u001b[0mself\u001b[0m\u001b[1;33m)\u001b[0m\u001b[1;33m:\u001b[0m\u001b[1;33m\u001b[0m\u001b[1;33m\u001b[0m\u001b[0m\n",
      "\u001b[1;32mE:\\anaconda\\envs\\Python38\\lib\\site-packages\\casadi\\casadi.py\u001b[0m in \u001b[0;36mget\u001b[1;34m(self, *args)\u001b[0m\n\u001b[0;32m  10497\u001b[0m \u001b[1;33m\u001b[0m\u001b[0m\n\u001b[0;32m  10498\u001b[0m         \"\"\"\n\u001b[1;32m> 10499\u001b[1;33m         \u001b[1;32mreturn\u001b[0m \u001b[0m_casadi\u001b[0m\u001b[1;33m.\u001b[0m\u001b[0mMX_get\u001b[0m\u001b[1;33m(\u001b[0m\u001b[0mself\u001b[0m\u001b[1;33m,\u001b[0m \u001b[1;33m*\u001b[0m\u001b[0margs\u001b[0m\u001b[1;33m)\u001b[0m\u001b[1;33m\u001b[0m\u001b[1;33m\u001b[0m\u001b[0m\n\u001b[0m\u001b[0;32m  10500\u001b[0m \u001b[1;33m\u001b[0m\u001b[0m\n\u001b[0;32m  10501\u001b[0m \u001b[1;33m\u001b[0m\u001b[0m\n",
      "\u001b[1;31mRuntimeError\u001b[0m: .../casadi/core/mx.cpp:402: Assertion \"in_range(kk.nonzeros(), -sz+ind1, sz+ind1)\" failed:\nOut of bounds error. Got elements in range [150,150], which is outside the range [-150,150)."
     ]
    }
   ],
   "source": [
    "result = ProcessMultiStageOptimization(ProcessModel,target)"
   ]
  },
  {
   "cell_type": "markdown",
   "id": "assisted-maintenance",
   "metadata": {},
   "source": [
    "MultiStageOptimization() returns a dictionary with the optimized parameters and the resulting output trajectory. The optimized output trajectory can be compared to the target trajectory"
   ]
  },
  {
   "cell_type": "code",
   "execution_count": 14,
   "id": "sensitive-cheese",
   "metadata": {},
   "outputs": [
    {
     "ename": "NameError",
     "evalue": "name 'result' is not defined",
     "output_type": "error",
     "traceback": [
      "\u001b[1;31m---------------------------------------------------------------------------\u001b[0m",
      "\u001b[1;31mNameError\u001b[0m                                 Traceback (most recent call last)",
      "\u001b[1;32m<ipython-input-14-7b915b34558b>\u001b[0m in \u001b[0;36m<module>\u001b[1;34m\u001b[0m\n\u001b[0;32m      1\u001b[0m \u001b[0mplt\u001b[0m\u001b[1;33m.\u001b[0m\u001b[0mplot\u001b[0m\u001b[1;33m(\u001b[0m\u001b[0mtarget\u001b[0m\u001b[1;33m,\u001b[0m\u001b[0mlabel\u001b[0m\u001b[1;33m=\u001b[0m\u001b[1;34m'target'\u001b[0m\u001b[1;33m)\u001b[0m\u001b[1;33m\u001b[0m\u001b[1;33m\u001b[0m\u001b[0m\n\u001b[1;32m----> 2\u001b[1;33m \u001b[0mplt\u001b[0m\u001b[1;33m.\u001b[0m\u001b[0mplot\u001b[0m\u001b[1;33m(\u001b[0m\u001b[0mnp\u001b[0m\u001b[1;33m.\u001b[0m\u001b[0marray\u001b[0m\u001b[1;33m(\u001b[0m\u001b[0mresult\u001b[0m\u001b[1;33m[\u001b[0m\u001b[1;34m'X'\u001b[0m\u001b[1;33m]\u001b[0m\u001b[1;33m)\u001b[0m\u001b[1;33m,\u001b[0m\u001b[0mlabel\u001b[0m\u001b[1;33m=\u001b[0m\u001b[1;34m'opt. output'\u001b[0m\u001b[1;33m)\u001b[0m\u001b[1;33m\u001b[0m\u001b[1;33m\u001b[0m\u001b[0m\n\u001b[0m\u001b[0;32m      3\u001b[0m \u001b[0mplt\u001b[0m\u001b[1;33m.\u001b[0m\u001b[0mlegend\u001b[0m\u001b[1;33m(\u001b[0m\u001b[1;33m)\u001b[0m\u001b[1;33m\u001b[0m\u001b[1;33m\u001b[0m\u001b[0m\n",
      "\u001b[1;31mNameError\u001b[0m: name 'result' is not defined"
     ]
    },
    {
     "data": {
      "image/png": "[encoded data removed]",
      "text/plain": [
       "<Figure size 432x288 with 1 Axes>"
      ]
     },
     "metadata": {
      "needs_background": "light"
     },
     "output_type": "display_data"
    }
   ],
   "source": [
    "plt.plot(target,label='target')\n",
    "plt.plot(np.array(result['X']),label='opt. output')\n",
    "plt.legend()"
   ]
  },
  {
   "cell_type": "markdown",
   "id": "grateful-ferry",
   "metadata": {},
   "source": [
    "and the corresponding trajectories of the reference signals can be calculated by passing the result dictionary to the lambda functions"
   ]
  },
  {
   "cell_type": "code",
   "execution_count": null,
   "id": "prescribed-manual",
   "metadata": {},
   "outputs": [],
   "source": [
    "W1_opt = W1(result,np.arange(1,150,1))\n",
    "W2_opt = W2(result,np.arange(1,150,1))\n",
    "\n",
    "plt.plot(W1_opt.T,label='W1_opt')\n",
    "plt.plot(W2_opt.T,label='W2_opt')\n",
    "plt.legend()"
   ]
  },
  {
   "cell_type": "code",
   "execution_count": null,
   "id": "documented-expert",
   "metadata": {},
   "outputs": [],
   "source": []
  }
 ],
 "metadata": {
  "kernelspec": {
   "display_name": "Python 3",
   "language": "python",
   "name": "python3"
  },
  "language_info": {
   "codemirror_mode": {
    "name": "ipython",
    "version": 3
   },
   "file_extension": ".py",
   "mimetype": "text/x-python",
   "name": "python",
   "nbconvert_exporter": "python",
   "pygments_lexer": "ipython3",
   "version": "3.8.8"
  }
 },
 "nbformat": 4,
 "nbformat_minor": 5
}
