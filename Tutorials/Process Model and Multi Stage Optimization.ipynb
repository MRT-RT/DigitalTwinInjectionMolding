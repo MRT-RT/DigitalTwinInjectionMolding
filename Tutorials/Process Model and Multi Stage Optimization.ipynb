{
 "cells": [
  {
   "cell_type": "markdown",
   "id": "temporal-economics",
   "metadata": {},
   "source": [
    "# The Process Model Class and Multi Stage Optimization"
   ]
  },
  {
   "cell_type": "markdown",
   "id": "previous-stewart",
   "metadata": {},
   "source": [
    "After having successfuly identified dynamical models of the different phases of the injection moulding process, the goal is to use these models for optimal control during machine operation. For this purpose this Toolbox provides a class and a function, which allows the user to do so without having to formulate the optimization problem themselves."
   ]
  },
  {
   "cell_type": "markdown",
   "id": "official-indie",
   "metadata": {},
   "source": [
    "## The ProcessModel() Class"
   ]
  },
  {
   "cell_type": "markdown",
   "id": "domestic-keeping",
   "metadata": {},
   "source": [
    "The ProcessModel Class is a container which allows the user to\n",
    "- store the identified models for the different phases (injection, packing, cooling) of the injection molding process as subsystem-models\n",
    "- and parameterize the reference signals according to the needs of the user.\n",
    "\n",
    "An instance of the ProcessModel Class can be passed to different functions in order to\n",
    "- optimize the parameters of the reference signals in order to achieve a certain target trajectory or\n",
    "- update the parameters of the subsystem-models given new measurement data.\n",
    "\n",
    "In this tutorial, an instance of the ProcessModel Class will be used for the first purpose, i.e. Multi Stage Optimization."
   ]
  },
  {
   "cell_type": "markdown",
   "id": "vocal-taste",
   "metadata": {},
   "source": [
    "### Subsystems"
   ]
  },
  {
   "cell_type": "markdown",
   "id": "foster-competition",
   "metadata": {},
   "source": [
    "It is assumed, that models for the different phases of the injection molding process have already been identified and validated. Any class from the model-structures module can be used as a subsystem in the ProcessModel Class. Even user-specified classes are possible, as long as the model equations are formulated as a casadi.Function() and it possesses a OneStepPrediction and Simulation method. For the purpose of this tutorial, instead of identifying models from data, they will be manually specified: "
   ]
  },
  {
   "cell_type": "code",
   "execution_count": 1,
   "id": "reasonable-rotation",
   "metadata": {},
   "outputs": [],
   "source": [
    "import casadi as cs\n",
    "import matplotlib.pyplot as plt\n",
    "import numpy as np\n",
    "import pickle as pkl\n",
    "\n",
    "import sys\n",
    "\n",
    "sys.path.append('E:/GitHub/DigitalTwinInjectionMolding/')\n",
    "\n",
    "from DIM.models import injection_molding, model_structures\n",
    "from DIM.optim.control_optim import MultiStageOptimization"
   ]
  },
  {
   "cell_type": "code",
   "execution_count": 2,
   "id": "immune-conservative",
   "metadata": {},
   "outputs": [],
   "source": [
    "dt = 1\n",
    "\n",
    "injection_model = model_structures.SecondOrderSystem(dt,'injection_model')\n",
    "injection_model.Parameters={'A':np.array([[0,1],[-1,-1]]),'b':np.array([[0],[1]]),'c':np.array([[1,0]])}\n",
    "\n",
    "packing_model = model_structures.FirstOrderSystem(dt,'packing_model')\n",
    "packing_model.Parameters={'a':-0.1,'b':0.5}\n",
    "\n",
    "cooling_model = model_structures.FirstOrderSystem(dt,'cooling_model')\n",
    "cooling_model.Parameters={'a':-0.6,'b':0}"
   ]
  },
  {
   "cell_type": "markdown",
   "id": "heard-witness",
   "metadata": {},
   "source": [
    "The First and Second-Order Systems were implemented as continuous-time equations which are integrated using a Runge-Kutta method, which is why a sampling time needs to be specified in this case. Notice also, that the parameter $b$ of the cooling model is equal to zero. Now, these models need to be passed to an instance of the ProcessModel Class. This is simply done, by passing them as a list to the subsystems attribute:"
   ]
  },
  {
   "cell_type": "code",
   "execution_count": 3,
   "id": "occasional-deviation",
   "metadata": {},
   "outputs": [],
   "source": [
    "ProcessModel = injection_molding.ProcessModel()\n",
    "ProcessModel.subsystems = [injection_model,packing_model,cooling_model]"
   ]
  },
  {
   "cell_type": "markdown",
   "id": "accomplished-barrel",
   "metadata": {},
   "source": [
    "### Reference Trajectories"
   ]
  },
  {
   "cell_type": "markdown",
   "id": "mexican-reading",
   "metadata": {},
   "source": [
    "In the following step, the reference signals need to be parameterized. This is necessary, because injection molding machines do not permit the specification of arbitrary reference signals. Usually these are designated to be step signals with two or three levels. The ProcessModel class expects the parameterized reference signals to be lambda functions with two arguments, the first beeing a dictionary containing the parameters, the second being the discrete time $k$. Furthermore, using truly discrete reference signals would result in an optimization problems with discrete variables. In order to circumvent this problem, the step signals are approximated via logistic functions with soft rather than hard transitions.\n",
    "\n",
    "If, for example the reference signal in the filling phase is a step signal with three levels and the reference signal in the holding phase is a step signal with two levels appropriate functions could be   "
   ]
  },
  {
   "cell_type": "code",
   "execution_count": 4,
   "id": "threaded-consumption",
   "metadata": {},
   "outputs": [],
   "source": [
    "W1 = lambda p,k: p['h1']+(p['h2']-p['h1'])/(1+np.exp(-2*(k-p['T1']))) + p['h2']+(p['h3']-p['h2'])/(1+np.exp(-2*(k-p['T2'])))\n",
    "W2 = lambda p,k: p['h4']+(p['h5']-p['h4'])/(1+np.exp(-2*(k-p['T3'])))"
   ]
  },
  {
   "cell_type": "markdown",
   "id": "weird-harmony",
   "metadata": {},
   "source": [
    "To visualize these signals one has to provide a dictionary with parameters and a discrete time vector "
   ]
  },
  {
   "cell_type": "code",
   "execution_count": 5,
   "id": "civilian-channel",
   "metadata": {},
   "outputs": [],
   "source": [
    "params = {'h1':np.array([[0]]),\n",
    "          'h2':np.array([[5]]),\n",
    "          'h3':np.array([[3]]),\n",
    "          'T1':np.array([[10]]),\n",
    "          'T2':np.array([[40]]),\n",
    "          'h4':np.array([[6]]),\n",
    "          'h5':np.array([[1]]),\n",
    "          'T3':np.array([[80]])}\n",
    "\n",
    "discrete_time = np.arange(0,150,1)"
   ]
  },
  {
   "cell_type": "markdown",
   "id": "noted-bidder",
   "metadata": {},
   "source": [
    "It is important, that the keys of the parameter dictionary exactly match the keys used in the lambda functions, otherwise the optimizer won't be able to find them."
   ]
  },
  {
   "cell_type": "markdown",
   "id": "median-cursor",
   "metadata": {},
   "source": [
    "The lambda functions can then be evaluated by passing the parameter dictionary and the discrete time vector."
   ]
  },
  {
   "cell_type": "code",
   "execution_count": 6,
   "id": "independent-saint",
   "metadata": {},
   "outputs": [
    {
     "data": {
      "text/plain": [
       "<matplotlib.legend.Legend at 0x25f037a7fd0>"
      ]
     },
     "execution_count": 6,
     "metadata": {},
     "output_type": "execute_result"
    },
    {
     "data": {
      "image/png": "[encoded data removed]",
      "text/plain": [
       "<Figure size 432x288 with 1 Axes>"
      ]
     },
     "metadata": {
      "needs_background": "light"
     },
     "output_type": "display_data"
    }
   ],
   "source": [
    "plt.plot(W1(params,discrete_time).T,label='W1')\n",
    "plt.plot(W2(params,discrete_time).T,label='W2')\n",
    "plt.legend()"
   ]
  },
  {
   "cell_type": "markdown",
   "id": "brazilian-basics",
   "metadata": {},
   "source": [
    "The lambda functions need to be passed to the reference-attribute of the ProcessModel instance as a list in order for the optimization procedures to recognize them as the optimization target. The order must match the order of the subsystems."
   ]
  },
  {
   "cell_type": "code",
   "execution_count": 7,
   "id": "wound-vaccine",
   "metadata": {},
   "outputs": [],
   "source": [
    "ProcessModel.reference = [[W1],[W2],[]]"
   ]
  },
  {
   "cell_type": "markdown",
   "id": "alpine-person",
   "metadata": {},
   "source": [
    "The dictionary which contains initial estimates for the parameters of the reference trajectories must also be passed to the ProcessModel via the attribute ref_params"
   ]
  },
  {
   "cell_type": "code",
   "execution_count": 8,
   "id": "federal-essay",
   "metadata": {},
   "outputs": [],
   "source": [
    "ProcessModel.ref_params = params"
   ]
  },
  {
   "cell_type": "markdown",
   "id": "welcome-language",
   "metadata": {},
   "source": [
    "Finally, the switching instances, i.e. when the transition from one subsystem to the next, must be provided as a list of integers. Usually, these switching instances are not known and are also part of the optimization problem. This will be covered in another tutorial. For the sake of this tutorial, it is assumed, that the switching instances are known and fixed:  "
   ]
  },
  {
   "cell_type": "code",
   "execution_count": 9,
   "id": "japanese-framework",
   "metadata": {},
   "outputs": [],
   "source": [
    "ProcessModel.switching_instances = [80,120]"
   ]
  },
  {
   "cell_type": "markdown",
   "id": "choice-acting",
   "metadata": {},
   "source": [
    "## The MultiStageOptimization() function"
   ]
  },
  {
   "cell_type": "markdown",
   "id": "infectious-malpractice",
   "metadata": {},
   "source": [
    "Given an instance of the ProcessModel() Class and a target trajectory, the MultiStageOptimization() procedure optimizes the parameters of the reference trajectories, such that the mean squared error between the output predicted by the instance of ProcessModel() and the target trajectory is minimized."
   ]
  },
  {
   "cell_type": "markdown",
   "id": "extraordinary-badge",
   "metadata": {},
   "source": [
    "Usually, the target trajectory is the result of expertise (e.g. the trajectory of the cavity pressure in an injection molding process can be derived from the pvT diagram) or itself the result of an optimization problem. In this tutorial the reference trajectory will just be an arbitrary signal:"
   ]
  },
  {
   "cell_type": "code",
   "execution_count": 10,
   "id": "hungry-weather",
   "metadata": {},
   "outputs": [
    {
     "data": {
      "text/plain": [
       "[<matplotlib.lines.Line2D at 0x2350bfca2e0>]"
      ]
     },
     "execution_count": 10,
     "metadata": {},
     "output_type": "execute_result"
    },
    {
     "data": {
      "image/png": "[encoded data removed]",
      "text/plain": [
       "<Figure size 432x288 with 1 Axes>"
      ]
     },
     "metadata": {
      "needs_background": "light"
     },
     "output_type": "display_data"
    }
   ],
   "source": [
    "N=150\n",
    "\n",
    "target = np.zeros((N,1))\n",
    "target[0:20]=2\n",
    "target[20:40]=6\n",
    "target[40:80]=4\n",
    "target[80:100]=4\n",
    "target[100:120]=2\n",
    "target[120:150]=0\n",
    "\n",
    "plt.plot(target,label='target')"
   ]
  },
  {
   "cell_type": "code",
   "execution_count": 11,
   "id": "adequate-trustee",
   "metadata": {},
   "outputs": [
    {
     "name": "stdout",
     "output_type": "stream",
     "text": [
      "\n",
      "******************************************************************************\n",
      "This program contains Ipopt, a library for large-scale nonlinear optimization.\n",
      " Ipopt is released as open source code under the Eclipse Public License (EPL).\n",
      "         For more information visit http://projects.coin-or.org/Ipopt\n",
      "******************************************************************************\n",
      "\n",
      "This is Ipopt version 3.12.3, running with linear solver mumps.\n",
      "NOTE: Other linear solvers might be more efficient (see Ipopt documentation).\n",
      "\n",
      "Number of nonzeros in equality constraint Jacobian...:      819\n",
      "Number of nonzeros in inequality constraint Jacobian.:        0\n",
      "Number of nonzeros in Lagrangian Hessian.............:      159\n",
      "\n",
      "Total number of variables............................:      158\n",
      "                     variables with only lower bounds:        0\n",
      "                variables with lower and upper bounds:        0\n",
      "                     variables with only upper bounds:        0\n",
      "Total number of equality constraints.................:      150\n",
      "Total number of inequality constraints...............:        0\n",
      "        inequality constraints with only lower bounds:        0\n",
      "   inequality constraints with lower and upper bounds:        0\n",
      "        inequality constraints with only upper bounds:        0\n",
      "\n",
      "iter    objective    inf_pr   inf_du lg(mu)  ||d||  lg(rg) alpha_du alpha_pr  ls\n",
      "   0 1.8400000e+003 3.33e+000 1.04e+001  -1.0 0.00e+000    -  0.00e+000 0.00e+000   0\n",
      "   1 3.0707329e+002 8.89e-001 4.61e+000  -1.0 5.88e+000   0.0 1.00e+000 1.00e+000f  1\n",
      "   2 1.4246635e+002 4.90e-001 2.22e+001  -1.0 7.07e+000  -0.5 1.00e+000 1.00e+000f  1\n",
      "   3 9.4347093e+001 1.23e+000 2.45e+001  -1.0 3.25e+001  -0.1 1.00e+000 2.50e-001f  3\n",
      "   4 4.4599110e+001 2.43e-001 1.02e+001  -1.0 2.29e+000  -0.5 1.00e+000 1.00e+000f  1\n",
      "   5 4.2076174e+001 4.36e-001 3.72e+000  -1.0 3.86e+000  -1.0 1.00e+000 1.00e+000f  1\n",
      "   6 4.1536418e+001 4.52e-002 1.51e+000  -1.0 6.40e-001   0.3 1.00e+000 1.00e+000h  1\n",
      "   7 4.0649460e+001 1.32e-001 6.64e-001  -1.0 6.82e-001  -0.2 1.00e+000 1.00e+000f  1\n",
      "   8 3.9969718e+001 4.95e-002 8.34e-001  -1.7 5.30e-001   0.3 1.00e+000 1.00e+000f  1\n",
      "   9 3.8342019e+001 4.90e-001 9.71e-001  -1.7 1.86e+000  -0.2 1.00e+000 1.00e+000f  1\n",
      "iter    objective    inf_pr   inf_du lg(mu)  ||d||  lg(rg) alpha_du alpha_pr  ls\n",
      "  10 3.6136985e+001 6.26e-001 1.98e+000  -1.7 8.04e+001  -0.7 1.00e+000 6.25e-002f  5\n",
      "  11 3.5103076e+001 6.07e-001 2.04e+001  -1.7 2.98e+002  -1.2 1.00e+000 3.12e-002f  6\n",
      "  12 2.6543997e+001 1.59e-001 3.44e+000  -1.7 2.68e+000    -  1.00e+000 1.00e+000f  1\n",
      "  13 2.7006771e+001 4.67e-002 7.74e-001  -1.7 1.02e+000    -  1.00e+000 1.00e+000h  1\n",
      "  14 2.7051443e+001 3.39e-004 4.21e-003  -1.7 7.74e-002    -  1.00e+000 1.00e+000h  1\n",
      "  15 2.7051608e+001 1.25e-006 1.27e-005  -3.8 4.79e-003    -  1.00e+000 1.00e+000h  1\n",
      "  16 2.7051609e+001 2.66e-015 1.64e-013  -8.6 1.54e-006    -  1.00e+000 1.00e+000h  1\n",
      "\n",
      "Number of Iterations....: 16\n",
      "\n",
      "                                   (scaled)                 (unscaled)\n",
      "Objective...............:  2.7051608948313245e+001   2.7051608948313245e+001\n",
      "Dual infeasibility......:  1.6409096303959814e-013   1.6409096303959814e-013\n",
      "Constraint violation....:  2.6645352591003757e-015   2.6645352591003757e-015\n",
      "Complementarity.........:  0.0000000000000000e+000   0.0000000000000000e+000\n",
      "Overall NLP error.......:  1.6409096303959814e-013   1.6409096303959814e-013\n",
      "\n",
      "\n",
      "Number of objective function evaluations             = 31\n",
      "Number of objective gradient evaluations             = 17\n",
      "Number of equality constraint evaluations            = 31\n",
      "Number of inequality constraint evaluations          = 0\n",
      "Number of equality constraint Jacobian evaluations   = 17\n",
      "Number of inequality constraint Jacobian evaluations = 0\n",
      "Number of Lagrangian Hessian evaluations             = 16\n",
      "Total CPU secs in IPOPT (w/o function evaluations)   =      0.017\n",
      "Total CPU secs in NLP function evaluations           =      0.084\n",
      "\n",
      "EXIT: Optimal Solution Found.\n",
      "      solver  :   t_proc      (avg)   t_wall      (avg)    n_eval\n",
      "       nlp_f  |        0 (       0)        0 (       0)        31\n",
      "       nlp_g  |   9.00ms (290.32us)   8.97ms (289.42us)        31\n",
      "  nlp_grad_f  |        0 (       0)        0 (       0)        18\n",
      "  nlp_hess_l  |  47.00ms (  2.94ms)  46.95ms (  2.93ms)        16\n",
      "   nlp_jac_g  |  29.00ms (  1.61ms)  28.95ms (  1.61ms)        18\n",
      "       total  | 101.00ms (101.00ms) 100.68ms (100.68ms)         1\n"
     ]
    }
   ],
   "source": [
    "result = MultiStageOptimization(ProcessModel,target)"
   ]
  },
  {
   "cell_type": "markdown",
   "id": "digital-citizen",
   "metadata": {},
   "source": [
    "MultiStageOptimization() returns a dictionary with the optimized parameters and the resulting output trajectory. The optimized output trajectory can be compared to the target trajectory"
   ]
  },
  {
   "cell_type": "code",
   "execution_count": 15,
   "id": "animated-directive",
   "metadata": {},
   "outputs": [
    {
     "data": {
      "text/plain": [
       "<matplotlib.legend.Legend at 0x2350ce90a00>"
      ]
     },
     "execution_count": 15,
     "metadata": {},
     "output_type": "execute_result"
    },
    {
     "data": {
      "image/png": "[encoded data removed]",
      "text/plain": [
       "<Figure size 432x288 with 1 Axes>"
      ]
     },
     "metadata": {
      "needs_background": "light"
     },
     "output_type": "display_data"
    }
   ],
   "source": [
    "plt.plot(target,label='target')\n",
    "plt.plot(np.array(result['X']),label='opt. output')\n",
    "plt.legend()"
   ]
  },
  {
   "cell_type": "markdown",
   "id": "subject-bradley",
   "metadata": {},
   "source": [
    "and the corresponding trajectories of the reference signals can be calculated by passing the result dictionary to the lambda functions"
   ]
  },
  {
   "cell_type": "code",
   "execution_count": 17,
   "id": "constant-house",
   "metadata": {},
   "outputs": [
    {
     "data": {
      "text/plain": [
       "<matplotlib.legend.Legend at 0x2350bfd6220>"
      ]
     },
     "execution_count": 17,
     "metadata": {},
     "output_type": "execute_result"
    },
    {
     "data": {
      "image/png": "[encoded data removed]",
      "text/plain": [
       "<Figure size 432x288 with 1 Axes>"
      ]
     },
     "metadata": {
      "needs_background": "light"
     },
     "output_type": "display_data"
    }
   ],
   "source": [
    "W1_opt = W1(result,np.arange(1,150,1))\n",
    "W2_opt = W2(result,np.arange(1,150,1))\n",
    "\n",
    "plt.plot(W1_opt.T,label='W1_opt')\n",
    "plt.plot(W2_opt.T,label='W2_opt')\n",
    "plt.legend()"
   ]
  },
  {
   "cell_type": "code",
   "execution_count": null,
   "id": "activated-terrain",
   "metadata": {},
   "outputs": [],
   "source": []
  }
 ],
 "metadata": {
  "kernelspec": {
   "display_name": "Python 3",
   "language": "python",
   "name": "python3"
  },
  "language_info": {
   "codemirror_mode": {
    "name": "ipython",
    "version": 3
   },
   "file_extension": ".py",
   "mimetype": "text/x-python",
   "name": "python",
   "nbconvert_exporter": "python",
   "pygments_lexer": "ipython3",
   "version": "3.8.8"
  }
 },
 "nbformat": 4,
 "nbformat_minor": 5
}
