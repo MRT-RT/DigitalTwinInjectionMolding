{
 "cells": [
  {
   "cell_type": "markdown",
   "id": "blocked-pension",
   "metadata": {},
   "source": [
    "# Parameter Optimization"
   ]
  },
  {
   "cell_type": "markdown",
   "id": "quantitative-longer",
   "metadata": {},
   "source": [
    "Import necessary libraries"
   ]
  },
  {
   "cell_type": "code",
   "execution_count": 8,
   "id": "cathedral-deployment",
   "metadata": {},
   "outputs": [],
   "source": [
    "# -*- coding: utf-8 -*-\n",
    "import casadi as cs\n",
    "import matplotlib.pyplot as plt\n",
    "import numpy as np\n",
    "import pandas as pd\n",
    "\n",
    "from models.model_structures import MLP\n",
    "from optim.param_optim import HyperParameterPSO,ModelParameterEstimation,ModelTraining"
   ]
  },
  {
   "cell_type": "markdown",
   "id": "funky-trunk",
   "metadata": {},
   "source": [
    "In the following the different possibilities of identifying models from data offered by the toolbox are illustrated. \n",
    "\n",
    "To begin with, data from a nonlinear system in state space represenation is gathered. Over all, 10 experiments (batches) are conducted, each of which has a length of $N=100$ time steps:"
   ]
  },
  {
   "cell_type": "markdown",
   "id": "substantial-yesterday",
   "metadata": {},
   "source": [
    "## Generate Identification Data"
   ]
  },
  {
   "cell_type": "code",
   "execution_count": 9,
   "id": "demanding-whale",
   "metadata": {},
   "outputs": [],
   "source": [
    "N = 100\n",
    "\n",
    "u = np.zeros((10,N-1,2))\n",
    "x = np.zeros((10,N,2))\n",
    "\n",
    "for i in range(0,10):\n",
    "\n",
    "    x_i = np.zeros((N,2))\n",
    "    u_i = np.random.normal(0,1,(N-1,2))\n",
    "\n",
    "    for k in range(1,100):\n",
    "        x_i[k,0] = 0.7*x_i[k-1,0]**2 - 0.1*x_i[k-1,1]**2 + 0.1*u_i[k-1,0] \n",
    "        x_i[k,1] = 0.3*x_i[k-1,0]**2 + 0.3*x_i[k-1,1]**2 - 0.5*u_i[k-1,1]\n",
    "    u[i,:,:] = u_i\n",
    "    x[i,:,:] = x_i\n",
    "\n",
    "\n",
    "init_state = x[:,0,:].reshape(10,2,1) \n",
    "data = {'u_train':u[0:8], 'y_train':x[0:8],'init_state_train': init_state[0:8],\n",
    "        'u_val':u[8::], 'y_val':x[8::],'init_state_val': init_state[8::]}\n"
   ]
  },
  {
   "cell_type": "markdown",
   "id": "daily-geology",
   "metadata": {},
   "source": [
    "The collected data is stored in a dictionary. In this case, the first $8$ experiments (or batches) are used as training data for parameter estimation and the last $2$ experiments are used as validation data, to ensure the generalization capability of the estimated model. The keys of the dictionary must have \\emph{exactly} these names. The dimensions of the data arrays are expected to have specific dimensions as well:\n",
    "\n",
    "input-data $u$ is expected to be a three-dimensional numpy array with dimensions $\\left[\\text{num. of batches}\\times \\text{num. of time-steps} \\times \\text{num. of inputs}\\right]$\n",
    "\n",
    "output-data $y$ is expected to be a three-dimensional numpy array with dimensions $\\left[\\text{num. of batches}\\times \\text{num. of time-steps} \\times \\text{num. of outputs}\\right]$\n",
    "\n",
    "initial-states $x(k=0)$ is expected to be a three-dimensional numpy array with dimensions $\\left[\\text{num. of batches}\\times \\text{num. of states} \\times 1\\right]$"
   ]
  },
  {
   "cell_type": "markdown",
   "id": "multiple-robertson",
   "metadata": {},
   "source": [
    "## Choose a model "
   ]
  },
  {
   "cell_type": "markdown",
   "id": "remarkable-print",
   "metadata": {},
   "source": [
    "In this case a Multilayer Perceptron (MLP) is chosen as modelling approach, the model eqations of the implemented MLP are\n",
    "\n",
    "$h_{k+1}=\\tanh(\\boldsymbol{W}_{\\mathrm{h}}\\cdot [\\boldsymbol{u}_{k}^T,\\boldsymbol{y}_{k-1}^T]^{T} + \\boldsymbol{b}_{\\mathrm{h}})$\n",
    "\n",
    "$y_{k+1}=\\tanh(\\boldsymbol{W}_{\\mathrm{o}}\\cdot \\boldsymbol{h}_{k+1} + \\boldsymbol{b}_{\\mathrm{o}})$\n",
    "\n"
   ]
  },
  {
   "cell_type": "code",
   "execution_count": 2,
   "id": "minor-bangladesh",
   "metadata": {},
   "outputs": [
    {
     "ename": "NameError",
     "evalue": "name 'MLP' is not defined",
     "output_type": "error",
     "traceback": [
      "\u001b[1;31m---------------------------------------------------------------------------\u001b[0m",
      "\u001b[1;31mNameError\u001b[0m                                 Traceback (most recent call last)",
      "\u001b[1;32m<ipython-input-2-374f144e64c8>\u001b[0m in \u001b[0;36m<module>\u001b[1;34m\u001b[0m\n\u001b[1;32m----> 1\u001b[1;33m \u001b[0mmodel\u001b[0m \u001b[1;33m=\u001b[0m \u001b[0mMLP\u001b[0m\u001b[1;33m(\u001b[0m\u001b[0mdim_u\u001b[0m\u001b[1;33m=\u001b[0m\u001b[1;36m2\u001b[0m\u001b[1;33m,\u001b[0m\u001b[0mdim_x\u001b[0m\u001b[1;33m=\u001b[0m\u001b[1;36m2\u001b[0m\u001b[1;33m,\u001b[0m\u001b[0mdim_hidden\u001b[0m\u001b[1;33m=\u001b[0m\u001b[1;36m10\u001b[0m\u001b[1;33m,\u001b[0m\u001b[0mname\u001b[0m\u001b[1;33m=\u001b[0m\u001b[1;34m'MLP'\u001b[0m\u001b[1;33m)\u001b[0m\u001b[1;33m\u001b[0m\u001b[1;33m\u001b[0m\u001b[0m\n\u001b[0m",
      "\u001b[1;31mNameError\u001b[0m: name 'MLP' is not defined"
     ]
    }
   ],
   "source": [
    "model = MLP(dim_u=2,dim_x=2,dim_hidden=10,name='MLP')"
   ]
  },
  {
   "cell_type": "markdown",
   "id": "photographic-capability",
   "metadata": {},
   "source": [
    "\n"
   ]
  },
  {
   "cell_type": "markdown",
   "id": "eligible-practice",
   "metadata": {},
   "source": [
    "In the following, all of the implemented methods for parameter estimation will be employed, starting with ModelParameterEstimation():\n",
    "\n"
   ]
  },
  {
   "cell_type": "markdown",
   "id": "extreme-shift",
   "metadata": {},
   "source": [
    "## Parameter Estimation"
   ]
  },
  {
   "cell_type": "markdown",
   "id": "spoken-remains",
   "metadata": {},
   "source": [
    "There are three functions available for parameter estimation with an increasing degree of automation:\n",
    "ModelParameterEstimation(): Estimates the optimal parameters of a given model and a given set of training data\n",
    "ModelTraining(): Estimates the optimal parameters of a given model. Optimal in this case means the parameters which result in the lowest validation error, while ModelParameterEstimation() returns the parameters that yield the lowest training error. Also a Multi-Start approach is implemented\n",
    "HyperParameterPSO(): Varies the structure of the model (number of states, number of neurons in hidden layer, etc.) in order to find the model structure best suited for the given data."
   ]
  },
  {
   "cell_type": "markdown",
   "id": "growing-nurse",
   "metadata": {},
   "source": [
    "### ModelParameterEstimation()"
   ]
  },
  {
   "cell_type": "markdown",
   "id": "damaged-eating",
   "metadata": {},
   "source": [
    "ModelParameterEstimation() must be provided with a model and a dictionary containing batches of training data. The dictionary defined above also contains validation data, which will simply be ignored by ModelParameterEstimation(). It returns a dictionary containing the optimal parameter values."
   ]
  },
  {
   "cell_type": "code",
   "execution_count": 8,
   "id": "fatty-hanging",
   "metadata": {},
   "outputs": [
    {
     "name": "stdout",
     "output_type": "stream",
     "text": [
      "      solver  :   t_proc      (avg)   t_wall      (avg)    n_eval\n",
      "       nlp_f  | 744.00ms (569.24us) 742.76ms (568.30us)      1307\n",
      "  nlp_grad_f  |   2.22 s (  2.22ms)   2.22 s (  2.22ms)      1002\n",
      "  nlp_hess_l  | 197.10 s (197.10ms) 197.10 s (197.10ms)      1000\n",
      "       total  | 200.82 s (200.82 s) 200.82 s (200.82 s)         1\n"
     ]
    }
   ],
   "source": [
    "identified_parameters = ModelParameterEstimation(model,data)"
   ]
  },
  {
   "cell_type": "markdown",
   "id": "collected-priest",
   "metadata": {},
   "source": [
    "ModelParameterEstimation() only returns a set of optimal model parameters, it does not change the model parameters itself! In order to assign the optimal model parameters to the model do"
   ]
  },
  {
   "cell_type": "code",
   "execution_count": 9,
   "id": "laughing-prophet",
   "metadata": {},
   "outputs": [],
   "source": [
    "model.Parameters = identified_parameters"
   ]
  },
  {
   "cell_type": "markdown",
   "id": "fluid-typing",
   "metadata": {},
   "source": [
    "In order to assess the goodness of fit of the estimated model to the data, one can for example evaluate the model on a batch of training data and a batch of validation data and compare the estimated model output to the true output signal. The method Simulation() can be used for that. Simulation() takes an initial state and an input signal trajectory as arguments and returns the model estimated output signal."
   ]
  },
  {
   "cell_type": "code",
   "execution_count": 10,
   "id": "rapid-record",
   "metadata": {},
   "outputs": [
    {
     "data": {
      "image/png": "[encoded data removed]",
      "text/plain": [
       "<Figure size 432x288 with 1 Axes>"
      ]
     },
     "metadata": {
      "needs_background": "light"
     },
     "output_type": "display_data"
    }
   ],
   "source": [
    "x0_train = data['init_state_train'][0]\n",
    "u_train =  data['u_train'][0]\n",
    "y_train =  data['y_train'][0]\n",
    "\n",
    "y_est_train = model.Simulation(x0_train,u_train)\n",
    "y_est_train = np.array(y_est_train)  \n",
    "\n",
    "plt.plot(y_train,label='True output')                                              # Plot True data\n",
    "plt.plot(y_est_train,label='Est. output')                                          # Plot Model Output\n",
    "plt.plot(y_train-y_est_train,label='Simulation Error')                             # Plot Error between model and true system (its almost zero)\n",
    "plt.legend()\n",
    "plt.show()"
   ]
  },
  {
   "cell_type": "markdown",
   "id": "consistent-crystal",
   "metadata": {},
   "source": [
    "The fit might be good or not, that depends if the solver was able to find a good solution from the (randomly) initially chosen model parameters. Running the identification procedure multiple times, will eventually result in a model with good fit."
   ]
  },
  {
   "cell_type": "markdown",
   "id": "artificial-devon",
   "metadata": {},
   "source": [
    "Let's also check the fit on a set of data the model has not seen during parameter estimation:"
   ]
  },
  {
   "cell_type": "code",
   "execution_count": 12,
   "id": "unauthorized-socket",
   "metadata": {},
   "outputs": [
    {
     "data": {
      "image/png": "[encoded data removed]",
      "text/plain": [
       "<Figure size 432x288 with 1 Axes>"
      ]
     },
     "metadata": {
      "needs_background": "light"
     },
     "output_type": "display_data"
    }
   ],
   "source": [
    "x0_val = data['init_state_val'][0]\n",
    "u_val =  data['u_val'][0]\n",
    "y_val =  data['y_val'][0]\n",
    "\n",
    "y_est_val = model.Simulation(x0_val,u_val)\n",
    "y_est_val = np.array(y_est_val)  \n",
    "\n",
    "plt.plot(y_val,label='True output')                                              # Plot True data\n",
    "plt.plot(y_est_val,label='Est. output')                                          # Plot Model Output\n",
    "plt.plot(y_val-y_est_val,label='Simulation Error')                               # Plot Error between model and true system (its almost zero)\n",
    "plt.legend()\n",
    "plt.show()"
   ]
  },
  {
   "cell_type": "markdown",
   "id": "short-davis",
   "metadata": {},
   "source": [
    "###  ModelTraining()"
   ]
  },
  {
   "cell_type": "markdown",
   "id": "dominant-observation",
   "metadata": {},
   "source": [
    "ModelTraining() automizes the procedure described above. It calls ModelParameterEstimation() multiple times and evaluates the estimated models on a set of validation data. Then it returns a pandas datafram containing the loss of each of the identified models on the validation data as well as the corresponding parameters. The user can then simply pick the model with the least validation error."
   ]
  },
  {
   "cell_type": "markdown",
   "id": "radical-queen",
   "metadata": {},
   "source": [
    "For the purpose of speeding up this tutorial, the number of maximum iterations will be set to the rather small value of 500. The default value is 1000. Options can be passed to the solver, which is ipopt in this case, via a dictionary. All possible options are documented under https://coin-or.github.io/Ipopt/OPTIONS.html "
   ]
  },
  {
   "cell_type": "code",
   "execution_count": 19,
   "id": "focused-atlantic",
   "metadata": {},
   "outputs": [
    {
     "name": "stdout",
     "output_type": "stream",
     "text": [
      "      solver  :   t_proc      (avg)   t_wall      (avg)    n_eval\n",
      "       nlp_f  | 752.00ms (565.84us) 759.39ms (571.40us)      1329\n",
      "  nlp_grad_f  |   1.76 s (  1.75ms)   1.76 s (  1.76ms)      1002\n",
      "  nlp_hess_l  | 194.47 s (194.47ms) 194.45 s (194.45ms)      1000\n",
      "       total  | 197.72 s (197.72 s) 197.72 s (197.72 s)         1\n",
      "      solver  :   t_proc      (avg)   t_wall      (avg)    n_eval\n",
      "       nlp_f  | 817.00ms (675.21us) 818.47ms (676.42us)      1210\n",
      "  nlp_grad_f  |   2.13 s (  2.13ms)   2.13 s (  2.13ms)      1002\n",
      "  nlp_hess_l  | 199.53 s (199.53ms) 199.52 s (199.52ms)      1000\n",
      "       total  | 203.36 s (203.36 s) 203.36 s (203.36 s)         1\n",
      "      solver  :   t_proc      (avg)   t_wall      (avg)    n_eval\n",
      "       nlp_f  |   1.06 s (692.11us)   1.06 s (691.22us)      1533\n",
      "  nlp_grad_f  |   2.07 s (  2.07ms)   2.08 s (  2.08ms)      1002\n",
      "  nlp_hess_l  | 197.13 s (197.13ms) 197.12 s (197.12ms)      1000\n",
      "       total  | 201.04 s (201.04 s) 201.04 s (201.04 s)         1\n",
      "      solver  :   t_proc      (avg)   t_wall      (avg)    n_eval\n",
      "       nlp_f  |   1.04 s (848.29us)   1.04 s (848.92us)      1226\n",
      "  nlp_grad_f  |   1.77 s (  1.76ms)   1.76 s (  1.76ms)      1002\n",
      "  nlp_hess_l  | 194.43 s (194.43ms) 194.44 s (194.44ms)      1000\n",
      "       total  | 198.09 s (198.09 s) 198.09 s (198.09 s)         1\n",
      "      solver  :   t_proc      (avg)   t_wall      (avg)    n_eval\n",
      "       nlp_f  |  63.00ms (577.98us)  62.49ms (573.27us)       109\n",
      "  nlp_grad_f  |  47.00ms (  1.68ms)  46.88ms (  1.67ms)        28\n",
      "  nlp_hess_l  |   5.24 s (193.93ms)   5.24 s (194.01ms)        27\n",
      "       total  |   5.37 s (  5.37 s)   5.37 s (  5.37 s)         1\n"
     ]
    }
   ],
   "source": [
    "s_opts = {\"max_iter\": 1000, \"print_level\":0}\n",
    "p_opts = None\n",
    "identification_results = ModelTraining(model,data,initializations = 5, p_opts=None, s_opts=s_opts)"
   ]
  },
  {
   "cell_type": "markdown",
   "id": "sought-colony",
   "metadata": {},
   "source": [
    "The user can now inspect the results "
   ]
  },
  {
   "cell_type": "code",
   "execution_count": 22,
   "id": "mature-purple",
   "metadata": {},
   "outputs": [
    {
     "name": "stdout",
     "output_type": "stream",
     "text": [
      "                       loss                                             params\n",
      "0   [8.192852888855534e-07]  {'W_h': [[-0.005486352720548242, -0.0776471053...\n",
      "1  [2.6124905665122375e-06]  {'W_h': [[0.15200198549747884, 0.6735639195092...\n",
      "2      [1209.5439995349939]  {'W_h': [[0.9047439668863501, 0.91861376791115...\n",
      "3  [1.6632379170236854e-06]  {'W_h': [[0.04465153378643984, 0.0600459343900...\n",
      "4       [6983.065793247145]  {'W_h': [[0.8645045534593349, 0.89492254337840...\n"
     ]
    }
   ],
   "source": [
    "print(identification_results)"
   ]
  },
  {
   "cell_type": "markdown",
   "id": "extraordinary-malta",
   "metadata": {},
   "source": [
    "and assign the parameters which yield the best fit to their model. If the second initialization was most successful one would do"
   ]
  },
  {
   "cell_type": "code",
   "execution_count": null,
   "id": "understanding-sensitivity",
   "metadata": {},
   "outputs": [],
   "source": [
    "model.Parameters = identification_results.loc[2,'params']"
   ]
  },
  {
   "cell_type": "markdown",
   "id": "intense-marking",
   "metadata": {},
   "source": [
    "to assign these parameters to the model."
   ]
  },
  {
   "cell_type": "markdown",
   "id": "simplified-sword",
   "metadata": {},
   "source": [
    "### HyperParameterPSO()"
   ]
  },
  {
   "cell_type": "markdown",
   "id": "sufficient-review",
   "metadata": {},
   "source": [
    "In the example above the data generating system is known to be nonlinear, second order and both of the states are measured. The model approach was chosen appropriately: The MLP is a nonlinear model and it takes $\\boldsymbol{u}$ and one time delay of $\\boldsymbol{y}$ as input. However, if no knowledge regarding the order of the system or the severeness of the nonlinearity are available it is very hard to choose an appropriate model. For this purpose, a particle swarm optimization was implemented. HyperParameterPSO() searches, within bounds given by the user, for the optimal model structure."
   ]
  },
  {
   "cell_type": "markdown",
   "id": "integrated-single",
   "metadata": {},
   "source": [
    "The MLP class has three attributes: dim_u, which specifies the dimension of the input, dim_x which specifies the dimension of the output and dim_hidden, which specifies the number of neurons in the hidden layer. The particle swarm optimizer will be used, to find the smallest number of dim_hidden between 1 and 10 necessary to obtain a good model fit:"
   ]
  },
  {
   "cell_type": "code",
   "execution_count": 25,
   "id": "coordinated-reaction",
   "metadata": {},
   "outputs": [],
   "source": [
    "param_bounds = {'dim_hidden':np.array([1,10])}\n",
    "options = {'c1': 0.6, 'c2': 0.3, 'w': 0.4, 'k':5, 'p':1}\n",
    "n_particles = 5\n",
    "initializations = 2\n",
    "s_opts = {\"max_iter\": 100, \"print_level\":0}"
   ]
  },
  {
   "cell_type": "code",
   "execution_count": 26,
   "id": "still-occupation",
   "metadata": {},
   "outputs": [
    {
     "name": "stderr",
     "output_type": "stream",
     "text": [
      "2021-04-15 10:10:32,113 - optim.DiscreteBoundedPSO - INFO - Optimize for 100 iters with {'c1': 0.6, 'c2': 0.3, 'w': 0.4, 'k': 5, 'p': 1}\n",
      "optim.DiscreteBoundedPSO:   0%|                                                                                  |0/100"
     ]
    },
    {
     "name": "stdout",
     "output_type": "stream",
     "text": [
      "      solver  :   t_proc      (avg)   t_wall      (avg)    n_eval\n",
      "       nlp_f  | 115.00ms (608.47us) 115.88ms (613.13us)       189\n",
      "  nlp_grad_f  | 135.00ms (  1.32ms) 138.07ms (  1.35ms)       102\n",
      "  nlp_hess_l  |   3.30 s ( 32.97ms)   3.29 s ( 32.93ms)       100\n",
      "       total  |   3.61 s (  3.61 s)   3.61 s (  3.61 s)         1\n",
      "      solver  :   t_proc      (avg)   t_wall      (avg)    n_eval\n",
      "       nlp_f  | 140.00ms (553.36us) 140.09ms (553.72us)       253\n",
      "  nlp_grad_f  | 152.00ms (  1.49ms) 152.60ms (  1.50ms)       102\n",
      "  nlp_hess_l  |   3.19 s ( 31.93ms)   3.19 s ( 31.92ms)       100\n",
      "       total  |   3.52 s (  3.52 s)   3.52 s (  3.52 s)         1\n",
      "      solver  :   t_proc      (avg)   t_wall      (avg)    n_eval\n",
      "       nlp_f  | 109.00ms (694.27us) 109.42ms (696.97us)       157\n",
      "  nlp_grad_f  | 137.00ms (  1.34ms) 133.54ms (  1.31ms)       102\n",
      "  nlp_hess_l  |   8.82 s ( 88.17ms)   8.82 s ( 88.19ms)       100\n",
      "       total  |   9.13 s (  9.13 s)   9.13 s (  9.13 s)         1\n",
      "      solver  :   t_proc      (avg)   t_wall      (avg)    n_eval\n",
      "       nlp_f  | 113.00ms (701.86us) 113.50ms (704.98us)       161\n",
      "  nlp_grad_f  | 103.00ms (  1.01ms) 102.28ms (  1.00ms)       102\n",
      "  nlp_hess_l  |   8.79 s ( 87.92ms)   8.79 s ( 87.92ms)       100\n",
      "       total  |   9.08 s (  9.08 s)   9.08 s (  9.08 s)         1\n",
      "      solver  :   t_proc      (avg)   t_wall      (avg)    n_eval\n",
      "       nlp_f  | 219.00ms (671.78us) 216.18ms (663.14us)       326\n",
      "  nlp_grad_f  | 209.00ms (  2.05ms) 209.66ms (  2.06ms)       102\n",
      "  nlp_hess_l  |   4.75 s ( 47.54ms)   4.76 s ( 47.57ms)       100\n",
      "       total  |   5.25 s (  5.25 s)   5.25 s (  5.25 s)         1\n"
     ]
    },
    {
     "name": "stderr",
     "output_type": "stream",
     "text": [
      "optim.DiscreteBoundedPSO:   1%|▋                                                               |1/100, best_cost=0.0137"
     ]
    },
    {
     "name": "stdout",
     "output_type": "stream",
     "text": [
      "      solver  :   t_proc      (avg)   t_wall      (avg)    n_eval\n",
      "       nlp_f  | 224.00ms (724.92us) 222.67ms (720.62us)       309\n",
      "  nlp_grad_f  | 176.00ms (  1.73ms) 178.46ms (  1.75ms)       102\n",
      "  nlp_hess_l  |   4.79 s ( 47.89ms)   4.79 s ( 47.88ms)       100\n",
      "       total  |   5.24 s (  5.24 s)   5.24 s (  5.24 s)         1\n"
     ]
    },
    {
     "name": "stderr",
     "output_type": "stream",
     "text": [
      "optim.DiscreteBoundedPSO:   2%|█▎                                                              |2/100, best_cost=0.0134"
     ]
    },
    {
     "name": "stdout",
     "output_type": "stream",
     "text": [
      "      solver  :   t_proc      (avg)   t_wall      (avg)    n_eval\n",
      "       nlp_f  |  77.00ms (658.12us)  78.10ms (667.55us)       117\n",
      "  nlp_grad_f  | 170.00ms (  1.67ms) 169.26ms (  1.66ms)       102\n",
      "  nlp_hess_l  |  15.20 s (151.98ms)  15.20 s (151.99ms)       100\n",
      "       total  |  15.49 s ( 15.49 s)  15.49 s ( 15.49 s)         1\n",
      "      solver  :   t_proc      (avg)   t_wall      (avg)    n_eval\n",
      "       nlp_f  |  47.00ms (401.71us)  46.87ms (400.64us)       117\n",
      "  nlp_grad_f  | 406.00ms (  3.98ms) 410.24ms (  4.02ms)       102\n",
      "  nlp_hess_l  |  14.49 s (144.93ms)  14.49 s (144.86ms)       100\n",
      "       total  |  15.02 s ( 15.02 s)  15.02 s ( 15.02 s)         1\n",
      "      solver  :   t_proc      (avg)   t_wall      (avg)    n_eval\n",
      "       nlp_f  | 102.00ms (662.34us) 103.29ms (670.75us)       154\n",
      "  nlp_grad_f  | 159.00ms (  1.56ms) 161.71ms (  1.59ms)       102\n",
      "  nlp_hess_l  |  10.51 s (105.14ms)  10.51 s (105.10ms)       100\n",
      "       total  |  10.86 s ( 10.86 s)  10.86 s ( 10.86 s)         1\n"
     ]
    },
    {
     "name": "stderr",
     "output_type": "stream",
     "text": [
      "optim.DiscreteBoundedPSO:   3%|█▉                                                              |3/100, best_cost=0.0126"
     ]
    },
    {
     "name": "stdout",
     "output_type": "stream",
     "text": [
      "      solver  :   t_proc      (avg)   t_wall      (avg)    n_eval\n",
      "       nlp_f  | 101.00ms (759.40us) 100.28ms (753.96us)       133\n",
      "  nlp_grad_f  | 165.00ms (  1.62ms) 165.25ms (  1.62ms)       102\n",
      "  nlp_hess_l  |  10.54 s (105.39ms)  10.56 s (105.56ms)       100\n",
      "       total  |  10.88 s ( 10.88 s)  10.88 s ( 10.88 s)         1\n",
      "      solver  :   t_proc      (avg)   t_wall      (avg)    n_eval\n",
      "       nlp_f  | 127.00ms (461.82us) 125.03ms (454.67us)       275\n",
      "  nlp_grad_f  | 248.00ms (  2.43ms) 247.46ms (  2.43ms)       102\n",
      "  nlp_hess_l  |   6.33 s ( 63.28ms)   6.33 s ( 63.30ms)       100\n",
      "       total  |   6.75 s (  6.75 s)   6.75 s (  6.75 s)         1\n"
     ]
    },
    {
     "name": "stderr",
     "output_type": "stream",
     "text": [
      "optim.DiscreteBoundedPSO:   8%|█████                                                           |8/100, best_cost=0.0126"
     ]
    },
    {
     "name": "stdout",
     "output_type": "stream",
     "text": [
      "      solver  :   t_proc      (avg)   t_wall      (avg)    n_eval\n",
      "       nlp_f  | 133.00ms (480.14us) 131.50ms (474.72us)       277\n",
      "  nlp_grad_f  | 134.00ms (  1.31ms) 132.70ms (  1.30ms)       102\n",
      "  nlp_hess_l  |   6.65 s ( 66.51ms)   6.65 s ( 66.54ms)       100\n",
      "       total  |   6.96 s (  6.96 s)   6.96 s (  6.96 s)         1\n",
      "      solver  :   t_proc      (avg)   t_wall      (avg)    n_eval\n",
      "       nlp_f  | 117.00ms (975.00us) 115.88ms (965.70us)       120\n",
      "  nlp_grad_f  | 156.00ms (  1.53ms) 156.26ms (  1.53ms)       102\n",
      "  nlp_hess_l  |  12.55 s (125.54ms)  12.56 s (125.56ms)       100\n",
      "       total  |  12.87 s ( 12.87 s)  12.87 s ( 12.87 s)         1\n"
     ]
    },
    {
     "name": "stderr",
     "output_type": "stream",
     "text": [
      "optim.DiscreteBoundedPSO:  10%|██████▏                                                       |10/100, best_cost=0.00252"
     ]
    },
    {
     "name": "stdout",
     "output_type": "stream",
     "text": [
      "      solver  :   t_proc      (avg)   t_wall      (avg)    n_eval\n",
      "       nlp_f  | 162.00ms (  1.33ms) 164.27ms (  1.35ms)       122\n",
      "  nlp_grad_f  | 194.00ms (  1.90ms) 191.96ms (  1.88ms)       102\n",
      "  nlp_hess_l  |  12.73 s (127.35ms)  12.73 s (127.33ms)       100\n",
      "       total  |  13.20 s ( 13.20 s)  13.20 s ( 13.20 s)         1\n",
      "      solver  :   t_proc      (avg)   t_wall      (avg)    n_eval\n",
      "       nlp_f  |  70.00ms (281.12us)  69.05ms (277.31us)       249\n",
      "  nlp_grad_f  |  53.00ms (646.34us)  53.38ms (650.96us)        82\n",
      "  nlp_hess_l  |   1.30 s ( 16.19ms)   1.29 s ( 16.18ms)        80\n",
      "       total  |   1.51 s (  1.51 s)   1.51 s (  1.51 s)         1\n"
     ]
    },
    {
     "name": "stderr",
     "output_type": "stream",
     "text": [
      "optim.DiscreteBoundedPSO:  31%|███████████████████▏                                          |31/100, best_cost=0.00252"
     ]
    },
    {
     "name": "stdout",
     "output_type": "stream",
     "text": [
      "      solver  :   t_proc      (avg)   t_wall      (avg)    n_eval\n",
      "       nlp_f  | 118.00ms (448.67us) 116.05ms (441.27us)       263\n",
      "  nlp_grad_f  | 141.00ms (  1.64ms) 140.47ms (  1.63ms)        86\n",
      "  nlp_hess_l  |   1.15 s ( 13.74ms)   1.16 s ( 13.76ms)        84\n",
      "       total  |   1.45 s (  1.45 s)   1.45 s (  1.45 s)         1\n"
     ]
    },
    {
     "name": "stderr",
     "output_type": "stream",
     "text": [
      "optim.DiscreteBoundedPSO: 100%|█████████████████████████████████████████████████████████████|100/100, best_cost=0.00252\n",
      "2021-04-15 10:13:00,167 - optim.DiscreteBoundedPSO - INFO - Optimization finished | best cost: 0.002519292654361298, best pos: [0 1 1]\n"
     ]
    }
   ],
   "source": [
    "PSO_results = HyperParameterPSO(model,data,param_bounds,n_particles, options,initializations,p_opts=p_opts,s_opts=s_opts)"
   ]
  },
  {
   "cell_type": "markdown",
   "id": "eleven-fence",
   "metadata": {},
   "source": [
    "HyperParameterPSO()returns a pandas dataframe containing the best validation loss of each particle and the corresponding model parameters."
   ]
  },
  {
   "cell_type": "code",
   "execution_count": 27,
   "id": "olive-sponsorship",
   "metadata": {},
   "outputs": [
    {
     "data": {
      "text/html": [
       "<div>\n",
       "<style scoped>\n",
       "    .dataframe tbody tr th:only-of-type {\n",
       "        vertical-align: middle;\n",
       "    }\n",
       "\n",
       "    .dataframe tbody tr th {\n",
       "        vertical-align: top;\n",
       "    }\n",
       "\n",
       "    .dataframe thead th {\n",
       "        text-align: right;\n",
       "    }\n",
       "</style>\n",
       "<table border=\"1\" class=\"dataframe\">\n",
       "  <thead>\n",
       "    <tr style=\"text-align: right;\">\n",
       "      <th></th>\n",
       "      <th>cost</th>\n",
       "      <th>model_params</th>\n",
       "    </tr>\n",
       "    <tr>\n",
       "      <th>dim_hidden</th>\n",
       "      <th></th>\n",
       "      <th></th>\n",
       "    </tr>\n",
       "  </thead>\n",
       "  <tbody>\n",
       "    <tr>\n",
       "      <th>1</th>\n",
       "      <td>[2.0827578670313702]</td>\n",
       "      <td>[{'W_h': [[-3.22011515e-04  7.47505163e-02  7....</td>\n",
       "    </tr>\n",
       "    <tr>\n",
       "      <th>2</th>\n",
       "      <td>[1.1219703715487939]</td>\n",
       "      <td>[{'W_h': [[ 0.00182198  0.10697149 -1.12337142...</td>\n",
       "    </tr>\n",
       "    <tr>\n",
       "      <th>3</th>\n",
       "      <td>[0.014427683238014377]</td>\n",
       "      <td>[{'W_h': [[ 0.01726984  0.01881762 -0.00540049...</td>\n",
       "    </tr>\n",
       "    <tr>\n",
       "      <th>4</th>\n",
       "      <td>[0.012872430054185393]</td>\n",
       "      <td>[{'W_h': [[-0.00218267 -0.05646897 -0.00266327...</td>\n",
       "    </tr>\n",
       "    <tr>\n",
       "      <th>5</th>\n",
       "      <td>[0.013680077142890074]</td>\n",
       "      <td>[{'W_h': [[0.00313866 0.05203607 0.00904181 0....</td>\n",
       "    </tr>\n",
       "    <tr>\n",
       "      <th>6</th>\n",
       "      <td>[0.012615573914793527]</td>\n",
       "      <td>[{'W_h': [[ 0.1010771   0.10332645 -0.00261455...</td>\n",
       "    </tr>\n",
       "    <tr>\n",
       "      <th>7</th>\n",
       "      <td>[0.002519292654361298]</td>\n",
       "      <td>[{'W_h': [[-0.05024608  0.08556625  0.612577  ...</td>\n",
       "    </tr>\n",
       "    <tr>\n",
       "      <th>8</th>\n",
       "      <td>[0.013437988569568468]</td>\n",
       "      <td>[{'W_h': [[-0.03918223 -0.11488997  0.00758014...</td>\n",
       "    </tr>\n",
       "    <tr>\n",
       "      <th>9</th>\n",
       "      <td>NaN</td>\n",
       "      <td>NaN</td>\n",
       "    </tr>\n",
       "    <tr>\n",
       "      <th>10</th>\n",
       "      <td>NaN</td>\n",
       "      <td>NaN</td>\n",
       "    </tr>\n",
       "  </tbody>\n",
       "</table>\n",
       "</div>"
      ],
      "text/plain": [
       "                              cost  \\\n",
       "dim_hidden                           \n",
       "1             [2.0827578670313702]   \n",
       "2             [1.1219703715487939]   \n",
       "3           [0.014427683238014377]   \n",
       "4           [0.012872430054185393]   \n",
       "5           [0.013680077142890074]   \n",
       "6           [0.012615573914793527]   \n",
       "7           [0.002519292654361298]   \n",
       "8           [0.013437988569568468]   \n",
       "9                              NaN   \n",
       "10                             NaN   \n",
       "\n",
       "                                                 model_params  \n",
       "dim_hidden                                                     \n",
       "1           [{'W_h': [[-3.22011515e-04  7.47505163e-02  7....  \n",
       "2           [{'W_h': [[ 0.00182198  0.10697149 -1.12337142...  \n",
       "3           [{'W_h': [[ 0.01726984  0.01881762 -0.00540049...  \n",
       "4           [{'W_h': [[-0.00218267 -0.05646897 -0.00266327...  \n",
       "5           [{'W_h': [[0.00313866 0.05203607 0.00904181 0....  \n",
       "6           [{'W_h': [[ 0.1010771   0.10332645 -0.00261455...  \n",
       "7           [{'W_h': [[-0.05024608  0.08556625  0.612577  ...  \n",
       "8           [{'W_h': [[-0.03918223 -0.11488997  0.00758014...  \n",
       "9                                                         NaN  \n",
       "10                                                        NaN  "
      ]
     },
     "execution_count": 27,
     "metadata": {},
     "output_type": "execute_result"
    }
   ],
   "source": [
    "print(PSO_results)"
   ]
  },
  {
   "cell_type": "markdown",
   "id": "taken-subsection",
   "metadata": {},
   "source": [
    "If, e.g. satisfactory results have been achieved with three neurons in the hidden layer (dim_hidden=3), then the user first has to create a model with the appropriate structure:"
   ]
  },
  {
   "cell_type": "code",
   "execution_count": 28,
   "id": "likely-hampton",
   "metadata": {},
   "outputs": [],
   "source": [
    "new_model = MLP(dim_u=2,dim_x=2,dim_hidden=3,name='MLP_dim_hidden_3')"
   ]
  },
  {
   "cell_type": "markdown",
   "id": "atmospheric-liver",
   "metadata": {},
   "source": [
    "and then assign the corresponding parameters"
   ]
  },
  {
   "cell_type": "code",
   "execution_count": 29,
   "id": "fresh-stomach",
   "metadata": {},
   "outputs": [],
   "source": [
    "new_model.Parameters = PSO_results.loc[3,'model_params']"
   ]
  },
  {
   "cell_type": "markdown",
   "id": "aboriginal-detective",
   "metadata": {},
   "source": [
    "It is noticable, that the PSO did return Nan as result for the particles with nine and ten neurons in the hidden layer. This can happen, if the optimization fails, e.g. due to an unfavourable initialization. In this case however, the reason lies in the binary encoding of the discrete optimization variable dim_hidden: In order to encode 8 different values, a binary number with 3 digits is necessary. The binary encoding of 10 different values requires 4 digits, but this would also make 11 and 12 viable solutions, which lie outside of the user-specified bounds. So the PSO automatically reduces the solution space in order to guarantee that the user specified bounds are respected."
   ]
  },
  {
   "cell_type": "code",
   "execution_count": null,
   "id": "organized-america",
   "metadata": {},
   "outputs": [],
   "source": []
  }
 ],
 "metadata": {
  "kernelspec": {
   "display_name": "Python 3",
   "language": "python",
   "name": "python3"
  },
  "language_info": {
   "codemirror_mode": {
    "name": "ipython",
    "version": 3
   },
   "file_extension": ".py",
   "mimetype": "text/x-python",
   "name": "python",
   "nbconvert_exporter": "python",
   "pygments_lexer": "ipython3",
   "version": "3.8.8"
  }
 },
 "nbformat": 4,
 "nbformat_minor": 5
}
