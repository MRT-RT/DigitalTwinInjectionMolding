{
 "cells": [
  {
   "cell_type": "markdown",
   "id": "6bb9e6ea-cd09-4f1d-842f-75c3f02df0f6",
   "metadata": {},
   "source": [
    "# Dynamische modellbasierte Optimierung Spritzgießprozess"
   ]
  },
  {
   "cell_type": "code",
   "execution_count": null,
   "id": "57131a02-7c3c-4877-b06a-38cd086684eb",
   "metadata": {},
   "outputs": [],
   "source": []
  }
 ],
 "metadata": {
  "kernelspec": {
   "display_name": "Python 3 (ipykernel)",
   "language": "python",
   "name": "python3"
  },
  "language_info": {
   "codemirror_mode": {
    "name": "ipython",
    "version": 3
   },
   "file_extension": ".py",
   "mimetype": "text/x-python",
   "name": "python",
   "nbconvert_exporter": "python",
   "pygments_lexer": "ipython3",
   "version": "3.9.7"
  }
 },
 "nbformat": 4,
 "nbformat_minor": 5
}
