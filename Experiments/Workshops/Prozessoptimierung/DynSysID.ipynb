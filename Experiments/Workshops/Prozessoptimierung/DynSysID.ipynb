{
 "cells": [
  {
   "cell_type": "code",
   "execution_count": 1,
   "id": "27461439-183a-4bd3-854b-9b7a1cd16791",
   "metadata": {},
   "outputs": [],
   "source": [
    "import casadi as cs\n",
    "import pickle as pkl\n",
    "import matplotlib.pyplot as plt\n",
    "import numpy as np\n",
    "import pandas as pd"
   ]
  },
  {
   "cell_type": "markdown",
   "id": "7e4f760f-332a-4af8-b3ac-43730e310c6f",
   "metadata": {},
   "source": [
    "Gegeben seien Messdaten eines dynamischen technischen Prozesses mit einem Eingangssignal $u_{1}$ und einem Ausgangssignal $y_{1}$"
   ]
  },
  {
   "cell_type": "code",
   "execution_count": 2,
   "id": "aa06affb-a20a-46a5-9891-a37f69b1b147",
   "metadata": {},
   "outputs": [],
   "source": [
    "A = np.array([[0.5, -0.5], [0.5, 0.5]])\n",
    "B = np.array([[0], [2]])\n",
    "C = np.array([[0, 1]])\n",
    "\n",
    "u =[[np.random.randint(-20,20)/10]*l[0] for l in np.random.randint(20,50,(10,1))]\n",
    "u = np.hstack(u).reshape(-1,1)\n",
    "\n",
    "x = [np.zeros((2,1))]\n",
    "y = []\n",
    "\n",
    "for uk in u:\n",
    "    x_new = A.dot(x[-1]) + B.dot(uk.reshape(1,1))\n",
    "    y.append(C.dot(x[-1]) + np.random.normal(0,0.1))\n",
    "    x.append(x_new)\n",
    "y = np.vstack(y)\n",
    "df = pd.DataFrame(data=np.hstack([u,y]),columns=['u','y'])\n",
    "pkl.dump(df,open('dynamic_data.pkl','wb'))"
   ]
  },
  {
   "cell_type": "code",
   "execution_count": 3,
   "id": "278f4d79-d4cd-450d-af4c-535bcbcb965f",
   "metadata": {},
   "outputs": [
    {
     "data": {
      "text/plain": [
       "[<matplotlib.lines.Line2D at 0x7f29c38a7c10>]"
      ]
     },
     "execution_count": 3,
     "metadata": {},
     "output_type": "execute_result"
    },
    {
     "data": {
      "image/png": "[encoded data removed]",
      "text/plain": [
       "<Figure size 432x288 with 1 Axes>"
      ]
     },
     "metadata": {
      "needs_background": "light"
     },
     "output_type": "display_data"
    }
   ],
   "source": [
    "D = pkl.load(open('dynamic_data.pkl','rb'))\n",
    "\n",
    "fig,ax = plt.subplots(1,1)\n",
    "ax.plot(D['u'])\n",
    "ax.plot(D['y'])"
   ]
  },
  {
   "cell_type": "markdown",
   "id": "5a48dcbf-d7cc-468b-b708-bc025ed4ffd8",
   "metadata": {},
   "source": [
    "Als Modellierungsansatz wird ein dynamisches Modell zweiter Ordnung gewählt:\n",
    "$$\n",
    "\\begin{bmatrix}x_{1,k+1}\\\\x_{2,k+1}\\end{bmatrix} = \n",
    "\\begin{bmatrix}a_{11} & a_{12}\\\\a_{21} & a_{22}\\end{bmatrix}\n",
    "\\begin{bmatrix}x_{1,k}\\\\x_{2,k}\\end{bmatrix}\n",
    "+\n",
    "\\begin{bmatrix}b_{1,1}\\\\b_{2,1}\\end{bmatrix}\n",
    "u_{k}\n",
    "$$\n",
    "$$\n",
    "y_{k} = \\begin{bmatrix}c_{1,1} & c_{1,2}\\end{bmatrix} \\begin{bmatrix}x_{1,k}\\\\x_{2,k}\\end{bmatrix}\n",
    "$$"
   ]
  },
  {
   "cell_type": "code",
   "execution_count": 4,
   "id": "6b1cad50-1efb-404d-a6b6-acc3c9e2e434",
   "metadata": {},
   "outputs": [],
   "source": [
    "x = cs.MX.sym('x',2,1)\n",
    "u = cs.MX.sym('u',1,1)\n",
    "\n",
    "A = cs.MX.sym('A',2,2)\n",
    "B = cs.MX.sym('B',2,1)\n",
    "C = cs.MX.sym('C',1,2)\n",
    "\n",
    "x_new = cs.mtimes(A,x) + cs.mtimes(B,u)\n",
    "y = cs.mtimes(C,x)\n",
    "\n",
    "theta = cs.vcat([A.reshape((-1,1)),B.reshape((-1,1)),C.reshape((-1,1))])\n",
    "\n",
    "f_model = cs.Function('f_model',[u,x,A,B,C],[x_new,y],['u','x','A','B','C'],['x_new','y'])\n"
   ]
  },
  {
   "cell_type": "markdown",
   "id": "50f7ec97-5aa2-467a-bd7c-83e97a79c918",
   "metadata": {},
   "source": [
    "Die Ausgabe des Modells y hängt nun vom Zustand im vorigen Zustand ab. "
   ]
  },
  {
   "cell_type": "code",
   "execution_count": null,
   "id": "4c5cd5e0-3e5b-4103-9300-2bd79b9dc30b",
   "metadata": {},
   "outputs": [],
   "source": []
  },
  {
   "cell_type": "code",
   "execution_count": 5,
   "id": "8c23d382-2da3-4504-b2b0-7f5a07870169",
   "metadata": {},
   "outputs": [
    {
     "name": "stdout",
     "output_type": "stream",
     "text": [
      "\n",
      "******************************************************************************\n",
      "This program contains Ipopt, a library for large-scale nonlinear optimization.\n",
      " Ipopt is released as open source code under the Eclipse Public License (EPL).\n",
      "         For more information visit http://projects.coin-or.org/Ipopt\n",
      "******************************************************************************\n",
      "\n",
      "This is Ipopt version 3.12.3, running with linear solver mumps.\n",
      "NOTE: Other linear solvers might be more efficient (see Ipopt documentation).\n",
      "\n",
      "Number of nonzeros in equality constraint Jacobian...:        0\n",
      "Number of nonzeros in inequality constraint Jacobian.:        0\n",
      "Number of nonzeros in Lagrangian Hessian.............:       36\n",
      "\n",
      "Total number of variables............................:        8\n",
      "                     variables with only lower bounds:        0\n",
      "                variables with lower and upper bounds:        0\n",
      "                     variables with only upper bounds:        0\n",
      "Total number of equality constraints.................:        0\n",
      "Total number of inequality constraints...............:        0\n",
      "        inequality constraints with only lower bounds:        0\n",
      "   inequality constraints with lower and upper bounds:        0\n",
      "        inequality constraints with only upper bounds:        0\n",
      "\n",
      "iter    objective    inf_pr   inf_du lg(mu)  ||d||  lg(rg) alpha_du alpha_pr  ls\n",
      "   0  1.0773178e+03 0.00e+00 0.00e+00  -1.0 0.00e+00    -  0.00e+00 0.00e+00   0\n",
      "\n",
      "Number of Iterations....: 0\n",
      "\n",
      "                                   (scaled)                 (unscaled)\n",
      "Objective...............:   1.0773178413953049e+03    1.0773178413953049e+03\n",
      "Dual infeasibility......:   0.0000000000000000e+00    0.0000000000000000e+00\n",
      "Constraint violation....:   0.0000000000000000e+00    0.0000000000000000e+00\n",
      "Complementarity.........:   0.0000000000000000e+00    0.0000000000000000e+00\n",
      "Overall NLP error.......:   0.0000000000000000e+00    0.0000000000000000e+00\n",
      "\n",
      "\n",
      "Number of objective function evaluations             = 1\n",
      "Number of objective gradient evaluations             = 1\n",
      "Number of equality constraint evaluations            = 0\n",
      "Number of inequality constraint evaluations          = 0\n",
      "Number of equality constraint Jacobian evaluations   = 0\n",
      "Number of inequality constraint Jacobian evaluations = 0\n",
      "Number of Lagrangian Hessian evaluations             = 0\n",
      "Total CPU secs in IPOPT (w/o function evaluations)   =      0.001\n",
      "Total CPU secs in NLP function evaluations           =      0.001\n",
      "\n",
      "EXIT: Optimal Solution Found.\n",
      "      solver  :   t_proc      (avg)   t_wall      (avg)    n_eval\n",
      "       nlp_f  | 312.00us (312.00us) 312.48us (312.48us)         1\n",
      "  nlp_grad_f  |   1.54ms (770.00us)   1.54ms (770.59us)         2\n",
      "       total  |   2.79ms (  2.79ms)   2.74ms (  2.74ms)         1\n"
     ]
    }
   ],
   "source": [
    "opti = cs.Opti() # \n",
    "A = opti.variable(2,2)\n",
    "B = opti.variable(2,1)\n",
    "C = opti.variable(1,2)\n",
    "\n",
    "L = 0\n",
    "\n",
    "x = [np.zeros((2,1))]\n",
    "y = []\n",
    "\n",
    "for k in range(0,len(D)):\n",
    "    u_k = D.loc[k][['u']].values.reshape((1,1))\n",
    "    \n",
    "    y_k = D.loc[k]['y']\n",
    "    \n",
    "    est = f_model(u=u_k, x = x[-1], A=A,B=B,C=C)\n",
    "    x.append(est['x_new'])\n",
    "    y.append(est['y'])\n",
    "\n",
    "    L = L + 0.5*(est['y'] - y_k)**2\n",
    "    \n",
    "opti.minimize(L)\n",
    "opti.solver('ipopt')\n",
    "sol = opti.solve()"
   ]
  },
  {
   "cell_type": "code",
   "execution_count": 6,
   "id": "70cb170a-917e-4ee2-82fe-201b78f99493",
   "metadata": {},
   "outputs": [],
   "source": [
    "A_opt = sol.value(A)\n",
    "B_opt = sol.value(B)\n",
    "C_opt = sol.value(C)"
   ]
  },
  {
   "cell_type": "code",
   "execution_count": 7,
   "id": "aa607be3-d650-4c8d-b66e-b1c6ca840934",
   "metadata": {},
   "outputs": [
    {
     "data": {
      "text/plain": [
       "array([0., 0.])"
      ]
     },
     "execution_count": 7,
     "metadata": {},
     "output_type": "execute_result"
    }
   ],
   "source": [
    "A_opt\n",
    "B_opt\n",
    "C_opt"
   ]
  },
  {
   "cell_type": "code",
   "execution_count": 8,
   "id": "afc75ac5-d5bd-4de5-b70c-2f77ff86f3cd",
   "metadata": {},
   "outputs": [],
   "source": [
    "#opti.set_initial(A,np.array([[0.1,0.1],[0.1,0.1]]))\n",
    "#opti.set_initial(B,np.random.randn(2,1))\n",
    "#opti.set_initial(C,np.random.randn(1,2))\n",
    "\n",
    "\n",
    "opti.set_initial(A,np.array([[0.5, -0.5], [0.5, 0.5]]))\n",
    "opti.set_initial(B,np.array([[0], [2]]))\n",
    "opti.set_initial(C,np.array([[0, 1]]))\n"
   ]
  },
  {
   "cell_type": "code",
   "execution_count": 9,
   "id": "4f953d3c-95c7-484f-966f-38791a6ce534",
   "metadata": {},
   "outputs": [
    {
     "name": "stdout",
     "output_type": "stream",
     "text": [
      "This is Ipopt version 3.12.3, running with linear solver mumps.\n",
      "NOTE: Other linear solvers might be more efficient (see Ipopt documentation).\n",
      "\n",
      "Number of nonzeros in equality constraint Jacobian...:        0\n",
      "Number of nonzeros in inequality constraint Jacobian.:        0\n",
      "Number of nonzeros in Lagrangian Hessian.............:       36\n",
      "\n",
      "Total number of variables............................:        8\n",
      "                     variables with only lower bounds:        0\n",
      "                variables with lower and upper bounds:        0\n",
      "                     variables with only upper bounds:        0\n",
      "Total number of equality constraints.................:        0\n",
      "Total number of inequality constraints...............:        0\n",
      "        inequality constraints with only lower bounds:        0\n",
      "   inequality constraints with lower and upper bounds:        0\n",
      "        inequality constraints with only upper bounds:        0\n",
      "\n",
      "iter    objective    inf_pr   inf_du lg(mu)  ||d||  lg(rg) alpha_du alpha_pr  ls\n",
      "   0  1.5445066e+00 0.00e+00 4.28e+00  -1.0 0.00e+00    -  0.00e+00 0.00e+00   0\n",
      "   1  1.5308114e+00 0.00e+00 5.23e-01  -1.0 3.85e-03   2.0 1.00e+00 1.00e+00f  1\n",
      "   2  1.5294605e+00 0.00e+00 8.52e-02  -1.7 2.09e-03   1.5 1.00e+00 1.00e+00f  1\n",
      "   3  1.5294129e+00 0.00e+00 5.19e-03  -2.5 4.63e-04   1.0 1.00e+00 1.00e+00f  1\n",
      "   4  1.5294123e+00 0.00e+00 3.13e-04  -3.8 8.49e-05   0.6 1.00e+00 1.00e+00f  1\n",
      "   5  1.5294123e+00 0.00e+00 1.51e-05  -5.7 1.21e-05   0.1 1.00e+00 1.00e+00f  1\n",
      "   6  1.5294123e+00 0.00e+00 3.82e-07  -8.6 9.31e-07  -0.4 1.00e+00 1.00e+00f  1\n",
      "   7  1.5294123e+00 0.00e+00 3.50e-09  -8.6 2.55e-08  -0.9 1.00e+00 1.00e+00f  1\n",
      "\n",
      "Number of Iterations....: 7\n",
      "\n",
      "                                   (scaled)                 (unscaled)\n",
      "Objective...............:   1.5294123043979397e+00    1.5294123043979397e+00\n",
      "Dual infeasibility......:   3.4970908946441170e-09    3.4970908946441170e-09\n",
      "Constraint violation....:   0.0000000000000000e+00    0.0000000000000000e+00\n",
      "Complementarity.........:   0.0000000000000000e+00    0.0000000000000000e+00\n",
      "Overall NLP error.......:   3.4970908946441170e-09    3.4970908946441170e-09\n",
      "\n",
      "\n",
      "Number of objective function evaluations             = 8\n",
      "Number of objective gradient evaluations             = 8\n",
      "Number of equality constraint evaluations            = 0\n",
      "Number of inequality constraint evaluations          = 0\n",
      "Number of equality constraint Jacobian evaluations   = 0\n",
      "Number of inequality constraint Jacobian evaluations = 0\n",
      "Number of Lagrangian Hessian evaluations             = 7\n",
      "Total CPU secs in IPOPT (w/o function evaluations)   =      0.005\n",
      "Total CPU secs in NLP function evaluations           =      0.067\n",
      "\n",
      "EXIT: Optimal Solution Found.\n",
      "      solver  :   t_proc      (avg)   t_wall      (avg)    n_eval\n",
      "       nlp_f  |   2.96ms (370.00us)   2.96ms (370.35us)         8\n",
      "  nlp_grad_f  |   7.36ms (818.22us)   7.37ms (819.29us)         9\n",
      "  nlp_hess_l  |  60.23ms (  8.60ms)  59.97ms (  8.57ms)         7\n",
      "       total  |  76.46ms ( 76.46ms)  75.91ms ( 75.91ms)         1\n"
     ]
    }
   ],
   "source": [
    "sol = opti.solve()"
   ]
  },
  {
   "cell_type": "code",
   "execution_count": 10,
   "id": "c6d54d46-e80f-4e3c-b91a-59b9ab76d64f",
   "metadata": {},
   "outputs": [],
   "source": [
    "A_opt = sol.value(A)\n",
    "B_opt = sol.value(B)\n",
    "C_opt = sol.value(C)"
   ]
  },
  {
   "cell_type": "code",
   "execution_count": 11,
   "id": "8ed95200-b442-4bd6-a5e9-0ab5717a5c47",
   "metadata": {},
   "outputs": [],
   "source": [
    "x = [np.zeros((2,1))]\n",
    "y = []\n",
    "\n",
    "for k in range(0,len(D)):\n",
    "    u_k = D.loc[k][['u']].values.reshape((1,1))\n",
    "    \n",
    "    y_k = D.loc[k]['y']\n",
    "    \n",
    "    est = f_model(u=u_k, x = x[-1], A=A_opt,B=B_opt,C=C_opt)\n",
    "    x.append(est['x_new'])\n",
    "    y.append(est['y'])"
   ]
  },
  {
   "cell_type": "code",
   "execution_count": 12,
   "id": "02f6e450-02ab-4773-a5bf-7e966d67fdb5",
   "metadata": {},
   "outputs": [],
   "source": [
    "y_est = np.vstack(y)"
   ]
  },
  {
   "cell_type": "code",
   "execution_count": 13,
   "id": "15d27ab9-a625-4a42-9be9-b0caeaf8e6de",
   "metadata": {},
   "outputs": [
    {
     "data": {
      "text/plain": [
       "[<matplotlib.lines.Line2D at 0x7f29c237e250>]"
      ]
     },
     "execution_count": 13,
     "metadata": {},
     "output_type": "execute_result"
    },
    {
     "data": {
      "image/png": "[encoded data removed]",
      "text/plain": [
       "<Figure size 2160x720 with 1 Axes>"
      ]
     },
     "metadata": {
      "needs_background": "light"
     },
     "output_type": "display_data"
    }
   ],
   "source": [
    "fig,ax = plt.subplots(1,1)\n",
    "fig.set_size_inches((30,10))\n",
    "ax.plot(D['y'])\n",
    "ax.plot(y_est)\n"
   ]
  },
  {
   "cell_type": "code",
   "execution_count": 14,
   "id": "e2f49122-511f-4d41-97b4-8c8304b77303",
   "metadata": {},
   "outputs": [
    {
     "data": {
      "text/plain": [
       "array([[ 0.50415383, -0.50517807],\n",
       "       [ 0.50517017,  0.50474907]])"
      ]
     },
     "execution_count": 14,
     "metadata": {},
     "output_type": "execute_result"
    }
   ],
   "source": [
    "A_opt"
   ]
  },
  {
   "cell_type": "code",
   "execution_count": 15,
   "id": "937713b1-d1be-4038-a2c5-bf1269ad6011",
   "metadata": {},
   "outputs": [],
   "source": [
    "dyn_model = {'f_model':f_model,\n",
    "             'A_opt':A_opt,\n",
    "             'B_opt':B_opt,\n",
    "             'C_opt':C_opt}\n",
    "\n",
    "pkl.dump(dyn_model,open('dyn_model.pkl','wb') )"
   ]
  },
  {
   "cell_type": "code",
   "execution_count": null,
   "id": "c51c1c40-6fc9-43f0-8153-1866000a275b",
   "metadata": {},
   "outputs": [],
   "source": []
  },
  {
   "cell_type": "code",
   "execution_count": 16,
   "id": "3c1a6ea8-8d0f-4a3b-baf3-87284c6a6c41",
   "metadata": {},
   "outputs": [
    {
     "data": {
      "text/plain": [
       "array([[ 0.50415383, -0.50517807],\n",
       "       [ 0.50517017,  0.50474907]])"
      ]
     },
     "execution_count": 16,
     "metadata": {},
     "output_type": "execute_result"
    }
   ],
   "source": [
    "A_opt"
   ]
  },
  {
   "cell_type": "code",
   "execution_count": 17,
   "id": "b80afaef-db1a-489b-88e5-32a412f9a06f",
   "metadata": {},
   "outputs": [
    {
     "data": {
      "text/plain": [
       "array([6.78199135e-05, 2.00318444e+00])"
      ]
     },
     "execution_count": 17,
     "metadata": {},
     "output_type": "execute_result"
    }
   ],
   "source": [
    "B_opt"
   ]
  },
  {
   "cell_type": "code",
   "execution_count": 18,
   "id": "d214f397-8efb-4b3e-93c7-d1d5d5bc5bbf",
   "metadata": {},
   "outputs": [
    {
     "data": {
      "text/plain": [
       "array([-2.25382198e-04,  1.00639733e+00])"
      ]
     },
     "execution_count": 18,
     "metadata": {},
     "output_type": "execute_result"
    }
   ],
   "source": [
    "C_opt"
   ]
  },
  {
   "cell_type": "code",
   "execution_count": null,
   "id": "961a7e9c-7c21-43a7-b0f4-8d4050930a39",
   "metadata": {},
   "outputs": [],
   "source": []
  },
  {
   "cell_type": "code",
   "execution_count": null,
   "id": "2d24b3b8-5895-47de-a087-dde36315a692",
   "metadata": {},
   "outputs": [],
   "source": []
  }
 ],
 "metadata": {
  "kernelspec": {
   "display_name": "Python 3 (ipykernel)",
   "language": "python",
   "name": "python3"
  },
  "language_info": {
   "codemirror_mode": {
    "name": "ipython",
    "version": 3
   },
   "file_extension": ".py",
   "mimetype": "text/x-python",
   "name": "python",
   "nbconvert_exporter": "python",
   "pygments_lexer": "ipython3",
   "version": "3.9.12"
  }
 },
 "nbformat": 4,
 "nbformat_minor": 5
}
