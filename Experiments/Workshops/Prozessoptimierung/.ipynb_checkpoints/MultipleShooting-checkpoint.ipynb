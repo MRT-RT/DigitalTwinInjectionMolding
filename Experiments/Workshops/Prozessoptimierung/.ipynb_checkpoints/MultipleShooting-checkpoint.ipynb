{
 "cells": [
  {
   "cell_type": "markdown",
   "id": "c3c771cc-948f-4c90-aedf-750bdc6766c4",
   "metadata": {},
   "source": [
    "# Multiple Shooting"
   ]
  },
  {
   "cell_type": "code",
   "execution_count": 1,
   "id": "f187e1a1-889d-4c6b-8089-ff7ab72d5eac",
   "metadata": {},
   "outputs": [],
   "source": [
    "import casadi as cs\n",
    "import pickle as pkl\n",
    "import matplotlib.pyplot as plt\n",
    "import numpy as np\n",
    "import pandas as pd"
   ]
  },
  {
   "cell_type": "markdown",
   "id": "0ccc9cd2-bab5-4aab-a744-dff2d8a65623",
   "metadata": {},
   "source": [
    "Das Single Shooting Verfahren (Einfachschießverfahren) basiert auf dem Prinzip der sequentiellen Simulation und Optimierung. Das System wird zunächst in Abhängigkeit der unbekannten Steuerfolge $\\{\\boldsymbol{u}_{k}\\}_{k=0}^{N-1} = \\{\\boldsymbol{u}_{1},\\boldsymbol{u}_{2},\\dots,\\boldsymbol{u}_{N-1} \\}$ simuliert\n",
    "\\begin{align}\n",
    "\\boldsymbol{x}_{1} &= \\boldsymbol{f}(\\boldsymbol{x}_{0},\\boldsymbol{u}_{0})\\\\\n",
    "\\boldsymbol{x}_{2} &= \\boldsymbol{f}(\\boldsymbol{x}_{1},\\boldsymbol{u}_{1}) =  \\boldsymbol{f}(\\boldsymbol{f}(\\boldsymbol{x}_{0},\\boldsymbol{u}_{0}),\\boldsymbol{u}_{1})\\\\\n",
    "\\boldsymbol{x}_{3} &= \\boldsymbol{f}(\\boldsymbol{x}_{2},\\boldsymbol{u}_{2}) =  \\boldsymbol{f}(\\boldsymbol{f}(\\boldsymbol{f}(\\boldsymbol{x}_{0},\\boldsymbol{u}_{0}),\\boldsymbol{u}_{1}),\\boldsymbol{u}_{2}) \\\\\n",
    "\\vdots &= \\vdots\n",
    "\\end{align}"
   ]
  },
  {
   "cell_type": "markdown",
   "id": "05627b6d-71a4-4f1e-89b1-85eb4e174b7d",
   "metadata": {},
   "source": [
    "Lade bereits identifiziertes Modell"
   ]
  },
  {
   "cell_type": "code",
   "execution_count": 2,
   "id": "c2d38545-0564-4c3e-9843-ebf85d8b3117",
   "metadata": {},
   "outputs": [],
   "source": [
    "dyn_model = pkl.load(open('dyn_model.pkl','rb') )\n",
    "\n",
    "f_model = dyn_model['f_model']\n",
    "A_opt = dyn_model['A_opt']\n",
    "B_opt = dyn_model['B_opt']\n",
    "C_opt = dyn_model['C_opt']\n",
    "\n"
   ]
  },
  {
   "cell_type": "markdown",
   "id": "84c12842-2c9d-4ef1-8c4a-e7bc72e297ba",
   "metadata": {},
   "source": [
    "Simuliere identifiziertes Modell in Abhängigkeit einer unbekannten Steuerfolge"
   ]
  },
  {
   "cell_type": "code",
   "execution_count": 3,
   "id": "f4dde49f-3687-48ca-89da-48dcccddb3d3",
   "metadata": {},
   "outputs": [],
   "source": [
    "opti = cs.Opti()\n",
    "\n",
    "N = 10\n",
    "\n",
    "U = opti.variable(N-1,1)\n",
    "S = opti.variable(2,N)\n",
    "\n",
    "y_est = []\n",
    "x_est = [S[:,0]]\n",
    "\n",
    "for k in range(U.shape[0]):\n",
    "    pred = f_model(u=U[k],x=x_est[-1],A=A_opt,B=B_opt,C=C_opt)\n",
    "    \n",
    "    x_est.append(pred['x_new'])\n",
    "    \n",
    "    opti.subject_to(x_est[-1] == S[:,k+1])\n",
    "\n",
    "    y_est.append(pred['y'])\n",
    "\n",
    "opti.subject_to(x_est[0] == np.zeros((2,1)))   \n",
    "\n",
    "# Listen in Arrays konvertieren\n",
    "y_est = cs.vcat(y_est)\n",
    "x_est = cs.hcat(x_est)"
   ]
  },
  {
   "cell_type": "markdown",
   "id": "e1ec22f4-e862-4918-9944-0987ab4bbd41",
   "metadata": {},
   "source": [
    "Als Referenztrajektorie wird exemplarisch eine langsame Sinusschwingung gewählt"
   ]
  },
  {
   "cell_type": "code",
   "execution_count": 4,
   "id": "b860b1e0-a8ae-4f52-977d-f16ecc6fb900",
   "metadata": {},
   "outputs": [
    {
     "data": {
      "text/plain": [
       "[<matplotlib.lines.Line2D at 0x7f51dccbfd90>]"
      ]
     },
     "execution_count": 4,
     "metadata": {},
     "output_type": "execute_result"
    },
    {
     "data": {
      "image/png": "[encoded data removed]",
      "text/plain": [
       "<Figure size 432x288 with 1 Axes>"
      ]
     },
     "metadata": {
      "needs_background": "light"
     },
     "output_type": "display_data"
    }
   ],
   "source": [
    "#y_ref = np.sin(1/300 * 2* np.pi *np.arange(0,N-1,1))\n",
    "#y_ref = y_ref.reshape((-1,1))\n",
    "\n",
    "y_ref =[[np.random.randint(-20,20)/10]*l[0] for l in np.random.randint(20,50,(10,1))]\n",
    "y_ref = np.hstack(y_ref).reshape(-1,1)[0:N-1,:]\n",
    "y_ref[0:10,:] = 0.2\n",
    "\n",
    "plt.plot(y_ref,marker='o')"
   ]
  },
  {
   "cell_type": "markdown",
   "id": "1d865b3e-b104-4563-a8b7-e1cd26d73292",
   "metadata": {},
   "source": [
    "Die Bewertung der Differenz zwischen Referenztrajektorie und prädizierter Trajektorie erfolgt mittels einer Kostenfunktion"
   ]
  },
  {
   "cell_type": "code",
   "execution_count": 5,
   "id": "f02052f7-ded8-417d-b9dc-60980286a6cb",
   "metadata": {},
   "outputs": [
    {
     "name": "stdout",
     "output_type": "stream",
     "text": [
      "\n",
      "******************************************************************************\n",
      "This program contains Ipopt, a library for large-scale nonlinear optimization.\n",
      " Ipopt is released as open source code under the Eclipse Public License (EPL).\n",
      "         For more information visit http://projects.coin-or.org/Ipopt\n",
      "******************************************************************************\n",
      "\n",
      "This is Ipopt version 3.12.3, running with linear solver mumps.\n",
      "NOTE: Other linear solvers might be more efficient (see Ipopt documentation).\n",
      "\n",
      "Number of nonzeros in equality constraint Jacobian...:      144\n",
      "Number of nonzeros in inequality constraint Jacobian.:        0\n",
      "Number of nonzeros in Lagrangian Hessian.............:       55\n",
      "\n",
      "Total number of variables............................:       29\n",
      "                     variables with only lower bounds:        0\n",
      "                variables with lower and upper bounds:        0\n",
      "                     variables with only upper bounds:        0\n",
      "Total number of equality constraints.................:       18\n",
      "Total number of inequality constraints...............:        0\n",
      "        inequality constraints with only lower bounds:        0\n",
      "   inequality constraints with lower and upper bounds:        0\n",
      "        inequality constraints with only upper bounds:        0\n",
      "\n",
      "iter    objective    inf_pr   inf_du lg(mu)  ||d||  lg(rg) alpha_du alpha_pr  ls\n",
      "   0  3.6000000e-01 0.00e+00 4.46e-01  -1.0 0.00e+00    -  0.00e+00 0.00e+00   0\n",
      "   1  3.3888947e-09 6.94e-17 2.98e-05  -1.7 2.98e-01  -4.0 1.00e+00 1.00e+00f  1\n",
      "   2  4.0200208e-18 5.55e-17 1.09e-09  -5.7 3.28e-05  -4.5 1.00e+00 1.00e+00h  1\n",
      "\n",
      "Number of Iterations....: 2\n",
      "\n",
      "                                   (scaled)                 (unscaled)\n",
      "Objective...............:   4.0200207809977505e-18    4.0200207809977505e-18\n",
      "Dual infeasibility......:   1.0932008651558321e-09    1.0932008651558321e-09\n",
      "Constraint violation....:   5.5511151231257827e-17    5.5511151231257827e-17\n",
      "Complementarity.........:   0.0000000000000000e+00    0.0000000000000000e+00\n",
      "Overall NLP error.......:   1.0932008651558321e-09    1.0932008651558321e-09\n",
      "\n",
      "\n",
      "Number of objective function evaluations             = 3\n",
      "Number of objective gradient evaluations             = 3\n",
      "Number of equality constraint evaluations            = 3\n",
      "Number of inequality constraint evaluations          = 0\n",
      "Number of equality constraint Jacobian evaluations   = 3\n",
      "Number of inequality constraint Jacobian evaluations = 0\n",
      "Number of Lagrangian Hessian evaluations             = 2\n",
      "Total CPU secs in IPOPT (w/o function evaluations)   =      0.003\n",
      "Total CPU secs in NLP function evaluations           =      0.001\n",
      "\n",
      "EXIT: Optimal Solution Found.\n",
      "      solver  :   t_proc      (avg)   t_wall      (avg)    n_eval\n",
      "       nlp_f  |  41.00us ( 13.67us)  41.83us ( 13.94us)         3\n",
      "       nlp_g  |  69.00us ( 23.00us)  68.86us ( 22.95us)         3\n",
      "  nlp_grad_f  | 166.00us ( 41.50us) 164.51us ( 41.13us)         4\n",
      "  nlp_hess_l  | 663.00us (331.50us) 659.24us (329.62us)         2\n",
      "   nlp_jac_g  | 637.00us (159.25us) 638.34us (159.59us)         4\n",
      "       total  |   5.17ms (  5.17ms)   4.98ms (  4.98ms)         1\n"
     ]
    }
   ],
   "source": [
    "L = cs.sumsqr((y_ref - y_est))\n",
    "\n",
    "opti.minimize(L)\n",
    "\n",
    "opti.solver('ipopt')\n",
    "\n",
    "#opti.set_initial(S,X_init)\n",
    "\n",
    "#opti.set_initial(U,U_init)\n",
    "\n",
    "sol = opti.solve()\n",
    "\n",
    "U_opt = sol.value(U)\n",
    "X_opt = sol.value(S)"
   ]
  },
  {
   "cell_type": "code",
   "execution_count": null,
   "id": "d07ecad5-4ec3-4caa-bffd-4dd7fad09e16",
   "metadata": {},
   "outputs": [],
   "source": []
  },
  {
   "cell_type": "markdown",
   "id": "4cd85a32-8fe5-41a6-a109-aa19d48b66aa",
   "metadata": {},
   "source": [
    "Simulate model for optimized input trajectory"
   ]
  },
  {
   "cell_type": "code",
   "execution_count": 7,
   "id": "4e51175b-63de-4cd2-8918-56b8e51f2c9d",
   "metadata": {},
   "outputs": [
    {
     "data": {
      "text/plain": [
       "[<matplotlib.lines.Line2D at 0x7f51db9e3e80>]"
      ]
     },
     "execution_count": 7,
     "metadata": {},
     "output_type": "execute_result"
    },
    {
     "data": {
      "image/png": "[encoded data removed]",
      "text/plain": [
       "<Figure size 432x288 with 1 Axes>"
      ]
     },
     "metadata": {
      "needs_background": "light"
     },
     "output_type": "display_data"
    }
   ],
   "source": [
    "x_opt = [X_opt[:,0]]\n",
    "y_opt = []\n",
    "\n",
    "for k in range(U_opt.shape[0]):\n",
    "    pred = f_model(u=U_opt[k],x=x_opt[-1],A=A_opt,B=B_opt,C=C_opt)\n",
    "    \n",
    "    x_opt.append(pred['x_new'])\n",
    "    y_opt.append(pred['y'])\n",
    "\n",
    "# opti.subject_to(S[0,:].T == np.array([[0],[0]]))    \n",
    "\n",
    "# Listen in Arrays konvertieren\n",
    "y_opt = cs.vcat(y_opt)\n",
    "x_opt = cs.hcat(x_opt)\n",
    "\n",
    "\n",
    "\n",
    "fig2,ax2 = plt.subplots(1,1)\n",
    "#ax2.plot(x_opt.T,marker='d')\n",
    "#ax2.plot(X_opt.T,marker='o')\n",
    "#ax2.plot(U_opt.T,marker='x')\n",
    "#ax2.plot(y_opt,marker='x')\n",
    "\n",
    "ax2.plot(y_ref,marker='x')\n",
    "ax2.plot(y_opt,marker='o')\n",
    "ax2.plot(U_opt,marker='d')\n"
   ]
  },
  {
   "cell_type": "markdown",
   "id": "9adcaa87-1666-40b7-a78d-09159f3ade80",
   "metadata": {},
   "source": [
    "Die Lösung des Optimalsteuerungsproblems basiert auf der Annahme, dass jede Stellgrößentrajektorie realisierbar ist. In praktischen Anwendungen existieren allerdings Beschränkungen bezüglich der realisierbaren Stellgrößen und Änderungen der Stellgrößen. Diese können durch Nebenbedingunen berücksichtigt werden:"
   ]
  },
  {
   "cell_type": "code",
   "execution_count": null,
   "id": "1a2a3a61-dfb2-4892-b6f6-17346f6b3b7d",
   "metadata": {},
   "outputs": [],
   "source": []
  },
  {
   "cell_type": "code",
   "execution_count": null,
   "id": "fd7a7f25-18c3-47c9-821c-ef4f3e588329",
   "metadata": {},
   "outputs": [],
   "source": []
  },
  {
   "cell_type": "code",
   "execution_count": null,
   "id": "d33c2335-244a-45e3-b58c-427531338281",
   "metadata": {},
   "outputs": [],
   "source": [
    "\n"
   ]
  },
  {
   "cell_type": "code",
   "execution_count": null,
   "id": "5ff896f1-43cc-4a52-8317-a1130bea1763",
   "metadata": {},
   "outputs": [],
   "source": []
  },
  {
   "cell_type": "code",
   "execution_count": null,
   "id": "6368c3d6-f85a-41bd-b969-bbc5121aae34",
   "metadata": {},
   "outputs": [],
   "source": []
  },
  {
   "cell_type": "code",
   "execution_count": null,
   "id": "64ff3886-1750-42c1-978c-ff8b5a5e423a",
   "metadata": {},
   "outputs": [],
   "source": []
  },
  {
   "cell_type": "code",
   "execution_count": null,
   "id": "864ebeb1-2e84-4f23-8a7d-82919d0fdbbd",
   "metadata": {},
   "outputs": [],
   "source": []
  },
  {
   "cell_type": "code",
   "execution_count": null,
   "id": "45c99efe-6f36-4349-bed1-0d0b00748ae2",
   "metadata": {},
   "outputs": [],
   "source": []
  }
 ],
 "metadata": {
  "kernelspec": {
   "display_name": "Python 3 (ipykernel)",
   "language": "python",
   "name": "python3"
  },
  "language_info": {
   "codemirror_mode": {
    "name": "ipython",
    "version": 3
   },
   "file_extension": ".py",
   "mimetype": "text/x-python",
   "name": "python",
   "nbconvert_exporter": "python",
   "pygments_lexer": "ipython3",
   "version": "3.9.12"
  }
 },
 "nbformat": 4,
 "nbformat_minor": 5
}
