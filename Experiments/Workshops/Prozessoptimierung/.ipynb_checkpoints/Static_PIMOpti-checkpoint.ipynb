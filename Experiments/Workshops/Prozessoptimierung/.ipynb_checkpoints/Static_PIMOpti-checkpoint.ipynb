{
 "cells": [
  {
   "cell_type": "markdown",
   "id": "41c209e9-97ba-4905-a53d-6b49aebe7721",
   "metadata": {},
   "source": [
    "# "
   ]
  }
 ],
 "metadata": {
  "kernelspec": {
   "display_name": "Python 3 (ipykernel)",
   "language": "python",
   "name": "python3"
  },
  "language_info": {
   "codemirror_mode": {
    "name": "ipython",
    "version": 3
   },
   "file_extension": ".py",
   "mimetype": "text/x-python",
   "name": "python",
   "nbconvert_exporter": "python",
   "pygments_lexer": "ipython3",
   "version": "3.9.12"
  }
 },
 "nbformat": 4,
 "nbformat_minor": 5
}
